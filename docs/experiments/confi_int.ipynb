{
 "cells": [
  {
   "cell_type": "code",
   "execution_count": 101,
   "id": "fb10ab9a",
   "metadata": {},
   "outputs": [
    {
     "name": "stdout",
     "output_type": "stream",
     "text": [
      "beta_hat: [ 1.06445722 -2.07456039]\n"
     ]
    }
   ],
   "source": [
    "import numpy as np\n",
    "from scipy.optimize import minimize, approx_fprime\n",
    "\n",
    "# Fake dataset\n",
    "np.random.seed(42)\n",
    "X = np.random.randn(10_000, 2)\n",
    "beta_true = np.array([1.0, -2.0])\n",
    "p = 1 / (1 + np.exp(-(X @ beta_true)))\n",
    "y = np.random.binomial(1, p)\n",
    "\n",
    "# BCE loss function (negative log-likelihood)\n",
    "def bce_loss(beta):\n",
    "    z = X @ beta\n",
    "    p_hat = 1 / (1 + np.exp(-z))\n",
    "    eps = 1e-9\n",
    "    return -np.sum(y * np.log(p_hat + eps) + (1 - y) * np.log(1 - p_hat + eps))\n",
    "\n",
    "# Fit the model\n",
    "res = minimize(bce_loss, x0=np.zeros(X.shape[1]), method=\"BFGS\")\n",
    "beta_hat = res.x\n",
    "print(\"beta_hat:\", beta_hat)\n"
   ]
  },
  {
   "cell_type": "code",
   "execution_count": 102,
   "id": "6de8fa8e",
   "metadata": {},
   "outputs": [],
   "source": [
    "def numerical_hessian(fun, x0, epsilon=1e-6):\n",
    "    n = len(x0)\n",
    "    H = np.zeros((n, n))\n",
    "    for i in range(n):\n",
    "        x_i_up = x0.copy()\n",
    "        x_i_down = x0.copy()\n",
    "        x_i_up[i] += epsilon\n",
    "        x_i_down[i] -= epsilon\n",
    "\n",
    "        grad_i_up = approx_fprime(x_i_up, fun, epsilon)\n",
    "        grad_i_down = approx_fprime(x_i_down, fun, epsilon)\n",
    "\n",
    "        H[:, i] = (grad_i_up - grad_i_down) / (2 * epsilon)\n",
    "    return H\n"
   ]
  },
  {
   "cell_type": "code",
   "execution_count": 103,
   "id": "c1acf04d",
   "metadata": {},
   "outputs": [],
   "source": [
    "def hessian_logistic(beta):\n",
    "    p_hat = 1 / (1 + np.exp(-(X @ beta)))\n",
    "    w = p_hat * (1 - p_hat)                # N vector\n",
    "    X_weighted = X * w[:, None]            # N x k\n",
    "    return X.T @ X_weighted                 # k x k\n"
   ]
  },
  {
   "cell_type": "code",
   "execution_count": 108,
   "id": "0f52c667",
   "metadata": {},
   "outputs": [
    {
     "name": "stdout",
     "output_type": "stream",
     "text": [
      "Standard errors: [0.03181739 0.04345654]\n",
      "95% CI lower: [ 1.00209513 -2.1597352 ]\n",
      "95% CI upper: [ 1.12681931 -1.98938557]\n"
     ]
    }
   ],
   "source": [
    "# Hessian at beta_hat\n",
    "H = numerical_hessian(bce_loss, beta_hat)\n",
    "\n",
    "# Covariance matrix = inverse Hessian\n",
    "cov_matrix = np.linalg.inv(H)\n",
    "se = np.sqrt(np.diag(cov_matrix))\n",
    "\n",
    "# 95% CI\n",
    "z = 1.96\n",
    "ci_lower = beta_hat - z * se\n",
    "ci_upper = beta_hat + z * se\n",
    "\n",
    "print(\"Standard errors:\", se)\n",
    "print(\"95% CI lower:\", ci_lower)\n",
    "print(\"95% CI upper:\", ci_upper)\n"
   ]
  },
  {
   "cell_type": "code",
   "execution_count": 23,
   "id": "92555827",
   "metadata": {},
   "outputs": [],
   "source": [
    "def se_ci_from_hessian(H, beta_hat, z=1.96):\n",
    "    cov_matrix = np.linalg.inv(H)\n",
    "    se = np.sqrt(np.diag(cov_matrix))\n",
    "    ci_lower = beta_hat - z * se\n",
    "    ci_upper = beta_hat + z * se\n",
    "    return se, ci_lower, ci_upper"
   ]
  },
  {
   "cell_type": "code",
   "execution_count": 35,
   "id": "0ea1734e",
   "metadata": {},
   "outputs": [
    {
     "name": "stdout",
     "output_type": "stream",
     "text": [
      "Standard errors: [0.03180573 0.04342601]\n",
      "95% CI lower: [ 1.00211799 -2.15967536]\n",
      "95% CI upper: [ 1.12679644 -1.98944541]\n"
     ]
    }
   ],
   "source": [
    "H = hessian_logistic(beta_hat)\n",
    "cov_matrix = np.linalg.inv(H)\n",
    "se = np.sqrt(np.diag(cov_matrix))\n",
    "\n",
    "# 95% CI\n",
    "z = 1.96\n",
    "ci_lower = beta_hat - z * se\n",
    "ci_upper = beta_hat + z * se\n",
    "\n",
    "print(\"Standard errors:\", se)\n",
    "print(\"95% CI lower:\", ci_lower)\n",
    "print(\"95% CI upper:\", ci_upper)\n"
   ]
  },
  {
   "cell_type": "markdown",
   "id": "0404acb7",
   "metadata": {},
   "source": [
    "## Multiplicative Model: MSE and CE Heissan"
   ]
  },
  {
   "cell_type": "code",
   "execution_count": 1,
   "id": "d5a741cc",
   "metadata": {},
   "outputs": [],
   "source": [
    "from quantbullet.linear_product_model._test_utils import generate_linear_product_example_data, plot_predictions_by_bins\n",
    "from quantbullet.linear_product_model import LinearProductRegressorScipy"
   ]
  },
  {
   "cell_type": "code",
   "execution_count": 2,
   "id": "9fa23e45",
   "metadata": {},
   "outputs": [],
   "source": [
    "import numpy as np\n",
    "from scipy.optimize import approx_fprime\n",
    "\n",
    "df, train_df, feature_groups = generate_linear_product_example_data( n_samples=100_000 )\n",
    "lpr_scipy = LinearProductRegressorScipy()"
   ]
  },
  {
   "cell_type": "code",
   "execution_count": 3,
   "id": "ef7eea4e",
   "metadata": {},
   "outputs": [
    {
     "data": {
      "text/plain": [
       "<quantbullet.linear_product_model.regressor.LinearProductRegressorScipy at 0x20f1fbfb9d0>"
      ]
     },
     "execution_count": 3,
     "metadata": {},
     "output_type": "execute_result"
    }
   ],
   "source": [
    "lpr_scipy.fit(train_df, df['y'], feature_groups=feature_groups)"
   ]
  },
  {
   "cell_type": "code",
   "execution_count": 50,
   "id": "9c8513d9",
   "metadata": {},
   "outputs": [],
   "source": [
    "# df['clf_scipy_pred'] = lpr_scipy.predict(train_df)\n",
    "# plot_predictions_by_bins(df, true_col='y', pred_col='clf_scipy_pred')"
   ]
  },
  {
   "cell_type": "code",
   "execution_count": 4,
   "id": "b51d9a6c",
   "metadata": {},
   "outputs": [
    {
     "data": {
      "text/plain": [
       "array([10.97399592, 14.2207433 , 10.03660043, ..., 10.34600834,\n",
       "       10.4776577 , 11.09124633])"
      ]
     },
     "execution_count": 4,
     "metadata": {},
     "output_type": "execute_result"
    }
   ],
   "source": [
    "lpr_scipy.predict(train_df)"
   ]
  },
  {
   "cell_type": "code",
   "execution_count": 5,
   "id": "e2a83737",
   "metadata": {},
   "outputs": [
    {
     "data": {
      "text/plain": [
       "array([12.70939763, 12.64263059, 10.91235164, ..., 11.6268746 ,\n",
       "       12.39166416, 12.88042641])"
      ]
     },
     "execution_count": 5,
     "metadata": {},
     "output_type": "execute_result"
    }
   ],
   "source": [
    "lpr_scipy.leave_out_feature_group_predict('x1', train_df)"
   ]
  },
  {
   "cell_type": "code",
   "execution_count": 6,
   "id": "475ce697",
   "metadata": {},
   "outputs": [
    {
     "data": {
      "text/plain": [
       "array([0.86345524, 1.12482471, 0.91974679, ..., 0.88983572, 0.84554081,\n",
       "       0.8610931 ])"
      ]
     },
     "execution_count": 6,
     "metadata": {},
     "output_type": "execute_result"
    }
   ],
   "source": [
    "lpr_scipy.leave_out_feature_group_predict('x2', train_df)"
   ]
  },
  {
   "cell_type": "code",
   "execution_count": 11,
   "id": "bd8bba5b",
   "metadata": {},
   "outputs": [
    {
     "data": {
      "text/plain": [
       "10.97399598086708"
      ]
     },
     "execution_count": 11,
     "metadata": {},
     "output_type": "execute_result"
    }
   ],
   "source": [
    "12.70939763 * 0.86345524"
   ]
  },
  {
   "cell_type": "code",
   "execution_count": 69,
   "id": "f31aa986",
   "metadata": {},
   "outputs": [],
   "source": [
    "import numpy as np\n",
    "from scipy.optimize import approx_fprime\n",
    "\n",
    "# Your trained parameters\n",
    "params_dict = lpr_scipy.coef_dict\n",
    "y = df['y'].values\n",
    "\n",
    "# Build betas and X_blocks from DataFrame\n",
    "feature_blocks = list(params_dict.keys())\n",
    "X_blocks = {}\n",
    "beta_vec = []\n",
    "block_slices = {}\n",
    "start = 0\n",
    "for block in feature_blocks:\n",
    "    features = list(params_dict[block].keys())\n",
    "    X_blocks[block] = train_df[features].values  # each feature is a column in df\n",
    "    b = np.array([params_dict[block][f] for f in features])\n",
    "    beta_vec.extend(b)\n",
    "    block_slices[block] = slice(start, start + len(features))\n",
    "    start += len(features)\n",
    "beta_vec = np.array(beta_vec)\n"
   ]
  },
  {
   "cell_type": "code",
   "execution_count": 70,
   "id": "fc7371dd",
   "metadata": {},
   "outputs": [],
   "source": [
    "def hessian_mse_exact(beta, X_blocks, block_slices, y):\n",
    "    # Build f_vals for each block\n",
    "    betas = {g: beta[sl] for g, sl in block_slices.items()}\n",
    "    f_vals = {g: X_blocks[g] @ betas[g] for g in X_blocks}\n",
    "    yhat = np.prod(list(f_vals.values()), axis=0)\n",
    "\n",
    "    # Precompute Q and R\n",
    "    Q = {}\n",
    "    for g in f_vals:\n",
    "        prod = np.ones(len(y))\n",
    "        for h in f_vals:\n",
    "            if h != g:\n",
    "                prod *= f_vals[h]\n",
    "        Q[g] = prod\n",
    "\n",
    "    # Build Hessian\n",
    "    p = len(beta)\n",
    "    H = np.zeros((p, p))\n",
    "    for g in f_vals:\n",
    "        Xg = X_blocks[g]\n",
    "        for gp in f_vals:\n",
    "            Xgp = X_blocks[gp]\n",
    "            idx_g = np.arange(block_slices[g].start, block_slices[g].stop)\n",
    "            idx_gp = np.arange(block_slices[gp].start, block_slices[gp].stop)\n",
    "            if g == gp:\n",
    "                H[np.ix_(idx_g, idx_gp)] = Xg.T @ ((Q[g]**2)[:, None] * Xgp)\n",
    "            else:\n",
    "                R = np.ones(len(y))\n",
    "                for h in f_vals:\n",
    "                    if h != g and h != gp:\n",
    "                        R *= f_vals[h]\n",
    "                H[np.ix_(idx_g, idx_gp)] = Xg.T @ (((Q[g] * Q[gp]) + (yhat - y) * R)[:, None] * Xgp)\n",
    "    return H\n"
   ]
  },
  {
   "cell_type": "code",
   "execution_count": 76,
   "id": "428e7ea6",
   "metadata": {},
   "outputs": [],
   "source": [
    "def mse_loss(beta):\n",
    "    betas = {g: beta[sl] for g, sl in block_slices.items()}\n",
    "    f_vals = {g: X_blocks[g] @ betas[g] for g in X_blocks}\n",
    "    yhat = np.prod(list(f_vals.values()), axis=0)\n",
    "    return 0.5 * np.sum((yhat - y)**2)\n",
    "\n",
    "def numerical_hessian(fun, beta, eps=1e-5):\n",
    "    n = len(beta)\n",
    "    H = np.zeros((n, n))\n",
    "    for i in range(n):\n",
    "        beta_up = beta.copy()\n",
    "        beta_dn = beta.copy()\n",
    "        beta_up[i] += eps\n",
    "        beta_dn[i] -= eps\n",
    "        grad_up = approx_fprime(beta_up, fun, eps)\n",
    "        grad_dn = approx_fprime(beta_dn, fun, eps)\n",
    "        H[:, i] = (grad_up - grad_dn) / (2 * eps)\n",
    "    return H\n"
   ]
  },
  {
   "cell_type": "code",
   "execution_count": 77,
   "id": "c31c238a",
   "metadata": {},
   "outputs": [
    {
     "name": "stdout",
     "output_type": "stream",
     "text": [
      "Max abs diff: 1105.0003138966858\n"
     ]
    }
   ],
   "source": [
    "H_exact = hessian_mse_exact(beta_vec, X_blocks, block_slices, y)\n",
    "H_num = numerical_hessian(mse_loss, beta_vec)\n",
    "\n",
    "print(\"Max abs diff:\", np.max(np.abs(H_exact - H_num)))\n"
   ]
  },
  {
   "cell_type": "code",
   "execution_count": 78,
   "id": "033d9211",
   "metadata": {},
   "outputs": [
    {
     "data": {
      "text/plain": [
       "array([-0.60135797, -0.29842903, -0.21136406, -0.13342004, -0.03549496,\n",
       "        0.03733245,  0.12995652,  0.20979408,  0.29988011, 14.04058783,\n",
       "       -0.70067447, -3.37625507,  0.16335006,  3.36230729,  0.31021311,\n",
       "       -3.31703575, -0.69977451,  2.95046555])"
      ]
     },
     "execution_count": 78,
     "metadata": {},
     "output_type": "execute_result"
    }
   ],
   "source": [
    "beta_vec"
   ]
  },
  {
   "cell_type": "code",
   "execution_count": 79,
   "id": "005ccaf7",
   "metadata": {},
   "outputs": [
    {
     "name": "stderr",
     "output_type": "stream",
     "text": [
      "C:\\Users\\yzhang\\AppData\\Local\\Temp;\\ipykernel_37896\\949678268.py:3: RuntimeWarning: invalid value encountered in sqrt\n",
      "  se = np.sqrt(np.diag(cov_matrix))\n"
     ]
    },
    {
     "data": {
      "text/plain": [
       "(array([       nan,        nan,        nan,        nan, 0.00292247,\n",
       "        0.00287894,        nan,        nan,        nan,        nan,\n",
       "        0.04358581,        nan, 0.03858   ,        nan, 0.03717844,\n",
       "               nan, 0.0300415 ,        nan]),\n",
       " array([        nan,         nan,         nan,         nan, -0.041223  ,\n",
       "         0.03168973,         nan,         nan,         nan,         nan,\n",
       "        -0.78610266,         nan,  0.08773326,         nan,  0.23734336,\n",
       "                nan, -0.75865585,         nan]),\n",
       " array([        nan,         nan,         nan,         nan, -0.02976692,\n",
       "         0.04297517,         nan,         nan,         nan,         nan,\n",
       "        -0.61524627,         nan,  0.23896685,         nan,  0.38308286,\n",
       "                nan, -0.64089317,         nan]))"
      ]
     },
     "execution_count": 79,
     "metadata": {},
     "output_type": "execute_result"
    }
   ],
   "source": [
    "se_ci_from_hessian(H_num, beta_vec)"
   ]
  },
  {
   "cell_type": "code",
   "execution_count": 80,
   "id": "769d7ccb",
   "metadata": {},
   "outputs": [
    {
     "data": {
      "text/plain": [
       "(array([0.11136736, 0.05516918, 0.03910284, 0.02480464, 0.00727972,\n",
       "        0.00757913, 0.02416893, 0.03881382, 0.0554366 , 2.60619136,\n",
       "        0.13853919, 0.62372872, 0.04930725, 0.62108722, 0.06911731,\n",
       "        0.61276032, 0.13491562, 0.54616928]),\n",
       " array([-0.819638  , -0.40656063, -0.28800563, -0.18203712, -0.04976321,\n",
       "         0.02247736,  0.08258542,  0.13371899,  0.19122437,  8.93245276,\n",
       "        -0.97221127, -4.59876336,  0.06670785,  2.14497634,  0.17474318,\n",
       "        -4.51804597, -0.96420912,  1.87997375]),\n",
       " array([-0.38307794, -0.19029743, -0.1347225 , -0.08480295, -0.02122671,\n",
       "         0.05218753,  0.17732763,  0.28586917,  0.40853586, 19.1487229 ,\n",
       "        -0.42913766, -2.15374679,  0.25999227,  4.57963824,  0.44568304,\n",
       "        -2.11602552, -0.43533991,  4.02095734]))"
      ]
     },
     "execution_count": 80,
     "metadata": {},
     "output_type": "execute_result"
    }
   ],
   "source": [
    "se_ci_from_hessian(H_exact, beta_vec)"
   ]
  }
 ],
 "metadata": {
  "kernelspec": {
   "display_name": ".venv",
   "language": "python",
   "name": "python3"
  },
  "language_info": {
   "codemirror_mode": {
    "name": "ipython",
    "version": 3
   },
   "file_extension": ".py",
   "mimetype": "text/x-python",
   "name": "python",
   "nbconvert_exporter": "python",
   "pygments_lexer": "ipython3",
   "version": "3.11.9"
  }
 },
 "nbformat": 4,
 "nbformat_minor": 5
}
