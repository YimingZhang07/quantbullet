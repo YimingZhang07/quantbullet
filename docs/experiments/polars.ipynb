{
 "cells": [
  {
   "cell_type": "code",
   "execution_count": 2,
   "id": "34b5f3b2",
   "metadata": {},
   "outputs": [],
   "source": [
    "import polars as pl\n",
    "import datetime as dt"
   ]
  },
  {
   "cell_type": "code",
   "execution_count": 41,
   "id": "481c5985",
   "metadata": {},
   "outputs": [],
   "source": [
    "from quantbullet.utils.data import generate_fake_loan_prices"
   ]
  },
  {
   "cell_type": "code",
   "execution_count": 42,
   "id": "cf5f2295",
   "metadata": {},
   "outputs": [],
   "source": [
    "df = generate_fake_loan_prices(\n",
    "    start_date=dt.date(2023, 1, 1),\n",
    "    end_date=dt.date(2023, 12, 31),\n",
    ")\n",
    "\n",
    "# convert to polars DataFrame\n",
    "df = pl.from_pandas(df)"
   ]
  },
  {
   "cell_type": "markdown",
   "id": "c1989506",
   "metadata": {},
   "source": [
    "## Windows"
   ]
  },
  {
   "cell_type": "code",
   "execution_count": 49,
   "id": "460f9637",
   "metadata": {},
   "outputs": [
    {
     "data": {
      "text/html": [
       "<div><style>\n",
       ".dataframe > thead > tr,\n",
       ".dataframe > tbody > tr {\n",
       "  text-align: right;\n",
       "  white-space: pre-wrap;\n",
       "}\n",
       "</style>\n",
       "<small>shape: (7, 5)</small><table border=\"1\" class=\"dataframe\"><thead><tr><th>Date</th><th>LoanID</th><th>Price</th><th>Balance</th><th>last_price</th></tr><tr><td>datetime[ns]</td><td>str</td><td>f64</td><td>i64</td><td>f64</td></tr></thead><tbody><tr><td>2023-01-24 00:00:00</td><td>&quot;LoanID0003&quot;</td><td>96.22</td><td>3000</td><td>null</td></tr><tr><td>2023-01-25 00:00:00</td><td>&quot;LoanID0003&quot;</td><td>99.53</td><td>3000</td><td>96.22</td></tr><tr><td>2023-01-26 00:00:00</td><td>&quot;LoanID0003&quot;</td><td>94.91</td><td>3000</td><td>99.53</td></tr><tr><td>2023-01-27 00:00:00</td><td>&quot;LoanID0003&quot;</td><td>96.45</td><td>3000</td><td>94.91</td></tr><tr><td>2023-01-28 00:00:00</td><td>&quot;LoanID0003&quot;</td><td>90.74</td><td>3000</td><td>96.45</td></tr><tr><td>2023-01-29 00:00:00</td><td>&quot;LoanID0003&quot;</td><td>104.43</td><td>3000</td><td>90.74</td></tr><tr><td>2023-01-30 00:00:00</td><td>&quot;LoanID0003&quot;</td><td>99.89</td><td>3000</td><td>104.43</td></tr></tbody></table></div>"
      ],
      "text/plain": [
       "shape: (7, 5)\n",
       "┌─────────────────────┬────────────┬────────┬─────────┬────────────┐\n",
       "│ Date                ┆ LoanID     ┆ Price  ┆ Balance ┆ last_price │\n",
       "│ ---                 ┆ ---        ┆ ---    ┆ ---     ┆ ---        │\n",
       "│ datetime[ns]        ┆ str        ┆ f64    ┆ i64     ┆ f64        │\n",
       "╞═════════════════════╪════════════╪════════╪═════════╪════════════╡\n",
       "│ 2023-01-24 00:00:00 ┆ LoanID0003 ┆ 96.22  ┆ 3000    ┆ null       │\n",
       "│ 2023-01-25 00:00:00 ┆ LoanID0003 ┆ 99.53  ┆ 3000    ┆ 96.22      │\n",
       "│ 2023-01-26 00:00:00 ┆ LoanID0003 ┆ 94.91  ┆ 3000    ┆ 99.53      │\n",
       "│ 2023-01-27 00:00:00 ┆ LoanID0003 ┆ 96.45  ┆ 3000    ┆ 94.91      │\n",
       "│ 2023-01-28 00:00:00 ┆ LoanID0003 ┆ 90.74  ┆ 3000    ┆ 96.45      │\n",
       "│ 2023-01-29 00:00:00 ┆ LoanID0003 ┆ 104.43 ┆ 3000    ┆ 90.74      │\n",
       "│ 2023-01-30 00:00:00 ┆ LoanID0003 ┆ 99.89  ┆ 3000    ┆ 104.43     │\n",
       "└─────────────────────┴────────────┴────────┴─────────┴────────────┘"
      ]
     },
     "execution_count": 49,
     "metadata": {},
     "output_type": "execute_result"
    }
   ],
   "source": [
    "df.with_columns(\n",
    "    last_price = pl.col(\"Price\").shift(1).over(\"LoanID\", order_by=\"Date\")\n",
    ").filter(\n",
    "    pl.col(\"LoanID\") == \"LoanID0003\"\n",
    ")\n"
   ]
  },
  {
   "cell_type": "code",
   "execution_count": 59,
   "id": "3757164d",
   "metadata": {},
   "outputs": [
    {
     "data": {
      "text/html": [
       "<div><style>\n",
       ".dataframe > thead > tr,\n",
       ".dataframe > tbody > tr {\n",
       "  text-align: right;\n",
       "  white-space: pre-wrap;\n",
       "}\n",
       "</style>\n",
       "<small>shape: (7, 5)</small><table border=\"1\" class=\"dataframe\"><thead><tr><th>Date</th><th>LoanID</th><th>Price</th><th>Balance</th><th>ma_2</th></tr><tr><td>datetime[ns]</td><td>str</td><td>f64</td><td>i64</td><td>f64</td></tr></thead><tbody><tr><td>2023-01-24 00:00:00</td><td>&quot;LoanID0003&quot;</td><td>96.22</td><td>3000</td><td>null</td></tr><tr><td>2023-01-25 00:00:00</td><td>&quot;LoanID0003&quot;</td><td>99.53</td><td>3000</td><td>null</td></tr><tr><td>2023-01-26 00:00:00</td><td>&quot;LoanID0003&quot;</td><td>94.91</td><td>3000</td><td>97.875</td></tr><tr><td>2023-01-27 00:00:00</td><td>&quot;LoanID0003&quot;</td><td>96.45</td><td>3000</td><td>97.22</td></tr><tr><td>2023-01-28 00:00:00</td><td>&quot;LoanID0003&quot;</td><td>90.74</td><td>3000</td><td>95.68</td></tr><tr><td>2023-01-29 00:00:00</td><td>&quot;LoanID0003&quot;</td><td>104.43</td><td>3000</td><td>93.595</td></tr><tr><td>2023-01-30 00:00:00</td><td>&quot;LoanID0003&quot;</td><td>99.89</td><td>3000</td><td>97.585</td></tr></tbody></table></div>"
      ],
      "text/plain": [
       "shape: (7, 5)\n",
       "┌─────────────────────┬────────────┬────────┬─────────┬────────┐\n",
       "│ Date                ┆ LoanID     ┆ Price  ┆ Balance ┆ ma_2   │\n",
       "│ ---                 ┆ ---        ┆ ---    ┆ ---     ┆ ---    │\n",
       "│ datetime[ns]        ┆ str        ┆ f64    ┆ i64     ┆ f64    │\n",
       "╞═════════════════════╪════════════╪════════╪═════════╪════════╡\n",
       "│ 2023-01-24 00:00:00 ┆ LoanID0003 ┆ 96.22  ┆ 3000    ┆ null   │\n",
       "│ 2023-01-25 00:00:00 ┆ LoanID0003 ┆ 99.53  ┆ 3000    ┆ null   │\n",
       "│ 2023-01-26 00:00:00 ┆ LoanID0003 ┆ 94.91  ┆ 3000    ┆ 97.875 │\n",
       "│ 2023-01-27 00:00:00 ┆ LoanID0003 ┆ 96.45  ┆ 3000    ┆ 97.22  │\n",
       "│ 2023-01-28 00:00:00 ┆ LoanID0003 ┆ 90.74  ┆ 3000    ┆ 95.68  │\n",
       "│ 2023-01-29 00:00:00 ┆ LoanID0003 ┆ 104.43 ┆ 3000    ┆ 93.595 │\n",
       "│ 2023-01-30 00:00:00 ┆ LoanID0003 ┆ 99.89  ┆ 3000    ┆ 97.585 │\n",
       "└─────────────────────┴────────────┴────────┴─────────┴────────┘"
      ]
     },
     "execution_count": 59,
     "metadata": {},
     "output_type": "execute_result"
    }
   ],
   "source": [
    "df.with_columns(\n",
    "    ma_2 = pl.col(\"Price\").shift(1).rolling_mean(2).over(\"LoanID\", order_by=\"Date\")\n",
    ").filter(\n",
    "    pl.col(\"LoanID\") == \"LoanID0003\"\n",
    ")\n"
   ]
  },
  {
   "cell_type": "markdown",
   "id": "a4557410",
   "metadata": {},
   "source": [
    "## Aggregations"
   ]
  },
  {
   "cell_type": "code",
   "execution_count": null,
   "id": "3e0abf56",
   "metadata": {},
   "outputs": [],
   "source": []
  }
 ],
 "metadata": {
  "kernelspec": {
   "display_name": ".venv",
   "language": "python",
   "name": "python3"
  },
  "language_info": {
   "codemirror_mode": {
    "name": "ipython",
    "version": 3
   },
   "file_extension": ".py",
   "mimetype": "text/x-python",
   "name": "python",
   "nbconvert_exporter": "python",
   "pygments_lexer": "ipython3",
   "version": "3.11.7"
  }
 },
 "nbformat": 4,
 "nbformat_minor": 5
}
