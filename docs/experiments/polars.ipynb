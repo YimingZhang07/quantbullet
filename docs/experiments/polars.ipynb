{
 "cells": [
  {
   "cell_type": "code",
   "execution_count": 8,
   "id": "34b5f3b2",
   "metadata": {},
   "outputs": [],
   "source": [
    "import polars as pl\n",
    "import datetime as dt"
   ]
  },
  {
   "cell_type": "code",
   "execution_count": 9,
   "id": "481c5985",
   "metadata": {},
   "outputs": [],
   "source": [
    "from quantbullet.utils.data import generate_fake_loan_prices"
   ]
  },
  {
   "cell_type": "code",
   "execution_count": 10,
   "id": "cf5f2295",
   "metadata": {},
   "outputs": [],
   "source": [
    "df = generate_fake_loan_prices(\n",
    "    start_date=dt.date(2023, 1, 1),\n",
    "    end_date=dt.date(2023, 12, 31),\n",
    ")\n",
    "\n",
    "# convert to polars DataFrame\n",
    "df = pl.from_pandas(df)"
   ]
  },
  {
   "cell_type": "markdown",
   "id": "c1989506",
   "metadata": {},
   "source": [
    "## Windows"
   ]
  },
  {
   "cell_type": "code",
   "execution_count": 11,
   "id": "460f9637",
   "metadata": {},
   "outputs": [
    {
     "data": {
      "text/html": [
       "<div><style>\n",
       ".dataframe > thead > tr,\n",
       ".dataframe > tbody > tr {\n",
       "  text-align: right;\n",
       "  white-space: pre-wrap;\n",
       "}\n",
       "</style>\n",
       "<small>shape: (7, 5)</small><table border=\"1\" class=\"dataframe\"><thead><tr><th>Date</th><th>LoanID</th><th>Price</th><th>Balance</th><th>last_price</th></tr><tr><td>datetime[ns]</td><td>str</td><td>f64</td><td>i64</td><td>f64</td></tr></thead><tbody><tr><td>2023-01-24 00:00:00</td><td>&quot;LoanID0003&quot;</td><td>96.22</td><td>3000</td><td>null</td></tr><tr><td>2023-01-25 00:00:00</td><td>&quot;LoanID0003&quot;</td><td>99.53</td><td>3000</td><td>96.22</td></tr><tr><td>2023-01-26 00:00:00</td><td>&quot;LoanID0003&quot;</td><td>94.91</td><td>3000</td><td>99.53</td></tr><tr><td>2023-01-27 00:00:00</td><td>&quot;LoanID0003&quot;</td><td>96.45</td><td>3000</td><td>94.91</td></tr><tr><td>2023-01-28 00:00:00</td><td>&quot;LoanID0003&quot;</td><td>90.74</td><td>3000</td><td>96.45</td></tr><tr><td>2023-01-29 00:00:00</td><td>&quot;LoanID0003&quot;</td><td>104.43</td><td>3000</td><td>90.74</td></tr><tr><td>2023-01-30 00:00:00</td><td>&quot;LoanID0003&quot;</td><td>99.89</td><td>3000</td><td>104.43</td></tr></tbody></table></div>"
      ],
      "text/plain": [
       "shape: (7, 5)\n",
       "┌─────────────────────┬────────────┬────────┬─────────┬────────────┐\n",
       "│ Date                ┆ LoanID     ┆ Price  ┆ Balance ┆ last_price │\n",
       "│ ---                 ┆ ---        ┆ ---    ┆ ---     ┆ ---        │\n",
       "│ datetime[ns]        ┆ str        ┆ f64    ┆ i64     ┆ f64        │\n",
       "╞═════════════════════╪════════════╪════════╪═════════╪════════════╡\n",
       "│ 2023-01-24 00:00:00 ┆ LoanID0003 ┆ 96.22  ┆ 3000    ┆ null       │\n",
       "│ 2023-01-25 00:00:00 ┆ LoanID0003 ┆ 99.53  ┆ 3000    ┆ 96.22      │\n",
       "│ 2023-01-26 00:00:00 ┆ LoanID0003 ┆ 94.91  ┆ 3000    ┆ 99.53      │\n",
       "│ 2023-01-27 00:00:00 ┆ LoanID0003 ┆ 96.45  ┆ 3000    ┆ 94.91      │\n",
       "│ 2023-01-28 00:00:00 ┆ LoanID0003 ┆ 90.74  ┆ 3000    ┆ 96.45      │\n",
       "│ 2023-01-29 00:00:00 ┆ LoanID0003 ┆ 104.43 ┆ 3000    ┆ 90.74      │\n",
       "│ 2023-01-30 00:00:00 ┆ LoanID0003 ┆ 99.89  ┆ 3000    ┆ 104.43     │\n",
       "└─────────────────────┴────────────┴────────┴─────────┴────────────┘"
      ]
     },
     "execution_count": 11,
     "metadata": {},
     "output_type": "execute_result"
    }
   ],
   "source": [
    "df.with_columns(\n",
    "    last_price = pl.col(\"Price\").shift(1).over(\"LoanID\", order_by=\"Date\")\n",
    ").filter(\n",
    "    pl.col(\"LoanID\") == \"LoanID0003\"\n",
    ")\n"
   ]
  },
  {
   "cell_type": "code",
   "execution_count": 12,
   "id": "3757164d",
   "metadata": {},
   "outputs": [
    {
     "data": {
      "text/html": [
       "<div><style>\n",
       ".dataframe > thead > tr,\n",
       ".dataframe > tbody > tr {\n",
       "  text-align: right;\n",
       "  white-space: pre-wrap;\n",
       "}\n",
       "</style>\n",
       "<small>shape: (7, 5)</small><table border=\"1\" class=\"dataframe\"><thead><tr><th>Date</th><th>LoanID</th><th>Price</th><th>Balance</th><th>ma_2</th></tr><tr><td>datetime[ns]</td><td>str</td><td>f64</td><td>i64</td><td>f64</td></tr></thead><tbody><tr><td>2023-01-24 00:00:00</td><td>&quot;LoanID0003&quot;</td><td>96.22</td><td>3000</td><td>null</td></tr><tr><td>2023-01-25 00:00:00</td><td>&quot;LoanID0003&quot;</td><td>99.53</td><td>3000</td><td>null</td></tr><tr><td>2023-01-26 00:00:00</td><td>&quot;LoanID0003&quot;</td><td>94.91</td><td>3000</td><td>97.875</td></tr><tr><td>2023-01-27 00:00:00</td><td>&quot;LoanID0003&quot;</td><td>96.45</td><td>3000</td><td>97.22</td></tr><tr><td>2023-01-28 00:00:00</td><td>&quot;LoanID0003&quot;</td><td>90.74</td><td>3000</td><td>95.68</td></tr><tr><td>2023-01-29 00:00:00</td><td>&quot;LoanID0003&quot;</td><td>104.43</td><td>3000</td><td>93.595</td></tr><tr><td>2023-01-30 00:00:00</td><td>&quot;LoanID0003&quot;</td><td>99.89</td><td>3000</td><td>97.585</td></tr></tbody></table></div>"
      ],
      "text/plain": [
       "shape: (7, 5)\n",
       "┌─────────────────────┬────────────┬────────┬─────────┬────────┐\n",
       "│ Date                ┆ LoanID     ┆ Price  ┆ Balance ┆ ma_2   │\n",
       "│ ---                 ┆ ---        ┆ ---    ┆ ---     ┆ ---    │\n",
       "│ datetime[ns]        ┆ str        ┆ f64    ┆ i64     ┆ f64    │\n",
       "╞═════════════════════╪════════════╪════════╪═════════╪════════╡\n",
       "│ 2023-01-24 00:00:00 ┆ LoanID0003 ┆ 96.22  ┆ 3000    ┆ null   │\n",
       "│ 2023-01-25 00:00:00 ┆ LoanID0003 ┆ 99.53  ┆ 3000    ┆ null   │\n",
       "│ 2023-01-26 00:00:00 ┆ LoanID0003 ┆ 94.91  ┆ 3000    ┆ 97.875 │\n",
       "│ 2023-01-27 00:00:00 ┆ LoanID0003 ┆ 96.45  ┆ 3000    ┆ 97.22  │\n",
       "│ 2023-01-28 00:00:00 ┆ LoanID0003 ┆ 90.74  ┆ 3000    ┆ 95.68  │\n",
       "│ 2023-01-29 00:00:00 ┆ LoanID0003 ┆ 104.43 ┆ 3000    ┆ 93.595 │\n",
       "│ 2023-01-30 00:00:00 ┆ LoanID0003 ┆ 99.89  ┆ 3000    ┆ 97.585 │\n",
       "└─────────────────────┴────────────┴────────┴─────────┴────────┘"
      ]
     },
     "execution_count": 12,
     "metadata": {},
     "output_type": "execute_result"
    }
   ],
   "source": [
    "df.with_columns(\n",
    "    ma_2 = pl.col(\"Price\").shift(1).rolling_mean(2).over(\"LoanID\", order_by=\"Date\")\n",
    ").filter(\n",
    "    pl.col(\"LoanID\") == \"LoanID0003\"\n",
    ")\n"
   ]
  },
  {
   "cell_type": "markdown",
   "id": "a4557410",
   "metadata": {},
   "source": [
    "## Aggregations"
   ]
  },
  {
   "cell_type": "code",
   "execution_count": 22,
   "id": "26dc1979",
   "metadata": {},
   "outputs": [
    {
     "data": {
      "text/html": [
       "<div><style>\n",
       ".dataframe > thead > tr,\n",
       ".dataframe > tbody > tr {\n",
       "  text-align: right;\n",
       "  white-space: pre-wrap;\n",
       "}\n",
       "</style>\n",
       "<small>shape: (5, 2)</small><table border=\"1\" class=\"dataframe\"><thead><tr><th>Date</th><th>avg_price</th></tr><tr><td>datetime[ns]</td><td>f64</td></tr></thead><tbody><tr><td>2023-12-31 00:00:00</td><td>97.7867</td></tr><tr><td>2023-12-30 00:00:00</td><td>97.6833</td></tr><tr><td>2023-12-29 00:00:00</td><td>97.7468</td></tr><tr><td>2023-12-28 00:00:00</td><td>97.3889</td></tr><tr><td>2023-12-27 00:00:00</td><td>96.6516</td></tr></tbody></table></div>"
      ],
      "text/plain": [
       "shape: (5, 2)\n",
       "┌─────────────────────┬───────────┐\n",
       "│ Date                ┆ avg_price │\n",
       "│ ---                 ┆ ---       │\n",
       "│ datetime[ns]        ┆ f64       │\n",
       "╞═════════════════════╪═══════════╡\n",
       "│ 2023-12-31 00:00:00 ┆ 97.7867   │\n",
       "│ 2023-12-30 00:00:00 ┆ 97.6833   │\n",
       "│ 2023-12-29 00:00:00 ┆ 97.7468   │\n",
       "│ 2023-12-28 00:00:00 ┆ 97.3889   │\n",
       "│ 2023-12-27 00:00:00 ┆ 96.6516   │\n",
       "└─────────────────────┴───────────┘"
      ]
     },
     "execution_count": 22,
     "metadata": {},
     "output_type": "execute_result"
    }
   ],
   "source": [
    "df.group_by(\"Date\").agg(\n",
    "    pl.col(\"Price\").mean().alias(\"avg_price\"),\n",
    ").sort(\"Date\", descending=True).head(5)"
   ]
  },
  {
   "cell_type": "code",
   "execution_count": 23,
   "id": "3e0abf56",
   "metadata": {},
   "outputs": [
    {
     "data": {
      "text/html": [
       "<div><style>\n",
       ".dataframe > thead > tr,\n",
       ".dataframe > tbody > tr {\n",
       "  text-align: right;\n",
       "  white-space: pre-wrap;\n",
       "}\n",
       "</style>\n",
       "<small>shape: (5, 6)</small><table border=\"1\" class=\"dataframe\"><thead><tr><th>LoanID</th><th>mean</th><th>max</th><th>min</th><th>std</th><th>median</th></tr><tr><td>str</td><td>f64</td><td>f64</td><td>f64</td><td>f64</td><td>f64</td></tr></thead><tbody><tr><td>&quot;LoanID8041&quot;</td><td>99.315</td><td>103.92</td><td>94.33</td><td>4.116669</td><td>99.505</td></tr><tr><td>&quot;LoanID0385&quot;</td><td>95.325556</td><td>101.92</td><td>91.05</td><td>4.295812</td><td>93.0</td></tr><tr><td>&quot;LoanID5940&quot;</td><td>95.903043</td><td>101.79</td><td>90.11</td><td>3.557654</td><td>95.96</td></tr><tr><td>&quot;LoanID7246&quot;</td><td>99.92</td><td>101.35</td><td>98.49</td><td>2.022325</td><td>99.92</td></tr><tr><td>&quot;LoanID6440&quot;</td><td>102.84</td><td>102.84</td><td>102.84</td><td>null</td><td>102.84</td></tr></tbody></table></div>"
      ],
      "text/plain": [
       "shape: (5, 6)\n",
       "┌────────────┬───────────┬────────┬────────┬──────────┬────────┐\n",
       "│ LoanID     ┆ mean      ┆ max    ┆ min    ┆ std      ┆ median │\n",
       "│ ---        ┆ ---       ┆ ---    ┆ ---    ┆ ---      ┆ ---    │\n",
       "│ str        ┆ f64       ┆ f64    ┆ f64    ┆ f64      ┆ f64    │\n",
       "╞════════════╪═══════════╪════════╪════════╪══════════╪════════╡\n",
       "│ LoanID8041 ┆ 99.315    ┆ 103.92 ┆ 94.33  ┆ 4.116669 ┆ 99.505 │\n",
       "│ LoanID0385 ┆ 95.325556 ┆ 101.92 ┆ 91.05  ┆ 4.295812 ┆ 93.0   │\n",
       "│ LoanID5940 ┆ 95.903043 ┆ 101.79 ┆ 90.11  ┆ 3.557654 ┆ 95.96  │\n",
       "│ LoanID7246 ┆ 99.92     ┆ 101.35 ┆ 98.49  ┆ 2.022325 ┆ 99.92  │\n",
       "│ LoanID6440 ┆ 102.84    ┆ 102.84 ┆ 102.84 ┆ null     ┆ 102.84 │\n",
       "└────────────┴───────────┴────────┴────────┴──────────┴────────┘"
      ]
     },
     "execution_count": 23,
     "metadata": {},
     "output_type": "execute_result"
    }
   ],
   "source": [
    "df.group_by( \"LoanID\" ).agg( \n",
    "    mean = pl.col(\"Price\").mean(),\n",
    "    max = pl.col(\"Price\").max(),\n",
    "    min = pl.col(\"Price\").min(),\n",
    "    std = pl.col(\"Price\").std(),\n",
    "    median = pl.col(\"Price\").median(),\n",
    " ).head(5)"
   ]
  },
  {
   "cell_type": "markdown",
   "id": "2c8f80e5",
   "metadata": {},
   "source": [
    "## Clip"
   ]
  },
  {
   "cell_type": "code",
   "execution_count": 31,
   "id": "f9f052c1",
   "metadata": {},
   "outputs": [
    {
     "data": {
      "text/html": [
       "<div><style>\n",
       ".dataframe > thead > tr,\n",
       ".dataframe > tbody > tr {\n",
       "  text-align: right;\n",
       "  white-space: pre-wrap;\n",
       "}\n",
       "</style>\n",
       "<small>shape: (7, 5)</small><table border=\"1\" class=\"dataframe\"><thead><tr><th>Date</th><th>LoanID</th><th>Price</th><th>Balance</th><th>Price_Clipped</th></tr><tr><td>datetime[ns]</td><td>str</td><td>f64</td><td>i64</td><td>f64</td></tr></thead><tbody><tr><td>2023-01-24 00:00:00</td><td>&quot;LoanID0003&quot;</td><td>96.22</td><td>3000</td><td>95.0</td></tr><tr><td>2023-01-25 00:00:00</td><td>&quot;LoanID0003&quot;</td><td>99.53</td><td>3000</td><td>95.0</td></tr><tr><td>2023-01-26 00:00:00</td><td>&quot;LoanID0003&quot;</td><td>94.91</td><td>3000</td><td>94.91</td></tr><tr><td>2023-01-27 00:00:00</td><td>&quot;LoanID0003&quot;</td><td>96.45</td><td>3000</td><td>95.0</td></tr><tr><td>2023-01-28 00:00:00</td><td>&quot;LoanID0003&quot;</td><td>90.74</td><td>3000</td><td>92.0</td></tr><tr><td>2023-01-29 00:00:00</td><td>&quot;LoanID0003&quot;</td><td>104.43</td><td>3000</td><td>95.0</td></tr><tr><td>2023-01-30 00:00:00</td><td>&quot;LoanID0003&quot;</td><td>99.89</td><td>3000</td><td>95.0</td></tr></tbody></table></div>"
      ],
      "text/plain": [
       "shape: (7, 5)\n",
       "┌─────────────────────┬────────────┬────────┬─────────┬───────────────┐\n",
       "│ Date                ┆ LoanID     ┆ Price  ┆ Balance ┆ Price_Clipped │\n",
       "│ ---                 ┆ ---        ┆ ---    ┆ ---     ┆ ---           │\n",
       "│ datetime[ns]        ┆ str        ┆ f64    ┆ i64     ┆ f64           │\n",
       "╞═════════════════════╪════════════╪════════╪═════════╪═══════════════╡\n",
       "│ 2023-01-24 00:00:00 ┆ LoanID0003 ┆ 96.22  ┆ 3000    ┆ 95.0          │\n",
       "│ 2023-01-25 00:00:00 ┆ LoanID0003 ┆ 99.53  ┆ 3000    ┆ 95.0          │\n",
       "│ 2023-01-26 00:00:00 ┆ LoanID0003 ┆ 94.91  ┆ 3000    ┆ 94.91         │\n",
       "│ 2023-01-27 00:00:00 ┆ LoanID0003 ┆ 96.45  ┆ 3000    ┆ 95.0          │\n",
       "│ 2023-01-28 00:00:00 ┆ LoanID0003 ┆ 90.74  ┆ 3000    ┆ 92.0          │\n",
       "│ 2023-01-29 00:00:00 ┆ LoanID0003 ┆ 104.43 ┆ 3000    ┆ 95.0          │\n",
       "│ 2023-01-30 00:00:00 ┆ LoanID0003 ┆ 99.89  ┆ 3000    ┆ 95.0          │\n",
       "└─────────────────────┴────────────┴────────┴─────────┴───────────────┘"
      ]
     },
     "execution_count": 31,
     "metadata": {},
     "output_type": "execute_result"
    }
   ],
   "source": [
    "df.filter(\n",
    "    pl.col(\"LoanID\") == \"LoanID0003\"\n",
    ").with_columns(\n",
    "    pl.col( \"Price\" ).clip(\n",
    "        lower_bound= 92,\n",
    "        upper_bound= 95).alias(\"Price_Clipped\")\n",
    ")"
   ]
  }
 ],
 "metadata": {
  "kernelspec": {
   "display_name": ".venv",
   "language": "python",
   "name": "python3"
  },
  "language_info": {
   "codemirror_mode": {
    "name": "ipython",
    "version": 3
   },
   "file_extension": ".py",
   "mimetype": "text/x-python",
   "name": "python",
   "nbconvert_exporter": "python",
   "pygments_lexer": "ipython3",
   "version": "3.11.9"
  }
 },
 "nbformat": 4,
 "nbformat_minor": 5
}
