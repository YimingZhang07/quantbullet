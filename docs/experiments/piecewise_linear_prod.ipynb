{
 "cells": [
  {
   "cell_type": "code",
   "execution_count": 165,
   "id": "aa2b383b",
   "metadata": {},
   "outputs": [],
   "source": [
    "import numpy as np\n",
    "import pandas as pd\n",
    "import matplotlib.pyplot as plt\n",
    "from quantbullet.preprocessing.transformers import FlatRampTransformer\n",
    "from numpy.linalg import lstsq"
   ]
  },
  {
   "cell_type": "code",
   "execution_count": 166,
   "id": "7ef2ce7f",
   "metadata": {},
   "outputs": [],
   "source": [
    "np.random.seed(42)\n",
    "n_samples = int( 10e3 )\n",
    "df = pd.DataFrame({\n",
    "    'x1': 5 + np.random.randn(n_samples) * 2,\n",
    "    'x2': 10 + np.random.randn(n_samples) * 2,\n",
    "    'x3': np.random.choice([0, 1, 2], size=n_samples, p=[0.25, 0.25, 0.5])\n",
    "})\n",
    "\n",
    "df['x3'] = df['x3'].astype('category')\n",
    "\n",
    "df['y'] = 2 * np.cos(df['x1']) + 3 * np.sin(df['x2']) +\\\n",
    "    np.random.randn(n_samples) * 1 + \\\n",
    "        np.random.normal(loc = df['x3'].cat.codes, scale=0.5) + 10\n",
    "        \n",
    "x1_trans = FlatRampTransformer(\n",
    "    knots = [-1, 1, 2, 3, 4, 5, 6, 7, 8, 9, 11],\n",
    "    include_bias=True\n",
    ")\n",
    "\n",
    "x2_trans = FlatRampTransformer(\n",
    "    knots = [5, 6, 7, 8, 9, 10, 11, 12, 13, 14, 15],\n",
    "    include_bias=True\n",
    ")\n",
    "\n",
    "train_df = np.concatenate([\n",
    "    x1_trans.fit_transform(df['x1']),\n",
    "    x2_trans.fit_transform(df['x2']),\n",
    "    pd.get_dummies(df['x3'], prefix='x3') * 1\n",
    "], axis=1)\n",
    "\n",
    "train_df = pd.DataFrame(train_df, columns = x1_trans.get_feature_names_out().tolist() \n",
    "                        + x2_trans.get_feature_names_out().tolist()\n",
    "                        + [ 'x3_' + str(cat) for cat in df['x3'].cat.categories.tolist() ])"
   ]
  },
  {
   "cell_type": "code",
   "execution_count": 167,
   "id": "771b8e8c",
   "metadata": {},
   "outputs": [
    {
     "data": {
      "text/html": [
       "<div>\n",
       "<style scoped>\n",
       "    .dataframe tbody tr th:only-of-type {\n",
       "        vertical-align: middle;\n",
       "    }\n",
       "\n",
       "    .dataframe tbody tr th {\n",
       "        vertical-align: top;\n",
       "    }\n",
       "\n",
       "    .dataframe thead th {\n",
       "        text-align: right;\n",
       "    }\n",
       "</style>\n",
       "<table border=\"1\" class=\"dataframe\">\n",
       "  <thead>\n",
       "    <tr style=\"text-align: right;\">\n",
       "      <th></th>\n",
       "      <th>x1_bias</th>\n",
       "      <th>x1_le_-1</th>\n",
       "      <th>x1_-1_1</th>\n",
       "      <th>x1_1_2</th>\n",
       "      <th>x1_2_3</th>\n",
       "      <th>x1_3_4</th>\n",
       "      <th>x1_4_5</th>\n",
       "      <th>x1_5_6</th>\n",
       "      <th>x1_6_7</th>\n",
       "      <th>x1_7_8</th>\n",
       "      <th>...</th>\n",
       "      <th>x2_9_10</th>\n",
       "      <th>x2_10_11</th>\n",
       "      <th>x2_11_12</th>\n",
       "      <th>x2_12_13</th>\n",
       "      <th>x2_13_14</th>\n",
       "      <th>x2_14_15</th>\n",
       "      <th>x2_gt_15</th>\n",
       "      <th>x3_0</th>\n",
       "      <th>x3_1</th>\n",
       "      <th>x3_2</th>\n",
       "    </tr>\n",
       "  </thead>\n",
       "  <tbody>\n",
       "    <tr>\n",
       "      <th>0</th>\n",
       "      <td>1.0</td>\n",
       "      <td>-1.0</td>\n",
       "      <td>1.0</td>\n",
       "      <td>2.0</td>\n",
       "      <td>3.0</td>\n",
       "      <td>4.0</td>\n",
       "      <td>5.000000</td>\n",
       "      <td>5.993428</td>\n",
       "      <td>6.000000</td>\n",
       "      <td>7.0</td>\n",
       "      <td>...</td>\n",
       "      <td>9.000000</td>\n",
       "      <td>10.000000</td>\n",
       "      <td>11.0</td>\n",
       "      <td>12.000000</td>\n",
       "      <td>13.0</td>\n",
       "      <td>14.0</td>\n",
       "      <td>15.0</td>\n",
       "      <td>1.0</td>\n",
       "      <td>0.0</td>\n",
       "      <td>0.0</td>\n",
       "    </tr>\n",
       "    <tr>\n",
       "      <th>1</th>\n",
       "      <td>1.0</td>\n",
       "      <td>-1.0</td>\n",
       "      <td>1.0</td>\n",
       "      <td>2.0</td>\n",
       "      <td>3.0</td>\n",
       "      <td>4.0</td>\n",
       "      <td>4.723471</td>\n",
       "      <td>5.000000</td>\n",
       "      <td>6.000000</td>\n",
       "      <td>7.0</td>\n",
       "      <td>...</td>\n",
       "      <td>9.389001</td>\n",
       "      <td>10.000000</td>\n",
       "      <td>11.0</td>\n",
       "      <td>12.000000</td>\n",
       "      <td>13.0</td>\n",
       "      <td>14.0</td>\n",
       "      <td>15.0</td>\n",
       "      <td>0.0</td>\n",
       "      <td>0.0</td>\n",
       "      <td>1.0</td>\n",
       "    </tr>\n",
       "    <tr>\n",
       "      <th>2</th>\n",
       "      <td>1.0</td>\n",
       "      <td>-1.0</td>\n",
       "      <td>1.0</td>\n",
       "      <td>2.0</td>\n",
       "      <td>3.0</td>\n",
       "      <td>4.0</td>\n",
       "      <td>5.000000</td>\n",
       "      <td>6.000000</td>\n",
       "      <td>6.295377</td>\n",
       "      <td>7.0</td>\n",
       "      <td>...</td>\n",
       "      <td>9.000000</td>\n",
       "      <td>10.000000</td>\n",
       "      <td>11.0</td>\n",
       "      <td>12.000000</td>\n",
       "      <td>13.0</td>\n",
       "      <td>14.0</td>\n",
       "      <td>15.0</td>\n",
       "      <td>0.0</td>\n",
       "      <td>0.0</td>\n",
       "      <td>1.0</td>\n",
       "    </tr>\n",
       "    <tr>\n",
       "      <th>3</th>\n",
       "      <td>1.0</td>\n",
       "      <td>-1.0</td>\n",
       "      <td>1.0</td>\n",
       "      <td>2.0</td>\n",
       "      <td>3.0</td>\n",
       "      <td>4.0</td>\n",
       "      <td>5.000000</td>\n",
       "      <td>6.000000</td>\n",
       "      <td>7.000000</td>\n",
       "      <td>8.0</td>\n",
       "      <td>...</td>\n",
       "      <td>10.000000</td>\n",
       "      <td>10.220836</td>\n",
       "      <td>11.0</td>\n",
       "      <td>12.000000</td>\n",
       "      <td>13.0</td>\n",
       "      <td>14.0</td>\n",
       "      <td>15.0</td>\n",
       "      <td>0.0</td>\n",
       "      <td>0.0</td>\n",
       "      <td>1.0</td>\n",
       "    </tr>\n",
       "    <tr>\n",
       "      <th>4</th>\n",
       "      <td>1.0</td>\n",
       "      <td>-1.0</td>\n",
       "      <td>1.0</td>\n",
       "      <td>2.0</td>\n",
       "      <td>3.0</td>\n",
       "      <td>4.0</td>\n",
       "      <td>4.531693</td>\n",
       "      <td>5.000000</td>\n",
       "      <td>6.000000</td>\n",
       "      <td>7.0</td>\n",
       "      <td>...</td>\n",
       "      <td>10.000000</td>\n",
       "      <td>11.000000</td>\n",
       "      <td>12.0</td>\n",
       "      <td>12.394357</td>\n",
       "      <td>13.0</td>\n",
       "      <td>14.0</td>\n",
       "      <td>15.0</td>\n",
       "      <td>0.0</td>\n",
       "      <td>0.0</td>\n",
       "      <td>1.0</td>\n",
       "    </tr>\n",
       "  </tbody>\n",
       "</table>\n",
       "<p>5 rows × 29 columns</p>\n",
       "</div>"
      ],
      "text/plain": [
       "   x1_bias  x1_le_-1  x1_-1_1  x1_1_2  x1_2_3  x1_3_4    x1_4_5    x1_5_6  \\\n",
       "0      1.0      -1.0      1.0     2.0     3.0     4.0  5.000000  5.993428   \n",
       "1      1.0      -1.0      1.0     2.0     3.0     4.0  4.723471  5.000000   \n",
       "2      1.0      -1.0      1.0     2.0     3.0     4.0  5.000000  6.000000   \n",
       "3      1.0      -1.0      1.0     2.0     3.0     4.0  5.000000  6.000000   \n",
       "4      1.0      -1.0      1.0     2.0     3.0     4.0  4.531693  5.000000   \n",
       "\n",
       "     x1_6_7  x1_7_8  ...    x2_9_10   x2_10_11  x2_11_12   x2_12_13  x2_13_14  \\\n",
       "0  6.000000     7.0  ...   9.000000  10.000000      11.0  12.000000      13.0   \n",
       "1  6.000000     7.0  ...   9.389001  10.000000      11.0  12.000000      13.0   \n",
       "2  6.295377     7.0  ...   9.000000  10.000000      11.0  12.000000      13.0   \n",
       "3  7.000000     8.0  ...  10.000000  10.220836      11.0  12.000000      13.0   \n",
       "4  6.000000     7.0  ...  10.000000  11.000000      12.0  12.394357      13.0   \n",
       "\n",
       "   x2_14_15  x2_gt_15  x3_0  x3_1  x3_2  \n",
       "0      14.0      15.0   1.0   0.0   0.0  \n",
       "1      14.0      15.0   0.0   0.0   1.0  \n",
       "2      14.0      15.0   0.0   0.0   1.0  \n",
       "3      14.0      15.0   0.0   0.0   1.0  \n",
       "4      14.0      15.0   0.0   0.0   1.0  \n",
       "\n",
       "[5 rows x 29 columns]"
      ]
     },
     "execution_count": 167,
     "metadata": {},
     "output_type": "execute_result"
    }
   ],
   "source": [
    "train_df.head()"
   ]
  },
  {
   "cell_type": "code",
   "execution_count": 168,
   "id": "7bf9f0d2",
   "metadata": {},
   "outputs": [],
   "source": [
    "feature_groups = {'x1': x1_trans.get_feature_names_out().tolist(), \n",
    "                  'x2': x2_trans.get_feature_names_out().tolist(),\n",
    "                  'x3': [ 'x3_' + str(cat) for cat in df['x3'].cat.categories.tolist() ]}"
   ]
  },
  {
   "cell_type": "markdown",
   "id": "798fdebe",
   "metadata": {},
   "source": [
    "## Piecewise Log Product Model"
   ]
  },
  {
   "cell_type": "code",
   "execution_count": 318,
   "id": "b9e9c0a0",
   "metadata": {},
   "outputs": [],
   "source": [
    "from quantbullet.optimizer.piecewise_log_product import PiecewiseLogProductModel\n",
    "\n",
    "plpm = PiecewiseLogProductModel( min_log_value=1e-12, xtol=1e-8, gtol=1e-8, ftol=1e-8 )"
   ]
  },
  {
   "cell_type": "code",
   "execution_count": 319,
   "id": "f3bc9908",
   "metadata": {},
   "outputs": [
    {
     "name": "stdout",
     "output_type": "stream",
     "text": [
      "   Iteration     Total nfev        Cost      Cost reduction    Step norm     Optimality   \n",
      "       0              1         6.5533e+04                                    1.45e+04    \n",
      "       1              2         4.2031e+04      2.35e+04       5.39e+00       1.80e+03    \n",
      "       2              3         4.0571e+04      1.46e+03       1.08e+01       4.21e+03    \n",
      "       3              5         3.6590e+04      3.98e+03       2.69e+00       5.29e+02    \n",
      "       4              6         3.4753e+04      1.84e+03       5.39e+00       1.88e+03    \n",
      "       5              8         3.3621e+04      1.13e+03       2.69e+00       4.08e+02    \n",
      "       6              9         3.2295e+04      1.33e+03       5.39e+00       7.83e+03    \n",
      "       7             10         3.0604e+04      1.69e+03       1.08e+01       2.59e+03    \n",
      "       8             12         2.9785e+04      8.19e+02       5.39e+00       4.60e+02    \n",
      "       9             14         2.9258e+04      5.27e+02       2.69e+00       1.23e+02    \n",
      "      10             15         2.8884e+04      3.74e+02       5.39e+00       6.54e+03    \n",
      "      11             16         2.8310e+04      5.74e+02       1.08e+01       2.45e+03    \n",
      "      12             17         2.7947e+04      3.62e+02       2.15e+01       1.78e+03    \n",
      "      13             19         2.7740e+04      2.07e+02       1.08e+01       1.95e+03    \n",
      "      14             20         2.7209e+04      5.31e+02       2.15e+01       9.96e+03    \n",
      "      15             22         2.6280e+04      9.29e+02       1.08e+01       3.89e+03    \n",
      "      16             23         2.3862e+04      2.42e+03       2.15e+01       1.07e+04    \n",
      "      17             25         2.0510e+04      3.35e+03       1.08e+01       4.31e+03    \n",
      "      18             27         1.8906e+04      1.60e+03       5.39e+00       1.06e+03    \n",
      "      19             28         1.7538e+04      1.37e+03       1.08e+01       5.21e+02    \n",
      "      20             29         1.5618e+04      1.92e+03       2.15e+01       2.74e+02    \n",
      "      21             30         1.2696e+04      2.92e+03       4.31e+01       1.97e+03    \n",
      "      22             31         1.1483e+04      1.21e+03       8.62e+01       6.14e+14    \n",
      "      23             32         1.0972e+04      5.11e+02       8.62e+01       1.10e+15    \n",
      "      24             34         1.0701e+04      2.71e+02       2.15e+01       1.10e+15    \n",
      "      25             35         1.0633e+04      6.81e+01       5.39e+00       1.10e+15    \n",
      "      26             36         1.0616e+04      1.72e+01       1.35e+00       1.10e+15    \n",
      "      27             37         1.0611e+04      4.33e+00       3.37e-01       1.10e+15    \n",
      "      28             38         1.0610e+04      1.08e+00       8.41e-02       1.10e+15    \n",
      "      29             39         1.0610e+04      2.71e-01       2.10e-02       1.10e+15    \n",
      "      30             40         1.0610e+04      6.77e-02       5.26e-03       1.10e+15    \n",
      "      31             41         1.0610e+04      1.69e-02       1.31e-03       1.10e+15    \n",
      "      32             42         1.0610e+04      4.23e-03       3.29e-04       1.10e+15    \n",
      "      33             43         1.0610e+04      1.06e-03       8.22e-05       1.10e+15    \n",
      "      34             44         1.0610e+04      2.65e-04       2.05e-05       1.10e+15    \n",
      "      35             45         1.0610e+04      6.62e-05       5.14e-06       1.10e+15    \n",
      "      36             46         1.0610e+04      1.66e-05       1.28e-06       1.10e+15    \n",
      "`xtol` termination condition is satisfied.\n",
      "Function evaluations 46, initial cost 6.5533e+04, final cost 1.0610e+04, first-order optimality 1.10e+15.\n"
     ]
    },
    {
     "data": {
      "text/plain": [
       "<quantbullet.optimizer.piecewise_log_product.PiecewiseLogProductModel at 0x1d715bdeb90>"
      ]
     },
     "execution_count": 319,
     "metadata": {},
     "output_type": "execute_result"
    }
   ],
   "source": [
    "plpm.fit( X=train_df, y=df['y'], feature_groups=feature_groups, verbose=2 )"
   ]
  },
  {
   "cell_type": "code",
   "execution_count": 320,
   "id": "fb39f19a",
   "metadata": {},
   "outputs": [],
   "source": [
    "df['model_predict'] = plpm.predict(train_df, feature_groups=feature_groups)"
   ]
  },
  {
   "cell_type": "code",
   "execution_count": 321,
   "id": "383e1a03",
   "metadata": {},
   "outputs": [
    {
     "name": "stdout",
     "output_type": "stream",
     "text": [
      "Mean Squared Error: 2.1220\n"
     ]
    }
   ],
   "source": [
    "from sklearn.metrics import mean_squared_error\n",
    "mse = mean_squared_error(df['y'], df['model_predict'])\n",
    "print(f'Mean Squared Error: {mse:.4f}')"
   ]
  },
  {
   "cell_type": "code",
   "execution_count": 322,
   "id": "172ec006",
   "metadata": {},
   "outputs": [],
   "source": [
    "df['x1_bins'] = pd.cut( df['x1'], bins=x1_trans.get_bins_and_labels()[0], labels=x1_trans.get_bins_and_labels()[1] )\n",
    "df['x2_bins'] = pd.cut( df['x2'], bins=x2_trans.get_bins_and_labels()[0], labels=x2_trans.get_bins_and_labels()[1] )"
   ]
  },
  {
   "cell_type": "code",
   "execution_count": 323,
   "id": "5d7e1f96",
   "metadata": {},
   "outputs": [
    {
     "data": {
      "image/png": "[encoded data removed]",
      "text/plain": [
       "<Figure size 500x200 with 1 Axes>"
      ]
     },
     "metadata": {},
     "output_type": "display_data"
    },
    {
     "data": {
      "image/png": "[encoded data removed]",
      "text/plain": [
       "<Figure size 500x200 with 1 Axes>"
      ]
     },
     "metadata": {},
     "output_type": "display_data"
    }
   ],
   "source": [
    "for group in ['x1_bins', 'x2_bins']:\n",
    "    plt.figure(figsize=(5, 2))\n",
    "    summary = df.groupby(group, observed=True).agg({'y': 'mean', 'model_predict': 'mean'})\n",
    "    plt.plot(summary.index, summary['y'], label='Actual', marker='o')\n",
    "    plt.plot(summary.index, summary['model_predict'], label='Predicted', marker='x')\n",
    "    plt.title(f'Group: {group}')\n",
    "    plt.xlabel(group)\n",
    "    plt.ylabel('Mean Value')\n",
    "    plt.legend()"
   ]
  }
 ],
 "metadata": {
  "kernelspec": {
   "display_name": ".venv",
   "language": "python",
   "name": "python3"
  },
  "language_info": {
   "codemirror_mode": {
    "name": "ipython",
    "version": 3
   },
   "file_extension": ".py",
   "mimetype": "text/x-python",
   "name": "python",
   "nbconvert_exporter": "python",
   "pygments_lexer": "ipython3",
   "version": "3.11.7"
  }
 },
 "nbformat": 4,
 "nbformat_minor": 5
}
