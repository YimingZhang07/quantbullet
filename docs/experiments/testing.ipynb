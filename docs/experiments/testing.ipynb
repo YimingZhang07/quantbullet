{
 "cells": [
  {
   "cell_type": "code",
   "execution_count": 3,
   "id": "127d8ed2",
   "metadata": {},
   "outputs": [],
   "source": [
    "import numpy as np\n",
    "from scipy.optimize import minimize\n",
    "\n",
    "def clipped_ce_and_grad(beta, X, y, eps=1e-6, l2=0.0):\n",
    "    \"\"\"\n",
    "    Cross-entropy on p = clip(X @ beta, eps, 1-eps).\n",
    "    Returns (loss, grad) with grad matching the piecewise derivative described.\n",
    "    \"\"\"\n",
    "    z = X @ beta                          # (n,)\n",
    "    p = np.clip(z, eps, 1.0 - eps)        # (n,)\n",
    "\n",
    "    # ----- Loss -----\n",
    "    # CE(p,y) = -[ y log p + (1-y) log(1-p) ]\n",
    "    ce = - (y * np.log(p) + (1 - y) * np.log(1 - p)).sum()\n",
    "    if l2:\n",
    "        ce += 0.5 * l2 * np.dot(beta, beta)\n",
    "\n",
    "    # ----- Gradient wrt beta -----\n",
    "    # dCE/dp = (p - y) / (p(1-p))\n",
    "    dCE_dp = (p - y) / (p * (1.0 - p))\n",
    "\n",
    "    # dp/dz = 1 on the interior, 0 when clipped\n",
    "    interior = (z > eps) & (z < 1.0 - eps)\n",
    "    dL_dz = np.zeros_like(z)\n",
    "    dL_dz[interior] = dCE_dp[interior]  # chain rule: dL/dz = dCE/dp * dp/dz\n",
    "\n",
    "    grad = X.T @ dL_dz\n",
    "    if l2:\n",
    "        grad += l2 * beta\n",
    "\n",
    "    return ce, grad\n",
    "\n",
    "def fit_clipped_ce(X, y, beta0=None, eps=1e-6, l2=0.0, tol=1e-8, maxiter=10_000):\n",
    "    n_features = X.shape[1]\n",
    "    beta0 = np.zeros(n_features) if beta0 is None else beta0\n",
    "    obj = lambda b: clipped_ce_and_grad(b, X, y, eps=eps, l2=l2)\n",
    "    res = minimize(obj, beta0, method=\"L-BFGS-B\", jac=True, tol=tol,\n",
    "                   options={\"maxiter\": maxiter})\n",
    "    return res.x, res"
   ]
  }
 ],
 "metadata": {
  "kernelspec": {
   "display_name": ".venv",
   "language": "python",
   "name": "python3"
  },
  "language_info": {
   "codemirror_mode": {
    "name": "ipython",
    "version": 3
   },
   "file_extension": ".py",
   "mimetype": "text/x-python",
   "name": "python",
   "nbconvert_exporter": "python",
   "pygments_lexer": "ipython3",
   "version": "3.11.7"
  }
 },
 "nbformat": 4,
 "nbformat_minor": 5
}
