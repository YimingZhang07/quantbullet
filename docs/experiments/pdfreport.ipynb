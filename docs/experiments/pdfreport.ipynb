{
 "cells": [
  {
   "cell_type": "code",
   "execution_count": 4,
   "id": "e4233262",
   "metadata": {},
   "outputs": [],
   "source": [
    "from reportlab.platypus import SimpleDocTemplate, Paragraph, Spacer, PageBreak\n",
    "from reportlab.lib.pagesizes import landscape, letter\n",
    "from quantbullet.reporting.utils import register_fonts_from_package\n",
    "from quantbullet.reporting import AdobeSourceFontStyles \n",
    "\n",
    "register_fonts_from_package()"
   ]
  },
  {
   "cell_type": "code",
   "execution_count": 2,
   "id": "f8eb307a",
   "metadata": {},
   "outputs": [],
   "source": [
    "# --- Create the PDF ---\n",
    "doc = SimpleDocTemplate(\n",
    "    \"style_demo.pdf\",\n",
    "    pagesize=landscape(letter),\n",
    ")\n",
    "\n",
    "story = []\n",
    "\n",
    "# --- First Page: Title + Subtitle ---\n",
    "story.append(Spacer(1, 200))  # push down to vertical center\n",
    "story.append(Paragraph(\"My Demo PDF Title\", AdobeSourceFontStyles.SansTitle))\n",
    "story.append(Paragraph(\"This is the subtitle under the title\", AdobeSourceFontStyles.SansSubtitle))\n",
    "\n",
    "# New page\n",
    "story.append(PageBreak())\n",
    "\n",
    "# --- Second Page: Style showcase ---\n",
    "story.append(Paragraph( \"This is paragraph one. This can be slightly longer so that we can test how this wraps the lines. The quick brown fox jumps over the lazy dog\", AdobeSourceFontStyles.SerifNormal))\n",
    "\n",
    "story.append(Paragraph(\"This is the second paragraph, in bold.\", AdobeSourceFontStyles.SerifBold))\n",
    "\n",
    "story.append(Paragraph(\"This is the third paragraph, in italics.\", AdobeSourceFontStyles.SerifItalic))\n",
    "\n",
    "story.append(Paragraph(\"This is the fourth paragraph, in code style.\", AdobeSourceFontStyles.MonoCode))\n",
    "# Build the PDF\n",
    "doc.build(story)\n"
   ]
  },
  {
   "cell_type": "markdown",
   "id": "6e9b0775",
   "metadata": {},
   "source": [
    "## Model Report"
   ]
  },
  {
   "cell_type": "code",
   "execution_count": 23,
   "id": "02210d23",
   "metadata": {},
   "outputs": [],
   "source": [
    "import numpy as np\n",
    "from sklearn.preprocessing import OneHotEncoder\n",
    "from quantbullet.preprocessing import FlatRampTransformer"
   ]
  },
  {
   "cell_type": "code",
   "execution_count": 24,
   "id": "db0fb8ec",
   "metadata": {},
   "outputs": [],
   "source": [
    "feature_config = {\n",
    "    'x1': FlatRampTransformer( knots=list( np.arange(4, 16, 1 ) ), include_bias=True ),\n",
    "    'x2': FlatRampTransformer( knots=list( np.arange(14, 26, 1 ) ), include_bias=True ),\n",
    "    'x3': OneHotEncoder( drop=None )\n",
    "}"
   ]
  },
  {
   "cell_type": "code",
   "execution_count": 26,
   "id": "95f2b814",
   "metadata": {},
   "outputs": [
    {
     "data": {
      "text/plain": [
       "array([ 4,  5,  6,  7,  8,  9, 10, 11, 12, 13, 14, 15])"
      ]
     },
     "execution_count": 26,
     "metadata": {},
     "output_type": "execute_result"
    }
   ],
   "source": [
    "feature_config['x1'].knots"
   ]
  },
  {
   "cell_type": "code",
   "execution_count": 5,
   "id": "861b0b8e",
   "metadata": {},
   "outputs": [],
   "source": [
    "from quantbullet.utils.debug import pickle_to_object"
   ]
  },
  {
   "cell_type": "code",
   "execution_count": 6,
   "id": "4b991eaf",
   "metadata": {},
   "outputs": [],
   "source": [
    "model = pickle_to_object('lprm_bcd.pkl')"
   ]
  },
  {
   "cell_type": "code",
   "execution_count": 43,
   "id": "a538ba46",
   "metadata": {},
   "outputs": [],
   "source": [
    "doc = SimpleDocTemplate(\n",
    "    \"style_demo.pdf\",\n",
    "    pagesize=landscape(letter),\n",
    ")\n",
    "\n",
    "story = []\n",
    "\n",
    "# story.append( Paragraph( f\"{'Number of Features':<25}: {model.fit_metadata_.n_obs}\", AdobeSourceFontStyles.MonoCode ) )\n",
    "# story.append( Paragraph( f\"{'Number of Obs':<25}: {model.fit_metadata_.n_features}\", AdobeSourceFontStyles.MonoCode ) )\n",
    "# story.append( Paragraph( f\"{'Mean Y':<25}: {model.fit_metadata_.mean_y}\", AdobeSourceFontStyles.MonoCode ) )\n",
    "\n",
    "from reportlab.platypus import Table, TableStyle\n",
    "from reportlab.lib import colors\n",
    "\n",
    "story.append( Paragraph( \"Model Fit Summary\", AdobeSourceFontStyles.SerifItalic ) )\n",
    "\n",
    "fit_summary = [\n",
    "    [\"Number of Features\", f\"{model.fit_metadata_.n_features:,}\"],\n",
    "    [\"Number of Obs\", f\"{model.fit_metadata_.n_obs:,}\"],\n",
    "    [\"Mean Y\", f\"{model.fit_metadata_.mean_y:,.4f}\"],\n",
    "    [\"Model Scalar\", f\"{model.global_scalar_:,.4f}\"],\n",
    "    [\"Best Loss\", f\"{model.best_loss_:,.4f}\"],\n",
    "    ['ftol', f\"{model.fit_metadata_.ftol}\" ],\n",
    "    ['Use QR Decompsition', f\"{model.fit_metadata_.cache_qr_decomp}\" ],\n",
    "]\n",
    "\n",
    "fit_summary_table_style = TableStyle([\n",
    "    (\"FONTNAME\", (0,0), (-1,-1), \"SourceCodePro-Regular\"),  # mono font\n",
    "    (\"FONTSIZE\", (0,0), (-1,-1), 10),\n",
    "    (\"ALIGN\", (1,0), (1,-1), \"RIGHT\"),  # numbers right-aligned\n",
    "    (\"BOTTOMPADDING\", (0,0), (-1,-1), 2),\n",
    "])\n",
    "\n",
    "feature_config_data = []\n",
    "\n",
    "for feature_group_name, transformer in feature_config.items():\n",
    "    if isinstance(transformer, OneHotEncoder):\n",
    "        feature_config_data.append( [ feature_group_name, \"OneHotEncoder\", \"\" ] )\n",
    "    else:\n",
    "        feature_config_data.append( [ feature_group_name, \"FlatRampTransformer\", f\"knots={transformer.knots}\" ] )\n",
    "        \n",
    "\n",
    "fit_summary_table = Table(fit_summary, colWidths=[200, 100])  # adjust widths\n",
    "fit_summary_table.setStyle( fit_summary_table_style )\n",
    "story.append(fit_summary_table)\n",
    "\n",
    "story.append( Spacer(2, 20) )\n",
    "\n",
    "feature_config_table_style = TableStyle([\n",
    "    (\"FONTNAME\", (0,0), (-1,-1), \"SourceCodePro-Regular\"),\n",
    "    (\"FONTSIZE\", (0,0), (-1,-1), 10),\n",
    "    (\"ALIGN\", (0,0), (0,-1), \"RIGHT\"),    # feature names left\n",
    "    (\"ALIGN\", (1,0), (1,-1), \"CENTER\"),  # transformer name centered\n",
    "    (\"ALIGN\", (2,0), (2,-1), \"LEFT\"),    # params left\n",
    "    (\"VALIGN\", (0,0), (-1,-1), \"TOP\"),\n",
    "    (\"BOTTOMPADDING\", (0,0), (-1,-1), 4),\n",
    "    (\"TOPPADDING\", (0,0), (-1,-1), 4),\n",
    "    (\"GRID\", (0,0), (-1,-1), 0.25, colors.lightgrey),\n",
    "])\n",
    "\n",
    "feature_config_table = Table( feature_config_data, colWidths=[50, 200, 300] )\n",
    "feature_config_table.setStyle( feature_config_table_style )\n",
    "story.append(feature_config_table)\n",
    "\n",
    "\n",
    "\n",
    "doc.build(story)"
   ]
  }
 ],
 "metadata": {
  "kernelspec": {
   "display_name": ".venv",
   "language": "python",
   "name": "python3"
  },
  "language_info": {
   "codemirror_mode": {
    "name": "ipython",
    "version": 3
   },
   "file_extension": ".py",
   "mimetype": "text/x-python",
   "name": "python",
   "nbconvert_exporter": "python",
   "pygments_lexer": "ipython3",
   "version": "3.11.7"
  }
 },
 "nbformat": 4,
 "nbformat_minor": 5
}
