{
 "cells": [
  {
   "cell_type": "code",
   "execution_count": 4,
   "id": "e4233262",
   "metadata": {},
   "outputs": [],
   "source": [
    "from reportlab.platypus import SimpleDocTemplate, Paragraph, Spacer, PageBreak\n",
    "from reportlab.lib.pagesizes import landscape, letter\n",
    "from quantbullet.reporting.utils import register_fonts_from_package\n",
    "from quantbullet.reporting import AdobeSourceFontStyles\n",
    "from reportlab.platypus import Table, TableStyle\n",
    "from reportlab.lib import colors\n",
    "\n",
    "register_fonts_from_package()"
   ]
  },
  {
   "cell_type": "markdown",
   "id": "d2181290",
   "metadata": {},
   "source": [
    "## Basic Report"
   ]
  },
  {
   "cell_type": "code",
   "execution_count": 6,
   "id": "f8eb307a",
   "metadata": {},
   "outputs": [],
   "source": [
    "# --- Create the PDF ---\n",
    "doc = SimpleDocTemplate(\n",
    "    \"style_demo.pdf\",\n",
    "    pagesize=landscape(letter),\n",
    ")\n",
    "\n",
    "story = []\n",
    "\n",
    "# --- First Page: Title + Subtitle ---\n",
    "story.append(Spacer(1, 200))  # push down to vertical center\n",
    "story.append(Paragraph(\"My Demo PDF Title\", AdobeSourceFontStyles.SansTitle))\n",
    "story.append(Paragraph(\"This is the subtitle under the title\", AdobeSourceFontStyles.SansSubtitle))\n",
    "\n",
    "# New page\n",
    "story.append(PageBreak())\n",
    "\n",
    "# --- Second Page: Style showcase ---\n",
    "story.append(Paragraph( \"This is paragraph one. This can be slightly longer so that we can test how this wraps the lines. The quick brown fox jumps over the lazy dog\", AdobeSourceFontStyles.SerifNormal))\n",
    "\n",
    "story.append(Paragraph(\"This is the second paragraph, in bold.\", AdobeSourceFontStyles.SerifBold))\n",
    "\n",
    "story.append(Paragraph(\"This is the third paragraph, in italics.\", AdobeSourceFontStyles.SerifItalic))\n",
    "\n",
    "story.append(Paragraph(\"This is the fourth paragraph, in code style.\", AdobeSourceFontStyles.MonoCode))\n",
    "\n",
    "# make some fake table data and add a table here\n",
    "table_data = [\n",
    "    [\"Column 1\", \"Column 2\", \"Column 3\"],\n",
    "    [\"Row 1, Cell 1\", \"Row 1, Cell 2\", \"Row 1, Cell 3\"],\n",
    "    [\"Row 2, Cell 1\", \"Row 2, Cell 2\", \"Row 2, Cell 3\"],\n",
    "]\n",
    "\n",
    "table = Table(table_data, colWidths=[150, 150, 150])\n",
    "table.setStyle(TableStyle([\n",
    "    (\"BACKGROUND\", (0, 0), (-1, 0), colors.grey),\n",
    "    (\"ALIGN\", (0, 0), (-1, -1), \"CENTER\"),\n",
    "    (\"FONTNAME\", (0, 0), (-1, 0), \"SourceCodePro-Regular\"),\n",
    "    (\"BOTTOMPADDING\", (0, 0), (-1, 0), 12),\n",
    "    (\"TOPPADDING\", (0, 0), (-1, 0), 12),\n",
    "    (\"GRID\", (0, 0), (-1, -1), 1, colors.black),\n",
    "]))\n",
    "\n",
    "story.append(table)\n",
    "\n",
    "# Build the PDF\n",
    "doc.build(story)\n"
   ]
  }
 ],
 "metadata": {
  "kernelspec": {
   "display_name": ".venv",
   "language": "python",
   "name": "python3"
  },
  "language_info": {
   "codemirror_mode": {
    "name": "ipython",
    "version": 3
   },
   "file_extension": ".py",
   "mimetype": "text/x-python",
   "name": "python",
   "nbconvert_exporter": "python",
   "pygments_lexer": "ipython3",
   "version": "3.11.9"
  }
 },
 "nbformat": 4,
 "nbformat_minor": 5
}
