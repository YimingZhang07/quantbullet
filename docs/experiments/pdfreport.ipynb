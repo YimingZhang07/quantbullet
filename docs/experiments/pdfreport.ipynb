{
 "cells": [
  {
   "cell_type": "code",
   "execution_count": 1,
   "id": "e4233262",
   "metadata": {},
   "outputs": [],
   "source": [
    "from reportlab.platypus import SimpleDocTemplate, Paragraph, Spacer, PageBreak\n",
    "from reportlab.lib.pagesizes import landscape, letter\n",
    "from quantbullet.reporting.utils import register_fonts_from_package\n",
    "from quantbullet.reporting import AdobeSourceFontStyles \n",
    "\n",
    "register_fonts_from_package()"
   ]
  },
  {
   "cell_type": "code",
   "execution_count": 2,
   "id": "f8eb307a",
   "metadata": {},
   "outputs": [],
   "source": [
    "# --- Create the PDF ---\n",
    "doc = SimpleDocTemplate(\n",
    "    \"style_demo.pdf\",\n",
    "    pagesize=landscape(letter),\n",
    ")\n",
    "\n",
    "story = []\n",
    "\n",
    "# --- First Page: Title + Subtitle ---\n",
    "story.append(Spacer(1, 200))  # push down to vertical center\n",
    "story.append(Paragraph(\"My Demo PDF Title\", AdobeSourceFontStyles.SansTitle))\n",
    "story.append(Paragraph(\"This is the subtitle under the title\", AdobeSourceFontStyles.SansSubtitle))\n",
    "\n",
    "# New page\n",
    "story.append(PageBreak())\n",
    "\n",
    "# --- Second Page: Style showcase ---\n",
    "story.append(Paragraph( \"This is paragraph one. This can be slightly longer so that we can test how this wraps the lines. The quick brown fox jumps over the lazy dog\", AdobeSourceFontStyles.SerifNormal))\n",
    "\n",
    "story.append(Paragraph(\"This is the second paragraph, in bold.\", AdobeSourceFontStyles.SerifBold))\n",
    "\n",
    "story.append(Paragraph(\"This is the third paragraph, in italics.\", AdobeSourceFontStyles.SerifItalic))\n",
    "\n",
    "story.append(Paragraph(\"This is the fourth paragraph, in code style.\", AdobeSourceFontStyles.MonoCode))\n",
    "# Build the PDF\n",
    "doc.build(story)\n"
   ]
  }
 ],
 "metadata": {
  "kernelspec": {
   "display_name": ".venv",
   "language": "python",
   "name": "python3"
  },
  "language_info": {
   "codemirror_mode": {
    "name": "ipython",
    "version": 3
   },
   "file_extension": ".py",
   "mimetype": "text/x-python",
   "name": "python",
   "nbconvert_exporter": "python",
   "pygments_lexer": "ipython3",
   "version": "3.11.7"
  }
 },
 "nbformat": 4,
 "nbformat_minor": 5
}
