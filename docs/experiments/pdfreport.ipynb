{
 "cells": [
  {
   "cell_type": "code",
   "execution_count": 1,
   "id": "e4233262",
   "metadata": {},
   "outputs": [],
   "source": [
    "from reportlab.platypus import SimpleDocTemplate, Paragraph, Spacer, PageBreak\n",
    "from reportlab.lib.pagesizes import landscape, letter\n",
    "from quantbullet.reporting.utils import register_fonts_from_package\n",
    "from quantbullet.reporting import AdobeSourceFontStyles\n",
    "from reportlab.platypus import Table, TableStyle\n",
    "from reportlab.lib import colors\n",
    "\n",
    "register_fonts_from_package()"
   ]
  },
  {
   "cell_type": "markdown",
   "id": "d2181290",
   "metadata": {},
   "source": [
    "## Basic Usage"
   ]
  },
  {
   "cell_type": "code",
   "execution_count": 2,
   "id": "f8eb307a",
   "metadata": {},
   "outputs": [],
   "source": [
    "# --- Create the PDF ---\n",
    "doc = SimpleDocTemplate(\n",
    "    \"style_demo.pdf\",\n",
    "    pagesize=landscape(letter),\n",
    ")\n",
    "\n",
    "story = []\n",
    "\n",
    "# --- First Page: Title + Subtitle ---\n",
    "story.append(Spacer(1, 200))  # push down to vertical center\n",
    "story.append(Paragraph(\"My Demo PDF Title\", AdobeSourceFontStyles.SansTitle))\n",
    "story.append(Paragraph(\"This is the subtitle under the title\", AdobeSourceFontStyles.SansSubtitle))\n",
    "\n",
    "# New page\n",
    "story.append(PageBreak())\n",
    "\n",
    "# --- Second Page: Style showcase ---\n",
    "story.append(Paragraph( \"This is paragraph one. This can be slightly longer so that we can test how this wraps the lines. The quick brown fox jumps over the lazy dog\", AdobeSourceFontStyles.SerifNormal))\n",
    "\n",
    "story.append(Paragraph(\"This is the second paragraph, in bold.\", AdobeSourceFontStyles.SerifBold))\n",
    "\n",
    "story.append(Paragraph(\"This is the third paragraph, in italics.\", AdobeSourceFontStyles.SerifItalic))\n",
    "\n",
    "story.append(Paragraph(\"This is the fourth paragraph, in code style.\", AdobeSourceFontStyles.MonoCode))\n",
    "\n",
    "# make some fake table data and add a table here\n",
    "table_data = [\n",
    "    [\"Column 1\", \"Column 2\", \"Column 3\"],\n",
    "    [\"Row 1, Cell 1\", \"Row 1, Cell 2\", \"Row 1, Cell 3\"],\n",
    "    [\"Row 2, Cell 1\", \"Row 2, Cell 2\", \"Row 2, Cell 3\"],\n",
    "]\n",
    "\n",
    "table = Table(table_data, colWidths=[150, 150, 150])\n",
    "table.setStyle(TableStyle([\n",
    "    (\"BACKGROUND\", (0, 0), (-1, 0), colors.grey),\n",
    "    (\"ALIGN\", (0, 0), (-1, -1), \"CENTER\"),\n",
    "    (\"FONTNAME\", (0, 0), (-1, 0), \"SourceCodePro-Regular\"),\n",
    "    (\"BOTTOMPADDING\", (0, 0), (-1, 0), 12),\n",
    "    (\"TOPPADDING\", (0, 0), (-1, 0), 12),\n",
    "    (\"GRID\", (0, 0), (-1, -1), 1, colors.black),\n",
    "]))\n",
    "\n",
    "story.append(table)\n",
    "\n",
    "# Build the PDF\n",
    "doc.build(story)\n"
   ]
  },
  {
   "cell_type": "markdown",
   "id": "3ca5c693",
   "metadata": {},
   "source": [
    "## `PdfTextReport` Class"
   ]
  },
  {
   "cell_type": "code",
   "execution_count": 3,
   "id": "e15e53ac",
   "metadata": {},
   "outputs": [],
   "source": [
    "import matplotlib.pyplot as plt\n",
    "import numpy as np\n",
    "from quantbullet.reporting.pdf_text_report import PdfTextReport"
   ]
  },
  {
   "cell_type": "code",
   "execution_count": 23,
   "id": "91aef685",
   "metadata": {},
   "outputs": [],
   "source": [
    "report = PdfTextReport(\"my_report.pdf\", report_title=\"My Report Title\")"
   ]
  },
  {
   "cell_type": "code",
   "execution_count": 24,
   "id": "002151db",
   "metadata": {},
   "outputs": [],
   "source": [
    "data = [\n",
    "    [\"Key\", \"Value\"],\n",
    "    [\"Key1\", 123456],\n",
    "    [\"Key2\", 7890.12],\n",
    "    [\"Key3\", \"Some text here\"],\n",
    "    [\"Key4\", 0.023345],\n",
    "]"
   ]
  },
  {
   "cell_type": "code",
   "execution_count": 25,
   "id": "be381566",
   "metadata": {},
   "outputs": [],
   "source": [
    "report.add_two_col_table( data, header=True)"
   ]
  },
  {
   "cell_type": "code",
   "execution_count": 26,
   "id": "ca7b5f08",
   "metadata": {},
   "outputs": [],
   "source": [
    "fig, ax = plt.subplots()\n",
    "ax.plot(np.linspace(0,10,100), np.sin(np.linspace(0,10,100)))\n",
    "report.add_matplotlib_figure(fig, width_fraction=0.4, dpi=300)"
   ]
  },
  {
   "cell_type": "code",
   "execution_count": 27,
   "id": "f9a0fdbb",
   "metadata": {},
   "outputs": [],
   "source": [
    "report.save()"
   ]
  }
 ],
 "metadata": {
  "kernelspec": {
   "display_name": ".venv",
   "language": "python",
   "name": "python3"
  },
  "language_info": {
   "codemirror_mode": {
    "name": "ipython",
    "version": 3
   },
   "file_extension": ".py",
   "mimetype": "text/x-python",
   "name": "python",
   "nbconvert_exporter": "python",
   "pygments_lexer": "ipython3",
   "version": "3.11.7"
  }
 },
 "nbformat": 4,
 "nbformat_minor": 5
}
