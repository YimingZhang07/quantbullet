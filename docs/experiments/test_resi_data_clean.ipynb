{
 "cells": [
  {
   "cell_type": "code",
   "execution_count": 34,
   "id": "4624d19a",
   "metadata": {},
   "outputs": [],
   "source": [
    "import polars as pl\n",
    "import pandas as pd\n",
    "from pathlib import Path\n",
    "from quantbullet.utils.encrypt import decrypt_variable_from_file"
   ]
  },
  {
   "cell_type": "markdown",
   "id": "5fd002e3",
   "metadata": {},
   "source": [
    "## PMMS"
   ]
  },
  {
   "cell_type": "code",
   "execution_count": 4,
   "id": "aff75810",
   "metadata": {},
   "outputs": [],
   "source": [
    "pmms_polars = pmms_polars.select( ['asofmon', 'pmms30'] ).with_columns(\n",
    "    yyyymm_str = ( pl.col( \"asofmon\" ).dt.strftime( \"%Y%m\" ) )\n",
    ").with_columns(\n",
    "    pmms_lag1 = pl.col( \"pmms30\" ).shift( 1 ),\n",
    "    pmms_lag2 = pl.col( \"pmms30\" ).shift( 2 ),\n",
    ").with_columns(\n",
    "    pmms_3m_avg = ( pl.col( \"pmms30\" ) ).rolling_mean( window_size=3 ),\n",
    "    pmms_6m_avg = ( pl.col( \"pmms30\" ) ).rolling_mean( window_size=6 ),\n",
    "    pmms_1y_avg = ( pl.col( \"pmms30\" ) ).rolling_mean( window_size=12 ),\n",
    "    pmms_2y_avg = ( pl.col( \"pmms_lag1\" ) ).rolling_mean( window_size=24 ),\n",
    "    pmms_3y_avg = ( pl.col( \"pmms_lag1\" ) ).rolling_mean( window_size=36 ),\n",
    "    pmms_lag_2_3m_avg = ( pl.col( \"pmms_lag2\" ) ).rolling_mean( window_size=3 ),\n",
    "    pmms_lag_2_6m_avg = ( pl.col( \"pmms_lag2\" ) ).rolling_mean( window_size=6 ),\n",
    "    pmms_lag_2_1y_avg = ( pl.col( \"pmms_lag2\" ) ).rolling_mean( window_size=12 ),\n",
    "    pmms_lag_2_2y_avg = ( pl.col( \"pmms_lag2\" ) ).rolling_mean( window_size=24 ),\n",
    "    pmms_lag_2_3y_avg = ( pl.col( \"pmms_lag2\" ) ).rolling_mean( window_size=36 ),\n",
    ").with_columns(\n",
    "    media_3y_3m = ( pl.col( \"pmms_3y_avg\" ) / pl.col( \"pmms_3m_avg\" ) ),\n",
    "    media_3y_6m = ( pl.col( \"pmms_3y_avg\" ) / pl.col( \"pmms_6m_avg\" ) ),\n",
    "    media_3y_3m_lag2 = ( pl.col( \"pmms_lag_2_3y_avg\" ) / pl.col( \"pmms_lag_2_3m_avg\" ) ),\n",
    "    media_3y_6m_lag2 = ( pl.col( \"pmms_lag_2_3y_avg\" ) / pl.col( \"pmms_lag_2_6m_avg\" ) ),\n",
    ").drop(\n",
    "    pl.col( \"asofmon\" )\n",
    ")"
   ]
  },
  {
   "cell_type": "markdown",
   "id": "e713250b",
   "metadata": {},
   "source": [
    "## HPI"
   ]
  },
  {
   "cell_type": "code",
   "execution_count": 5,
   "id": "bf729fb4",
   "metadata": {},
   "outputs": [],
   "source": [
    "hpi_polars = hpi_polars.with_columns(\n",
    "    asofdate_dt = pl.col( \"asofdate\" ).cast( pl.Utf8 ).str.strptime( pl.Date, format=\"%Y%m%d\" ),\n",
    "    yyyymm_str = pl.col( \"asofdate\" ).cast( pl.Utf8 ).str.slice( 0, 6 )\n",
    ").rename( { \"hpi_index\" : \"hpi\" } )\n",
    "\n",
    "hpi_polars = hpi_polars.with_columns(\n",
    "    hpi_lag_2 = pl.col( \"hpi\" ).shift(2).over( (\"geo_type\", \"geo_code\"), order_by=\"yyyymm_str\", descending=False ),\n",
    "    hpi_lag_26 = pl.col( \"hpi\" ).shift(26).over( (\"geo_type\", \"geo_code\"), order_by=\"yyyymm_str\", descending=False )\n",
    ")\n",
    "\n",
    "# hpi_polars_zip5 = hpi_polars.filter( pl.col( \"geo_type\" ) == \"ZIP\" ).rename( { \"geo_code\": \"zip5\", \"hpi_index\" : \"hpi_zip5\" } )\n",
    "# hpi_polars_zip3 = hpi_polars.filter( pl.col( \"geo_type\" ) == \"ZIP3\" ).rename( { \"geo_code\": \"zip3\", \"hpi_index\" : \"hpi_zip3\" } )\n",
    "# hpi_polars_state = hpi_polars.filter( pl.col( \"geo_type\" ) == \"STATE\" ).rename( { \"geo_code\": \"state\", \"hpi_index\" : \"hpi_state\" } )\n",
    "\n",
    "zip5_ref = hpi_polars.filter( pl.col( \"geo_type\" ) == \"ZIP\" )[ 'geo_code' ].unique().to_list()\n",
    "zip3_ref = hpi_polars.filter( pl.col( \"geo_type\" ) == \"ZIP3\" )[ 'geo_code' ].unique().to_list()\n",
    "state_ref = hpi_polars.filter( pl.col( \"geo_type\" ) == \"STATE\" )[ 'geo_code' ].unique().to_list()"
   ]
  },
  {
   "cell_type": "code",
   "execution_count": 190,
   "id": "897a4cee",
   "metadata": {},
   "outputs": [],
   "source": [
    "# hpi_polars.filter( pl.col( \"geo_code\" ) == \"CA\" ).sort( \"year_month_str\" )"
   ]
  },
  {
   "cell_type": "markdown",
   "id": "af4b677f",
   "metadata": {},
   "source": [
    "## PMMS"
   ]
  },
  {
   "cell_type": "markdown",
   "id": "fbc1b066",
   "metadata": {},
   "source": [
    "## Polars Version"
   ]
  },
  {
   "cell_type": "code",
   "execution_count": 26,
   "id": "3b393664",
   "metadata": {},
   "outputs": [
    {
     "ename": "NameError",
     "evalue": "name 'zip5_ref' is not defined",
     "output_type": "error",
     "traceback": [
      "\u001b[31m---------------------------------------------------------------------------\u001b[39m",
      "\u001b[31mNameError\u001b[39m                                 Traceback (most recent call last)",
      "\u001b[36mCell\u001b[39m\u001b[36m \u001b[39m\u001b[32mIn[26]\u001b[39m\u001b[32m, line 57\u001b[39m\n\u001b[32m      1\u001b[39m data_polars_dlq = data_polars.with_columns(\n\u001b[32m      2\u001b[39m   months_to_paid = (\n\u001b[32m      3\u001b[39m     ( pl.col( \u001b[33m\"\u001b[39m\u001b[33mpaid_to_date\u001b[39m\u001b[33m\"\u001b[39m ).dt.year() - pl.col( \u001b[33m\"\u001b[39m\u001b[33mfactor_date\u001b[39m\u001b[33m\"\u001b[39m ).dt.year() ) * \u001b[32m12\u001b[39m\n\u001b[32m   (...)\u001b[39m\u001b[32m     53\u001b[39m     ( pl.col( \u001b[33m\"\u001b[39m\u001b[33mprev_bal\u001b[39m\u001b[33m\"\u001b[39m ).is_not_null() ) & ( pl.col( \u001b[33m\"\u001b[39m\u001b[33mprev_bal\u001b[39m\u001b[33m\"\u001b[39m) <= \u001b[32m0.01\u001b[39m )\n\u001b[32m     54\u001b[39m )\n\u001b[32m     56\u001b[39m data_polars_hpi = data_polars_dlq.with_columns(\n\u001b[32m---> \u001b[39m\u001b[32m57\u001b[39m     pl.when( pl.col( \u001b[33m\"\u001b[39m\u001b[33mzip5\u001b[39m\u001b[33m\"\u001b[39m ).is_in( \u001b[43mzip5_ref\u001b[49m ) ).then( pl.lit( \u001b[33m\"\u001b[39m\u001b[33mZIP\u001b[39m\u001b[33m\"\u001b[39m ) )\n\u001b[32m     58\u001b[39m     .when( pl.col( \u001b[33m\"\u001b[39m\u001b[33mzip3\u001b[39m\u001b[33m\"\u001b[39m ).is_in( zip3_ref ) ).then( pl.lit( \u001b[33m\"\u001b[39m\u001b[33mZIP3\u001b[39m\u001b[33m\"\u001b[39m ) )\n\u001b[32m     59\u001b[39m     .when( pl.col( \u001b[33m\"\u001b[39m\u001b[33mproperty_state\u001b[39m\u001b[33m\"\u001b[39m ).is_in( state_ref ) ).then( pl.lit( \u001b[33m\"\u001b[39m\u001b[33mSTATE\u001b[39m\u001b[33m\"\u001b[39m ) )\n\u001b[32m     60\u001b[39m     .otherwise( pl.lit( \u001b[33m\"\u001b[39m\u001b[33mX\u001b[39m\u001b[33m\"\u001b[39m ) )\n\u001b[32m     61\u001b[39m     .alias( \u001b[33m\"\u001b[39m\u001b[33mgeo_type\u001b[39m\u001b[33m\"\u001b[39m )\n\u001b[32m     62\u001b[39m ).with_columns(\n\u001b[32m     63\u001b[39m     pl.when( pl.col( \u001b[33m\"\u001b[39m\u001b[33mgeo_type\u001b[39m\u001b[33m\"\u001b[39m ) == \u001b[33m\"\u001b[39m\u001b[33mZIP\u001b[39m\u001b[33m\"\u001b[39m ).then(\n\u001b[32m     64\u001b[39m         pl.col( \u001b[33m\"\u001b[39m\u001b[33mzip5\u001b[39m\u001b[33m\"\u001b[39m )\n\u001b[32m     65\u001b[39m     ).when( pl.col( \u001b[33m\"\u001b[39m\u001b[33mgeo_type\u001b[39m\u001b[33m\"\u001b[39m ) == \u001b[33m\"\u001b[39m\u001b[33mZIP3\u001b[39m\u001b[33m\"\u001b[39m ).then(\n\u001b[32m     66\u001b[39m         pl.col( \u001b[33m\"\u001b[39m\u001b[33mzip3\u001b[39m\u001b[33m\"\u001b[39m )\n\u001b[32m     67\u001b[39m     ).when( pl.col( \u001b[33m\"\u001b[39m\u001b[33mgeo_type\u001b[39m\u001b[33m\"\u001b[39m ) == \u001b[33m\"\u001b[39m\u001b[33mSTATE\u001b[39m\u001b[33m\"\u001b[39m ).then(\n\u001b[32m     68\u001b[39m         pl.col( \u001b[33m\"\u001b[39m\u001b[33mproperty_state\u001b[39m\u001b[33m\"\u001b[39m )\n\u001b[32m     69\u001b[39m     ).otherwise(\n\u001b[32m     70\u001b[39m         pl.lit( \u001b[33m\"\u001b[39m\u001b[33mX\u001b[39m\u001b[33m\"\u001b[39m )\n\u001b[32m     71\u001b[39m     ).alias( \u001b[33m\"\u001b[39m\u001b[33mgeo_code\u001b[39m\u001b[33m\"\u001b[39m )\n\u001b[32m     72\u001b[39m ).join(\n\u001b[32m     73\u001b[39m     hpi_polars.select( [ \u001b[33m\"\u001b[39m\u001b[33myyyymm_str\u001b[39m\u001b[33m\"\u001b[39m, \u001b[33m\"\u001b[39m\u001b[33mgeo_type\u001b[39m\u001b[33m\"\u001b[39m, \u001b[33m\"\u001b[39m\u001b[33mgeo_code\u001b[39m\u001b[33m\"\u001b[39m, \u001b[33m\"\u001b[39m\u001b[33mhpi\u001b[39m\u001b[33m\"\u001b[39m, \u001b[33m\"\u001b[39m\u001b[33mhpi_lag_2\u001b[39m\u001b[33m\"\u001b[39m, \u001b[33m\"\u001b[39m\u001b[33mhpi_lag_26\u001b[39m\u001b[33m\"\u001b[39m ] ),\n\u001b[32m     74\u001b[39m     left_on = [ \u001b[33m\"\u001b[39m\u001b[33myyyymm_str\u001b[39m\u001b[33m\"\u001b[39m, \u001b[33m\"\u001b[39m\u001b[33mgeo_type\u001b[39m\u001b[33m\"\u001b[39m, \u001b[33m\"\u001b[39m\u001b[33mgeo_code\u001b[39m\u001b[33m\"\u001b[39m ],\n\u001b[32m     75\u001b[39m     right_on = [ \u001b[33m\"\u001b[39m\u001b[33myyyymm_str\u001b[39m\u001b[33m\"\u001b[39m, \u001b[33m\"\u001b[39m\u001b[33mgeo_type\u001b[39m\u001b[33m\"\u001b[39m, \u001b[33m\"\u001b[39m\u001b[33mgeo_code\u001b[39m\u001b[33m\"\u001b[39m ],\n\u001b[32m     76\u001b[39m     how = \u001b[33m\"\u001b[39m\u001b[33mleft\u001b[39m\u001b[33m\"\u001b[39m\n\u001b[32m     77\u001b[39m ).join(\n\u001b[32m     78\u001b[39m     hpi_polars.select( [ \u001b[33m\"\u001b[39m\u001b[33myyyymm_str\u001b[39m\u001b[33m\"\u001b[39m, \u001b[33m\"\u001b[39m\u001b[33mgeo_type\u001b[39m\u001b[33m\"\u001b[39m, \u001b[33m\"\u001b[39m\u001b[33mgeo_code\u001b[39m\u001b[33m\"\u001b[39m, \u001b[33m\"\u001b[39m\u001b[33mhpi\u001b[39m\u001b[33m\"\u001b[39m] ).rename( { \u001b[33m\"\u001b[39m\u001b[33mhpi\u001b[39m\u001b[33m\"\u001b[39m : \u001b[33m\"\u001b[39m\u001b[33mhpi_orig\u001b[39m\u001b[33m\"\u001b[39m } ),\n\u001b[32m     79\u001b[39m     left_on = [ \u001b[33m\"\u001b[39m\u001b[33morig_yyyymm_str\u001b[39m\u001b[33m\"\u001b[39m, \u001b[33m\"\u001b[39m\u001b[33mgeo_type\u001b[39m\u001b[33m\"\u001b[39m, \u001b[33m\"\u001b[39m\u001b[33mgeo_code\u001b[39m\u001b[33m\"\u001b[39m ],\n\u001b[32m     80\u001b[39m     right_on = [ \u001b[33m\"\u001b[39m\u001b[33myyyymm_str\u001b[39m\u001b[33m\"\u001b[39m, \u001b[33m\"\u001b[39m\u001b[33mgeo_type\u001b[39m\u001b[33m\"\u001b[39m, \u001b[33m\"\u001b[39m\u001b[33mgeo_code\u001b[39m\u001b[33m\"\u001b[39m ],\n\u001b[32m     81\u001b[39m     how = \u001b[33m\"\u001b[39m\u001b[33mleft\u001b[39m\u001b[33m\"\u001b[39m,\n\u001b[32m     82\u001b[39m ).with_columns(\n\u001b[32m     83\u001b[39m     hpa_lag_2_24m = ( pl.col( \u001b[33m\"\u001b[39m\u001b[33mhpi_lag_2\u001b[39m\u001b[33m\"\u001b[39m ) / pl.col( \u001b[33m\"\u001b[39m\u001b[33mhpi_lag_26\u001b[39m\u001b[33m\"\u001b[39m ) ),\n\u001b[32m     84\u001b[39m     hpa_ratio_since_orig = pl.col( \u001b[33m\"\u001b[39m\u001b[33mhpi\u001b[39m\u001b[33m\"\u001b[39m ) / pl.col( \u001b[33m\"\u001b[39m\u001b[33mhpi_orig\u001b[39m\u001b[33m\"\u001b[39m ),\n\u001b[32m     85\u001b[39m     orig_house_price = pl.col( \u001b[33m\"\u001b[39m\u001b[33morig_bal\u001b[39m\u001b[33m\"\u001b[39m ) / ( pl.col( \u001b[33m\"\u001b[39m\u001b[33morig_ltv\u001b[39m\u001b[33m\"\u001b[39m ) / \u001b[32m100\u001b[39m ),\n\u001b[32m     86\u001b[39m ).with_columns(\n\u001b[32m     87\u001b[39m     \u001b[38;5;66;03m# there is a question here to whether to use current_scheduled_bal or current_actual_bal\u001b[39;00m\n\u001b[32m     88\u001b[39m     cltv = ( pl.col( \u001b[33m\"\u001b[39m\u001b[33mcurrent_actual_bal\u001b[39m\u001b[33m\"\u001b[39m ) / ( pl.col( \u001b[33m\"\u001b[39m\u001b[33morig_house_price\u001b[39m\u001b[33m\"\u001b[39m ) * pl.col( \u001b[33m\"\u001b[39m\u001b[33mhpa_ratio_since_orig\u001b[39m\u001b[33m\"\u001b[39m ) ) ) * \u001b[32m100\u001b[39m\n\u001b[32m     89\u001b[39m )\n\u001b[32m     92\u001b[39m data_polars_pmms = data_polars_hpi.join(\n\u001b[32m     93\u001b[39m     pmms_polars,\n\u001b[32m     94\u001b[39m     left_on = [ \u001b[33m\"\u001b[39m\u001b[33myyyymm_str\u001b[39m\u001b[33m\"\u001b[39m ],\n\u001b[32m   (...)\u001b[39m\u001b[32m    104\u001b[39m     incentive_spread_lag2 = pl.col( \u001b[33m\"\u001b[39m\u001b[33mcurrent_coupon\u001b[39m\u001b[33m\"\u001b[39m ) - pl.col( \u001b[33m\"\u001b[39m\u001b[33mpmms_lag2\u001b[39m\u001b[33m\"\u001b[39m ),\n\u001b[32m    105\u001b[39m )\n\u001b[32m    107\u001b[39m data_polar_types = data_polars_pmms.with_columns(\n\u001b[32m    108\u001b[39m     \u001b[38;5;66;03m# case when 1 then 1, else 2 for everthing else\u001b[39;00m\n\u001b[32m    109\u001b[39m     pl.when( pl.col( \u001b[33m\"\u001b[39m\u001b[33mnumber_of_units\u001b[39m\u001b[33m\"\u001b[39m ) == \u001b[32m1\u001b[39m ).then( pl.lit( \u001b[33m'\u001b[39m\u001b[33m1\u001b[39m\u001b[33m'\u001b[39m ) ).otherwise( pl.lit( \u001b[33m'\u001b[39m\u001b[33m2\u001b[39m\u001b[33m'\u001b[39m ) ).alias( \u001b[33m\"\u001b[39m\u001b[33mf_n_units\u001b[39m\u001b[33m\"\u001b[39m ),\n\u001b[32m   (...)\u001b[39m\u001b[32m    123\u001b[39m     pl.col( \u001b[33m\"\u001b[39m\u001b[33mfirst_time_buyer\u001b[39m\u001b[33m\"\u001b[39m ).cast( pl.Categorical ).alias( \u001b[33m\"\u001b[39m\u001b[33mf_first_time_buyer\u001b[39m\u001b[33m\"\u001b[39m )\n\u001b[32m    124\u001b[39m )\n",
      "\u001b[31mNameError\u001b[39m: name 'zip5_ref' is not defined"
     ]
    }
   ],
   "source": [
    "data_polars_dlq = data_polars.with_columns(\n",
    "  months_to_paid = (\n",
    "    ( pl.col( \"paid_to_date\" ).dt.year() - pl.col( \"factor_date\" ).dt.year() ) * 12\n",
    "    + ( pl.col( \"paid_to_date\" ).dt.month() - pl.col( \"factor_date\" ).dt.month() )\n",
    "    - 1 ),\n",
    "  zip5 = ( pl.col( \"postal_code\" ) ),\n",
    "  zip3 =  ( pl.col( \"postal_code\" ).str.slice( 0, 3 ) ),\n",
    "  yyyymm_str = ( pl.col( \"factor_date\" ).dt.strftime( \"%Y%m\" ) ),\n",
    "  orig_yyyymm_str = ( pl.col( \"origination_date\" ).dt.strftime( \"%Y%m\" ) ),\n",
    "  month_str = ( pl.col( \"factor_date\" ).dt.strftime( \"%b\" ) ),\n",
    "  month_int = ( pl.col( \"factor_date\" ).dt.month() ),\n",
    ").with_columns(\n",
    "  dlq_months = pl.col( \"months_to_paid\" ).clip( lower_bound = 0 )\n",
    ").with_columns(\n",
    "  dlq_status = (\n",
    "    pl.when( ( pl.col( \"mba_dlq_status\" ) == \"0\" ) | ( pl.col( \"current_actual_bal\" ) <= 0.001 ) )\n",
    "      .then( pl.lit( \"PD\" ) )\n",
    "    .when( pl.col( \"mba_dlq_status\" ) == \"C\" )\n",
    "      .then( pl.lit( \"C\" ) )\n",
    "    .when( pl.col( \"mba_dlq_status\" ) == \"3\" )\n",
    "      .then( pl.lit( \"M30\" ) )\n",
    "    .when( pl.col( \"mba_dlq_status\" ) == \"6\" )\n",
    "      .then( pl.lit( \"M60\" ) )\n",
    "    .when( pl.col( \"mba_dlq_status\" ) == \"F\" )\n",
    "      .then( pl.lit( \"FCLS\" ) )\n",
    "    .when( pl.col( \"mba_dlq_status\" ) == \"R\" )\n",
    "      .then( pl.lit( \"REO\" ) )\n",
    "    .when( pl.col( \"mba_dlq_status\" ) == \"9\" )\n",
    "      .then(\n",
    "        pl.when( pl.col( \"dlq_months\" ) <= 3 ).then( pl.lit( \"M90\" ) )\n",
    "        .when( pl.col( \"dlq_months\" ) == 4 ).then( pl.lit( \"M120\" ) )\n",
    "        .when( pl.col( \"dlq_months\" ) == 5 ).then( pl.lit( \"M150\" ) )\n",
    "        .when( pl.col( \"dlq_months\" ) == 6 ).then( pl.lit( \"M180\" ) )\n",
    "        .when( pl.col( \"dlq_months\" ) == 7 ).then( pl.lit( \"M210\" ) )\n",
    "        .when( pl.col( \"dlq_months\" ) == 8 ).then( pl.lit( \"M240\" ) )\n",
    "        .otherwise( pl.lit( \"M270P\" ) )\n",
    "      )\n",
    "    .otherwise( pl.lit( \"X\" ) )\n",
    "  )\n",
    ").with_columns(\n",
    "    next_status = pl.col( \"dlq_status\" ).shift( -1 ).over( ( \"pool_id\", \"loan_id\" ), order_by=\"factor_date\", descending=False ),\n",
    "    prev_status = pl.col( \"dlq_status\" ).shift( 1 ).over( ( \"pool_id\", \"loan_id\" ), order_by=\"factor_date\", descending=False ),\n",
    "    prev_bal = pl.col( \"current_actual_bal\" ).shift( 1 ).over( ( \"pool_id\", \"loan_id\" ), order_by=\"factor_date\", descending=False ),\n",
    "    ever_m30 = pl.when( pl.col( \"dlq_status\" ) == \"M30\" ).then( 1 ) .otherwise( 0 ).cum_max().\\\n",
    "      over( ( \"pool_id\", \"loan_id\" ), order_by=\"factor_date\", descending=False ),\n",
    "    ever_m60 = pl.when( pl.col( \"dlq_status\" ) == \"M60\" ).then( 1 ) .otherwise( 0 ).cum_max().\\\n",
    "      over( ( \"pool_id\", \"loan_id\" ), order_by=\"factor_date\", descending=False ),\n",
    "    ever_m90 = pl.when( pl.col( \"dlq_status\" ) == \"M90\" ).then( 1 ) .otherwise( 0 ).cum_max().\\\n",
    "      over( ( \"pool_id\", \"loan_id\" ), order_by=\"factor_date\", descending=False ),\n",
    ").with_columns(\n",
    "    Cto0 = pl.col( \"next_status\" ).eq( \"PD\" ) * 1\n",
    ").remove(\n",
    "    ( pl.col( \"prev_bal\" ).is_not_null() ) & ( pl.col( \"prev_bal\") <= 0.01 )\n",
    ")\n",
    "\n",
    "data_polars_hpi = data_polars_dlq.with_columns(\n",
    "    pl.when( pl.col( \"zip5\" ).is_in( zip5_ref ) ).then( pl.lit( \"ZIP\" ) )\n",
    "    .when( pl.col( \"zip3\" ).is_in( zip3_ref ) ).then( pl.lit( \"ZIP3\" ) )\n",
    "    .when( pl.col( \"property_state\" ).is_in( state_ref ) ).then( pl.lit( \"STATE\" ) )\n",
    "    .otherwise( pl.lit( \"X\" ) )\n",
    "    .alias( \"geo_type\" )\n",
    ").with_columns(\n",
    "    pl.when( pl.col( \"geo_type\" ) == \"ZIP\" ).then(\n",
    "        pl.col( \"zip5\" )\n",
    "    ).when( pl.col( \"geo_type\" ) == \"ZIP3\" ).then(\n",
    "        pl.col( \"zip3\" )\n",
    "    ).when( pl.col( \"geo_type\" ) == \"STATE\" ).then(\n",
    "        pl.col( \"property_state\" )\n",
    "    ).otherwise(\n",
    "        pl.lit( \"X\" )\n",
    "    ).alias( \"geo_code\" )\n",
    ").join(\n",
    "    hpi_polars.select( [ \"yyyymm_str\", \"geo_type\", \"geo_code\", \"hpi\", \"hpi_lag_2\", \"hpi_lag_26\" ] ),\n",
    "    left_on = [ \"yyyymm_str\", \"geo_type\", \"geo_code\" ],\n",
    "    right_on = [ \"yyyymm_str\", \"geo_type\", \"geo_code\" ],\n",
    "    how = \"left\"\n",
    ").join(\n",
    "    hpi_polars.select( [ \"yyyymm_str\", \"geo_type\", \"geo_code\", \"hpi\"] ).rename( { \"hpi\" : \"hpi_orig\" } ),\n",
    "    left_on = [ \"orig_yyyymm_str\", \"geo_type\", \"geo_code\" ],\n",
    "    right_on = [ \"yyyymm_str\", \"geo_type\", \"geo_code\" ],\n",
    "    how = \"left\",\n",
    ").with_columns(\n",
    "    hpa_lag_2_24m = ( pl.col( \"hpi_lag_2\" ) / pl.col( \"hpi_lag_26\" ) ),\n",
    "    hpa_ratio_since_orig = pl.col( \"hpi\" ) / pl.col( \"hpi_orig\" ),\n",
    "    orig_house_price = pl.col( \"orig_bal\" ) / ( pl.col( \"orig_ltv\" ) / 100 ),\n",
    ").with_columns(\n",
    "    # there is a question here to whether to use current_scheduled_bal or current_actual_bal\n",
    "    cltv = ( pl.col( \"current_actual_bal\" ) / ( pl.col( \"orig_house_price\" ) * pl.col( \"hpa_ratio_since_orig\" ) ) ) * 100\n",
    ")\n",
    "\n",
    "\n",
    "data_polars_pmms = data_polars_hpi.join(\n",
    "    pmms_polars,\n",
    "    left_on = [ \"yyyymm_str\" ],\n",
    "    right_on = [ \"yyyymm_str\" ],\n",
    "    how = \"left\"\n",
    ").with_columns(\n",
    "    sato = pl.col( \"orig_coupon\" ) - pl.col( \"pmms30\" ),\n",
    "    orig_incentive_spread = pl.col( \"orig_coupon\" ) - pl.col( \"pmms30\" ),\n",
    "    orig_incentive_spread_lag1 = pl.col( \"orig_coupon\" ) - pl.col( \"pmms_lag1\" ),\n",
    "    orig_incentive_spread_lag2 = pl.col( \"orig_coupon\" ) - pl.col( \"pmms_lag2\" ),\n",
    "    incentive_spread = pl.col( \"current_coupon\" ) - pl.col( \"pmms30\" ),\n",
    "    incentive_spread_lag1 = pl.col( \"current_coupon\" ) - pl.col( \"pmms_lag1\" ),\n",
    "    incentive_spread_lag2 = pl.col( \"current_coupon\" ) - pl.col( \"pmms_lag2\" ),\n",
    ")\n",
    "\n",
    "data_polar_types = data_polars_pmms.with_columns(\n",
    "    # case when 1 then 1, else 2 for everthing else\n",
    "    pl.when( pl.col( \"number_of_units\" ) == 1 ).then( pl.lit( '1' ) ).otherwise( pl.lit( '2' ) ).alias( \"f_n_units\" ),\n",
    "    pl.when( pl.col( \"ever_m30\" ) == 1 ).then( pl.lit( 'Y' ) ).otherwise( pl.lit( 'N' ) ).alias( \"f_ever_m30\" ),\n",
    "    pl.when( pl.col( \"ever_m60\" ) == 1 ).then( pl.lit( 'Y' ) ).otherwise( pl.lit( 'N' ) ).alias( \"f_ever_m60\" ),\n",
    "    pl.when( pl.col( \"ever_m90\" ) == 1 ).then( pl.lit( 'Y' ) ).otherwise( pl.lit( 'N' ) ).alias( \"f_ever_m90\" )\n",
    ").with_columns(\n",
    "    pl.col( \"month_str\" ).cast( pl.Categorical ).alias( \"f_month\" ),\n",
    "    pl.col( \"loan_purpose\" ).cast( pl.Categorical ).alias( \"f_loan_purpose\" ),\n",
    "    pl.col( \"property_type\" ).cast( pl.Categorical ).alias( \"f_property_type\" ),\n",
    "    pl.col( \"occ_type\" ).cast( pl.Categorical ).alias( \"f_occ_type\" ),\n",
    "    pl.col( \"month_int\" ).cast( pl.UInt8 ).cast( pl.Utf8 ).alias( \"f_month_int\" ),\n",
    "    pl.col( \"f_n_units\" ).cast( pl.Categorical ).alias( \"f_n_units\" ),\n",
    "    pl.col( \"f_ever_m30\" ).cast( pl.Categorical ).alias( \"f_ever_m30\" ),\n",
    "    pl.col( \"f_ever_m60\" ).cast( pl.Categorical ).alias( \"f_ever_m60\" ),\n",
    "    pl.col( \"f_ever_m90\" ).cast( pl.Categorical ).alias( \"f_ever_m90\" ),\n",
    "    pl.col( \"first_time_buyer\" ).cast( pl.Categorical ).alias( \"f_first_time_buyer\" )\n",
    ")"
   ]
  },
  {
   "cell_type": "code",
   "execution_count": 9,
   "id": "fb37962e",
   "metadata": {},
   "outputs": [],
   "source": [
    "data_polar_types.write_parquet(\n",
    "    Path( \"H:/Data\" ) / \"20250915-jumbo-deal-full-data-polars.parquet\"\n",
    ")"
   ]
  },
  {
   "cell_type": "code",
   "execution_count": 132,
   "id": "65d9bfa9",
   "metadata": {},
   "outputs": [
    {
     "data": {
      "text/html": [
       "<div><style>\n",
       ".dataframe > thead > tr,\n",
       ".dataframe > tbody > tr {\n",
       "  text-align: right;\n",
       "  white-space: pre-wrap;\n",
       "}\n",
       "</style>\n",
       "<small>shape: (3, 2)</small><table border=\"1\" class=\"dataframe\"><thead><tr><th>f_loan_purpose</th><th>count</th></tr><tr><td>cat</td><td>u32</td></tr></thead><tbody><tr><td>&quot;P&quot;</td><td>20682</td></tr><tr><td>&quot;N&quot;</td><td>9802</td></tr><tr><td>&quot;C&quot;</td><td>3579</td></tr></tbody></table></div>"
      ],
      "text/plain": [
       "shape: (3, 2)\n",
       "┌────────────────┬───────┐\n",
       "│ f_loan_purpose ┆ count │\n",
       "│ ---            ┆ ---   │\n",
       "│ cat            ┆ u32   │\n",
       "╞════════════════╪═══════╡\n",
       "│ P              ┆ 20682 │\n",
       "│ N              ┆ 9802  │\n",
       "│ C              ┆ 3579  │\n",
       "└────────────────┴───────┘"
      ]
     },
     "execution_count": 132,
     "metadata": {},
     "output_type": "execute_result"
    }
   ],
   "source": [
    "# data_polar_types.filter(\n",
    "#     pl.col( \"ever_m30\" ).eq( True )\n",
    "# )\n",
    "\n",
    "data_polar_types['f_loan_purpose'].value_counts()"
   ]
  },
  {
   "cell_type": "code",
   "execution_count": 121,
   "id": "3f60d112",
   "metadata": {},
   "outputs": [],
   "source": [
    "data_polar_types.filter(\n",
    "    pl.col( \"loan_id\" ).eq( \"000304026012\" )\n",
    ").sort( \"factor_date\" ).to_pandas().to_clipboard()"
   ]
  },
  {
   "cell_type": "code",
   "execution_count": 63,
   "id": "502e7e40",
   "metadata": {},
   "outputs": [
    {
     "data": {
      "text/html": [
       "<div><style>\n",
       ".dataframe > thead > tr,\n",
       ".dataframe > tbody > tr {\n",
       "  text-align: right;\n",
       "  white-space: pre-wrap;\n",
       "}\n",
       "</style>\n",
       "<small>shape: (4, 2)</small><table border=\"1\" class=\"dataframe\"><thead><tr><th>number_of_units</th><th>count</th></tr><tr><td>u8</td><td>u32</td></tr></thead><tbody><tr><td>4</td><td>189</td></tr><tr><td>3</td><td>440</td></tr><tr><td>2</td><td>604</td></tr><tr><td>1</td><td>32830</td></tr></tbody></table></div>"
      ],
      "text/plain": [
       "shape: (4, 2)\n",
       "┌─────────────────┬───────┐\n",
       "│ number_of_units ┆ count │\n",
       "│ ---             ┆ ---   │\n",
       "│ u8              ┆ u32   │\n",
       "╞═════════════════╪═══════╡\n",
       "│ 4               ┆ 189   │\n",
       "│ 3               ┆ 440   │\n",
       "│ 2               ┆ 604   │\n",
       "│ 1               ┆ 32830 │\n",
       "└─────────────────┴───────┘"
      ]
     },
     "execution_count": 63,
     "metadata": {},
     "output_type": "execute_result"
    }
   ],
   "source": [
    "data_polar_types['number_of_units'].value_counts()"
   ]
  },
  {
   "cell_type": "code",
   "execution_count": 52,
   "id": "1f94c737",
   "metadata": {},
   "outputs": [
    {
     "data": {
      "text/html": [
       "<div><style>\n",
       ".dataframe > thead > tr,\n",
       ".dataframe > tbody > tr {\n",
       "  text-align: right;\n",
       "  white-space: pre-wrap;\n",
       "}\n",
       "</style>\n",
       "<small>shape: (1, 79)</small><table border=\"1\" class=\"dataframe\"><thead><tr><th>deal_name_has_null</th><th>pool_id_has_null</th><th>factor_date_has_null</th><th>age_has_null</th><th>current_coupon_has_null</th><th>current_actual_bal_has_null</th><th>current_scheduled_bal_has_null</th><th>date_referred_to_foreclosure_has_null</th><th>paid_to_date_has_null</th><th>mba_dlq_status_has_null</th><th>loan_id_has_null</th><th>product_type_has_null</th><th>property_state_has_null</th><th>lien_has_null</th><th>postal_code_has_null</th><th>first_payment_date_has_null</th><th>maturity_date_has_null</th><th>original_loan_term_has_null</th><th>orig_coupon_has_null</th><th>close_rate_has_null</th><th>orig_bal_has_null</th><th>close_bal_has_null</th><th>prepayment_penalty_indicator_has_null</th><th>fico_has_null</th><th>dti_ratio_has_null</th><th>pmi_has_null</th><th>servicer_has_null</th><th>origination_date_has_null</th><th>orig_ltv_has_null</th><th>orig_comb_ltv_has_null</th><th>number_of_units_has_null</th><th>loan_purpose_has_null</th><th>loan_source_has_null</th><th>property_type_has_null</th><th>occ_type_has_null</th><th>first_time_buyer_has_null</th><th>months_to_paid_has_null</th><th>&hellip;</th><th>dlq_status_has_null</th><th>next_status_has_null</th><th>Cto0_has_null</th><th>geo_type_has_null</th><th>geo_code_has_null</th><th>hpi_has_null</th><th>hpi_lag_2_has_null</th><th>hpi_lag_26_has_null</th><th>hpi_orig_has_null</th><th>hpa_lag_2_24m_has_null</th><th>hpa_ratio_since_orig_has_null</th><th>orig_house_price_has_null</th><th>cltv_has_null</th><th>pmms30_has_null</th><th>pmms_lag1_has_null</th><th>pmms_lag2_has_null</th><th>pmms_3m_avg_has_null</th><th>pmms_6m_avg_has_null</th><th>pmms_1y_avg_has_null</th><th>pmms_2y_avg_has_null</th><th>pmms_3y_avg_has_null</th><th>pmms_lag_2_3m_avg_has_null</th><th>pmms_lag_2_6m_avg_has_null</th><th>pmms_lag_2_1y_avg_has_null</th><th>pmms_lag_2_2y_avg_has_null</th><th>pmms_lag_2_3y_avg_has_null</th><th>media_3y_3m_has_null</th><th>media_3y_6m_has_null</th><th>media_3y_3m_lag2_has_null</th><th>media_3y_6m_lag2_has_null</th><th>sato_has_null</th><th>orig_incentive_spread_has_null</th><th>orig_incentive_spread_lag1_has_null</th><th>orig_incentive_spread_lag2_has_null</th><th>incentive_spread_has_null</th><th>incentive_spread_lag1_has_null</th><th>incentive_spread_lag2_has_null</th></tr><tr><td>bool</td><td>bool</td><td>bool</td><td>bool</td><td>bool</td><td>bool</td><td>bool</td><td>bool</td><td>bool</td><td>bool</td><td>bool</td><td>bool</td><td>bool</td><td>bool</td><td>bool</td><td>bool</td><td>bool</td><td>bool</td><td>bool</td><td>bool</td><td>bool</td><td>bool</td><td>bool</td><td>bool</td><td>bool</td><td>bool</td><td>bool</td><td>bool</td><td>bool</td><td>bool</td><td>bool</td><td>bool</td><td>bool</td><td>bool</td><td>bool</td><td>bool</td><td>bool</td><td>&hellip;</td><td>bool</td><td>bool</td><td>bool</td><td>bool</td><td>bool</td><td>bool</td><td>bool</td><td>bool</td><td>bool</td><td>bool</td><td>bool</td><td>bool</td><td>bool</td><td>bool</td><td>bool</td><td>bool</td><td>bool</td><td>bool</td><td>bool</td><td>bool</td><td>bool</td><td>bool</td><td>bool</td><td>bool</td><td>bool</td><td>bool</td><td>bool</td><td>bool</td><td>bool</td><td>bool</td><td>bool</td><td>bool</td><td>bool</td><td>bool</td><td>bool</td><td>bool</td><td>bool</td></tr></thead><tbody><tr><td>false</td><td>false</td><td>false</td><td>false</td><td>false</td><td>false</td><td>false</td><td>true</td><td>false</td><td>false</td><td>false</td><td>false</td><td>false</td><td>false</td><td>false</td><td>false</td><td>false</td><td>false</td><td>false</td><td>false</td><td>false</td><td>false</td><td>false</td><td>false</td><td>false</td><td>false</td><td>false</td><td>false</td><td>false</td><td>false</td><td>false</td><td>false</td><td>false</td><td>false</td><td>false</td><td>false</td><td>false</td><td>&hellip;</td><td>false</td><td>false</td><td>false</td><td>false</td><td>false</td><td>true</td><td>true</td><td>true</td><td>true</td><td>true</td><td>true</td><td>false</td><td>true</td><td>false</td><td>false</td><td>false</td><td>false</td><td>false</td><td>false</td><td>false</td><td>false</td><td>false</td><td>false</td><td>false</td><td>false</td><td>false</td><td>false</td><td>false</td><td>false</td><td>false</td><td>false</td><td>false</td><td>false</td><td>false</td><td>false</td><td>false</td><td>false</td></tr></tbody></table></div>"
      ],
      "text/plain": [
       "shape: (1, 79)\n",
       "┌───────────┬───────────┬───────────┬───────────┬───┬───────────┬───────────┬───────────┬──────────┐\n",
       "│ deal_name ┆ pool_id_h ┆ factor_da ┆ age_has_n ┆ … ┆ orig_ince ┆ incentive ┆ incentive ┆ incentiv │\n",
       "│ _has_null ┆ as_null   ┆ te_has_nu ┆ ull       ┆   ┆ ntive_spr ┆ _spread_h ┆ _spread_l ┆ e_spread │\n",
       "│ ---       ┆ ---       ┆ ll        ┆ ---       ┆   ┆ ead_lag2_ ┆ as_null   ┆ ag1_has_n ┆ _lag2_ha │\n",
       "│ bool      ┆ bool      ┆ ---       ┆ bool      ┆   ┆ has…      ┆ ---       ┆ ull       ┆ s_null   │\n",
       "│           ┆           ┆ bool      ┆           ┆   ┆ ---       ┆ bool      ┆ ---       ┆ ---      │\n",
       "│           ┆           ┆           ┆           ┆   ┆ bool      ┆           ┆ bool      ┆ bool     │\n",
       "╞═══════════╪═══════════╪═══════════╪═══════════╪═══╪═══════════╪═══════════╪═══════════╪══════════╡\n",
       "│ false     ┆ false     ┆ false     ┆ false     ┆ … ┆ false     ┆ false     ┆ false     ┆ false    │\n",
       "└───────────┴───────────┴───────────┴───────────┴───┴───────────┴───────────┴───────────┴──────────┘"
      ]
     },
     "execution_count": 52,
     "metadata": {},
     "output_type": "execute_result"
    }
   ],
   "source": [
    "data_polars_pmms.select([pl.col(c).is_null().any().alias(c + \"_has_null\") for c in data_polars_pmms.columns])"
   ]
  },
  {
   "cell_type": "code",
   "execution_count": 53,
   "id": "a21c0f6c",
   "metadata": {},
   "outputs": [
    {
     "data": {
      "text/html": [
       "<div><style>\n",
       ".dataframe > thead > tr,\n",
       ".dataframe > tbody > tr {\n",
       "  text-align: right;\n",
       "  white-space: pre-wrap;\n",
       "}\n",
       "</style>\n",
       "<small>shape: (1, 79)</small><table border=\"1\" class=\"dataframe\"><thead><tr><th>deal_name_pct_null</th><th>pool_id_pct_null</th><th>factor_date_pct_null</th><th>age_pct_null</th><th>current_coupon_pct_null</th><th>current_actual_bal_pct_null</th><th>current_scheduled_bal_pct_null</th><th>date_referred_to_foreclosure_pct_null</th><th>paid_to_date_pct_null</th><th>mba_dlq_status_pct_null</th><th>loan_id_pct_null</th><th>product_type_pct_null</th><th>property_state_pct_null</th><th>lien_pct_null</th><th>postal_code_pct_null</th><th>first_payment_date_pct_null</th><th>maturity_date_pct_null</th><th>original_loan_term_pct_null</th><th>orig_coupon_pct_null</th><th>close_rate_pct_null</th><th>orig_bal_pct_null</th><th>close_bal_pct_null</th><th>prepayment_penalty_indicator_pct_null</th><th>fico_pct_null</th><th>dti_ratio_pct_null</th><th>pmi_pct_null</th><th>servicer_pct_null</th><th>origination_date_pct_null</th><th>orig_ltv_pct_null</th><th>orig_comb_ltv_pct_null</th><th>number_of_units_pct_null</th><th>loan_purpose_pct_null</th><th>loan_source_pct_null</th><th>property_type_pct_null</th><th>occ_type_pct_null</th><th>first_time_buyer_pct_null</th><th>months_to_paid_pct_null</th><th>&hellip;</th><th>dlq_status_pct_null</th><th>next_status_pct_null</th><th>Cto0_pct_null</th><th>geo_type_pct_null</th><th>geo_code_pct_null</th><th>hpi_pct_null</th><th>hpi_lag_2_pct_null</th><th>hpi_lag_26_pct_null</th><th>hpi_orig_pct_null</th><th>hpa_lag_2_24m_pct_null</th><th>hpa_ratio_since_orig_pct_null</th><th>orig_house_price_pct_null</th><th>cltv_pct_null</th><th>pmms30_pct_null</th><th>pmms_lag1_pct_null</th><th>pmms_lag2_pct_null</th><th>pmms_3m_avg_pct_null</th><th>pmms_6m_avg_pct_null</th><th>pmms_1y_avg_pct_null</th><th>pmms_2y_avg_pct_null</th><th>pmms_3y_avg_pct_null</th><th>pmms_lag_2_3m_avg_pct_null</th><th>pmms_lag_2_6m_avg_pct_null</th><th>pmms_lag_2_1y_avg_pct_null</th><th>pmms_lag_2_2y_avg_pct_null</th><th>pmms_lag_2_3y_avg_pct_null</th><th>media_3y_3m_pct_null</th><th>media_3y_6m_pct_null</th><th>media_3y_3m_lag2_pct_null</th><th>media_3y_6m_lag2_pct_null</th><th>sato_pct_null</th><th>orig_incentive_spread_pct_null</th><th>orig_incentive_spread_lag1_pct_null</th><th>orig_incentive_spread_lag2_pct_null</th><th>incentive_spread_pct_null</th><th>incentive_spread_lag1_pct_null</th><th>incentive_spread_lag2_pct_null</th></tr><tr><td>f64</td><td>f64</td><td>f64</td><td>f64</td><td>f64</td><td>f64</td><td>f64</td><td>f64</td><td>f64</td><td>f64</td><td>f64</td><td>f64</td><td>f64</td><td>f64</td><td>f64</td><td>f64</td><td>f64</td><td>f64</td><td>f64</td><td>f64</td><td>f64</td><td>f64</td><td>f64</td><td>f64</td><td>f64</td><td>f64</td><td>f64</td><td>f64</td><td>f64</td><td>f64</td><td>f64</td><td>f64</td><td>f64</td><td>f64</td><td>f64</td><td>f64</td><td>f64</td><td>&hellip;</td><td>f64</td><td>f64</td><td>f64</td><td>f64</td><td>f64</td><td>f64</td><td>f64</td><td>f64</td><td>f64</td><td>f64</td><td>f64</td><td>f64</td><td>f64</td><td>f64</td><td>f64</td><td>f64</td><td>f64</td><td>f64</td><td>f64</td><td>f64</td><td>f64</td><td>f64</td><td>f64</td><td>f64</td><td>f64</td><td>f64</td><td>f64</td><td>f64</td><td>f64</td><td>f64</td><td>f64</td><td>f64</td><td>f64</td><td>f64</td><td>f64</td><td>f64</td><td>f64</td></tr></thead><tbody><tr><td>0.0</td><td>0.0</td><td>0.0</td><td>0.0</td><td>0.0</td><td>0.0</td><td>0.0</td><td>99.712298</td><td>0.0</td><td>0.0</td><td>0.0</td><td>0.0</td><td>0.0</td><td>0.0</td><td>0.0</td><td>0.0</td><td>0.0</td><td>0.0</td><td>0.0</td><td>0.0</td><td>0.0</td><td>0.0</td><td>0.0</td><td>0.0</td><td>0.0</td><td>0.0</td><td>0.0</td><td>0.0</td><td>0.0</td><td>0.0</td><td>0.0</td><td>0.0</td><td>0.0</td><td>0.0</td><td>0.0</td><td>0.0</td><td>0.0</td><td>&hellip;</td><td>0.0</td><td>0.0</td><td>0.0</td><td>0.0</td><td>0.0</td><td>0.642926</td><td>0.642926</td><td>0.642926</td><td>0.642926</td><td>0.642926</td><td>0.642926</td><td>0.0</td><td>0.642926</td><td>0.0</td><td>0.0</td><td>0.0</td><td>0.0</td><td>0.0</td><td>0.0</td><td>0.0</td><td>0.0</td><td>0.0</td><td>0.0</td><td>0.0</td><td>0.0</td><td>0.0</td><td>0.0</td><td>0.0</td><td>0.0</td><td>0.0</td><td>0.0</td><td>0.0</td><td>0.0</td><td>0.0</td><td>0.0</td><td>0.0</td><td>0.0</td></tr></tbody></table></div>"
      ],
      "text/plain": [
       "shape: (1, 79)\n",
       "┌───────────┬───────────┬───────────┬───────────┬───┬───────────┬───────────┬───────────┬──────────┐\n",
       "│ deal_name ┆ pool_id_p ┆ factor_da ┆ age_pct_n ┆ … ┆ orig_ince ┆ incentive ┆ incentive ┆ incentiv │\n",
       "│ _pct_null ┆ ct_null   ┆ te_pct_nu ┆ ull       ┆   ┆ ntive_spr ┆ _spread_p ┆ _spread_l ┆ e_spread │\n",
       "│ ---       ┆ ---       ┆ ll        ┆ ---       ┆   ┆ ead_lag2_ ┆ ct_null   ┆ ag1_pct_n ┆ _lag2_pc │\n",
       "│ f64       ┆ f64       ┆ ---       ┆ f64       ┆   ┆ pct…      ┆ ---       ┆ ull       ┆ t_null   │\n",
       "│           ┆           ┆ f64       ┆           ┆   ┆ ---       ┆ f64       ┆ ---       ┆ ---      │\n",
       "│           ┆           ┆           ┆           ┆   ┆ f64       ┆           ┆ f64       ┆ f64      │\n",
       "╞═══════════╪═══════════╪═══════════╪═══════════╪═══╪═══════════╪═══════════╪═══════════╪══════════╡\n",
       "│ 0.0       ┆ 0.0       ┆ 0.0       ┆ 0.0       ┆ … ┆ 0.0       ┆ 0.0       ┆ 0.0       ┆ 0.0      │\n",
       "└───────────┴───────────┴───────────┴───────────┴───┴───────────┴───────────┴───────────┴──────────┘"
      ]
     },
     "execution_count": 53,
     "metadata": {},
     "output_type": "execute_result"
    }
   ],
   "source": [
    "n_rows = data_polars_pmms.height\n",
    "data_polars_pmms.select([\n",
    "    (pl.col(c).is_null().sum() / n_rows * 100).alias(c + \"_pct_null\")\n",
    "    for c in data_polars_pmms.columns\n",
    "])\n"
   ]
  },
  {
   "cell_type": "code",
   "execution_count": 54,
   "id": "6e8610ed",
   "metadata": {},
   "outputs": [
    {
     "data": {
      "text/html": [
       "<div><style>\n",
       ".dataframe > thead > tr,\n",
       ".dataframe > tbody > tr {\n",
       "  text-align: right;\n",
       "  white-space: pre-wrap;\n",
       "}\n",
       "</style>\n",
       "<small>shape: (102, 2)</small><table border=\"1\" class=\"dataframe\"><thead><tr><th>year_month_str</th><th>property_state</th></tr><tr><td>str</td><td>str</td></tr></thead><tbody><tr><td>&quot;202503&quot;</td><td>&quot;MT&quot;</td></tr><tr><td>&quot;202502&quot;</td><td>&quot;MT&quot;</td></tr><tr><td>&quot;202501&quot;</td><td>&quot;MT&quot;</td></tr><tr><td>&quot;202412&quot;</td><td>&quot;MT&quot;</td></tr><tr><td>&quot;202411&quot;</td><td>&quot;MT&quot;</td></tr><tr><td>&hellip;</td><td>&hellip;</td></tr><tr><td>&quot;202006&quot;</td><td>&quot;MT&quot;</td></tr><tr><td>&quot;202507&quot;</td><td>&quot;MT&quot;</td></tr><tr><td>&quot;202506&quot;</td><td>&quot;MT&quot;</td></tr><tr><td>&quot;202505&quot;</td><td>&quot;MT&quot;</td></tr><tr><td>&quot;202504&quot;</td><td>&quot;MT&quot;</td></tr></tbody></table></div>"
      ],
      "text/plain": [
       "shape: (102, 2)\n",
       "┌────────────────┬────────────────┐\n",
       "│ year_month_str ┆ property_state │\n",
       "│ ---            ┆ ---            │\n",
       "│ str            ┆ str            │\n",
       "╞════════════════╪════════════════╡\n",
       "│ 202503         ┆ MT             │\n",
       "│ 202502         ┆ MT             │\n",
       "│ 202501         ┆ MT             │\n",
       "│ 202412         ┆ MT             │\n",
       "│ 202411         ┆ MT             │\n",
       "│ …              ┆ …              │\n",
       "│ 202006         ┆ MT             │\n",
       "│ 202507         ┆ MT             │\n",
       "│ 202506         ┆ MT             │\n",
       "│ 202505         ┆ MT             │\n",
       "│ 202504         ┆ MT             │\n",
       "└────────────────┴────────────────┘"
      ]
     },
     "execution_count": 54,
     "metadata": {},
     "output_type": "execute_result"
    }
   ],
   "source": [
    "# The missing HPI values are due to MT state\n",
    "data_polars_hpi.filter( pl.col( \"hpi\" ).is_null() )[ [ 'year_month_str', 'property_state' ] ].unique( maintain_order=True )"
   ]
  },
  {
   "cell_type": "code",
   "execution_count": 55,
   "id": "45964157",
   "metadata": {},
   "outputs": [
    {
     "data": {
      "text/plain": [
       "False"
      ]
     },
     "execution_count": 55,
     "metadata": {},
     "output_type": "execute_result"
    }
   ],
   "source": [
    "\"MT\" in state_ref"
   ]
  }
 ],
 "metadata": {
  "kernelspec": {
   "display_name": ".venv",
   "language": "python",
   "name": "python3"
  },
  "language_info": {
   "codemirror_mode": {
    "name": "ipython",
    "version": 3
   },
   "file_extension": ".py",
   "mimetype": "text/x-python",
   "name": "python",
   "nbconvert_exporter": "python",
   "pygments_lexer": "ipython3",
   "version": "3.11.9"
  }
 },
 "nbformat": 4,
 "nbformat_minor": 5
}
