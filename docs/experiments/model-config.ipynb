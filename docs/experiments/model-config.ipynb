{
 "cells": [
  {
   "cell_type": "code",
   "execution_count": 1,
   "id": "a938828a",
   "metadata": {},
   "outputs": [],
   "source": [
    "from quantbullet.linear_product_model.component_manager import ComponentManager, ComponentConfig\n",
    "import numpy as np"
   ]
  },
  {
   "cell_type": "code",
   "execution_count": 2,
   "id": "9b56bb82",
   "metadata": {},
   "outputs": [],
   "source": [
    "incentive_component = ComponentConfig(\n",
    "    class_name='DoubleLogisticModel',\n",
    "    args={\n",
    "        'params_dict': {\n",
    "            'L1': np.float64(0.7516834702254335),\n",
    "            'L2': np.float64(226.36504137281347),\n",
    "            'k1': np.float64(41.69666034849466),\n",
    "            'x1': np.float64(0.9564395447875549),\n",
    "            'k2': np.float64(1.5478625280261262),\n",
    "            'x2': np.float64(-3.0581260821429876),\n",
    "            'c': np.float64(-224.64640815777398)\n",
    "        },\n",
    "        'allow_extrapolation': True,\n",
    "        'left_bound_': np.float64(0.3484),\n",
    "        'right_bound_': np.float64(0.9999),\n",
    "        '_model_name': 'INC-DoubleLogisticModel'\n",
    "    }\n",
    ")"
   ]
  },
  {
   "cell_type": "code",
   "execution_count": 3,
   "id": "6894cf18",
   "metadata": {},
   "outputs": [],
   "source": [
    "manager = ComponentManager()"
   ]
  },
  {
   "cell_type": "code",
   "execution_count": 4,
   "id": "3ad7d5eb",
   "metadata": {},
   "outputs": [],
   "source": [
    "manager.add_component('incentive', incentive_component)"
   ]
  },
  {
   "cell_type": "code",
   "execution_count": 5,
   "id": "b4e3c1ef",
   "metadata": {},
   "outputs": [
    {
     "data": {
      "text/plain": [
       "{'label': 'CompositeModel',\n",
       " 'components': {'incentive': {'class_name': 'DoubleLogisticModel',\n",
       "   'args': {'params_dict': {'L1': np.float64(0.7516834702254335),\n",
       "     'L2': np.float64(226.36504137281347),\n",
       "     'k1': np.float64(41.69666034849466),\n",
       "     'x1': np.float64(0.9564395447875549),\n",
       "     'k2': np.float64(1.5478625280261262),\n",
       "     'x2': np.float64(-3.0581260821429876),\n",
       "     'c': np.float64(-224.64640815777398)},\n",
       "    'allow_extrapolation': True,\n",
       "    'left_bound_': np.float64(0.3484),\n",
       "    'right_bound_': np.float64(0.9999),\n",
       "    '_model_name': 'INC-DoubleLogisticModel'},\n",
       "   'metadata': {}}}}"
      ]
     },
     "execution_count": 5,
     "metadata": {},
     "output_type": "execute_result"
    }
   ],
   "source": [
    "manager.to_dict()"
   ]
  },
  {
   "cell_type": "code",
   "execution_count": 6,
   "id": "7c0102e5",
   "metadata": {},
   "outputs": [],
   "source": [
    "manager.to_json('model-config.json')"
   ]
  },
  {
   "cell_type": "code",
   "execution_count": 7,
   "id": "1def112f",
   "metadata": {},
   "outputs": [],
   "source": [
    "manager2 = ComponentManager.from_json('model-config.json')"
   ]
  },
  {
   "cell_type": "code",
   "execution_count": 8,
   "id": "9d049a8a",
   "metadata": {},
   "outputs": [],
   "source": [
    "manager2.build_all_models()"
   ]
  },
  {
   "cell_type": "code",
   "execution_count": 11,
   "id": "17453c9e",
   "metadata": {},
   "outputs": [],
   "source": [
    "m = manager2.models['incentive']"
   ]
  }
 ],
 "metadata": {
  "kernelspec": {
   "display_name": ".venv",
   "language": "python",
   "name": "python3"
  },
  "language_info": {
   "codemirror_mode": {
    "name": "ipython",
    "version": 3
   },
   "file_extension": ".py",
   "mimetype": "text/x-python",
   "name": "python",
   "nbconvert_exporter": "python",
   "pygments_lexer": "ipython3",
   "version": "3.11.7"
  }
 },
 "nbformat": 4,
 "nbformat_minor": 5
}
