{
 "cells": [
  {
   "cell_type": "code",
   "execution_count": 1,
   "id": "7a2ed06e",
   "metadata": {},
   "outputs": [],
   "source": [
    "%load_ext autoreload\n",
    "%autoreload 2"
   ]
  },
  {
   "cell_type": "code",
   "execution_count": 2,
   "id": "f98d0c44",
   "metadata": {},
   "outputs": [],
   "source": [
    "from quantbullet.model.neighbors import FeatureScaledKNNRegressor\n",
    "import numpy as np\n",
    "import pandas as pd\n",
    "from quantbullet.model_selection.optimizer import GridSearch"
   ]
  },
  {
   "cell_type": "code",
   "execution_count": 3,
   "id": "c277404c",
   "metadata": {},
   "outputs": [],
   "source": [
    "np.random.seed(42)\n",
    "\n",
    "def make_mahalanobis_friendly_data(n_samples=500):\n",
    "    X = np.random.randn(n_samples, 3)\n",
    "    # Add strong correlation\n",
    "    X[:, 1] = X[:, 0] * 0.9 + np.random.randn(n_samples) * 0.1\n",
    "    X[:, 2] = X[:, 0] * -0.8 + np.random.randn(n_samples) * 0.2\n",
    "    y = np.sin(X[:, 0]) + 0.1 * np.random.randn(n_samples)\n",
    "    return X, y\n",
    "\n",
    "def make_euclidean_friendly_data(n_samples=500):\n",
    "    X = np.random.randn(n_samples, 3)\n",
    "    y = 2 * X[:, 0] + 0.5 * X[:, 1] + 0.1 * X[:, 2] + 0.2 * np.random.randn(n_samples)\n",
    "    return X, y"
   ]
  },
  {
   "cell_type": "code",
   "execution_count": 4,
   "id": "64526b1f",
   "metadata": {},
   "outputs": [],
   "source": [
    "# Choose your dataset\n",
    "# X, y = make_mahalanobis_friendly_data()\n",
    "X, y = make_euclidean_friendly_data()"
   ]
  },
  {
   "cell_type": "code",
   "execution_count": 5,
   "id": "b7a984cb",
   "metadata": {},
   "outputs": [],
   "source": [
    "gridSearchCvOptimizer = GridSearch(\n",
    "    estimator=FeatureScaledKNNRegressor(),\n",
    "    param_grid={\n",
    "        'n_neighbors': [1, 3, 5, 7, 9],\n",
    "        'weights': ['uniform', 'distance'],\n",
    "        'metrics': ['euclidean', 'mahalanobis'],\n",
    "        'feature_weights': [None],\n",
    "    },\n",
    "    scoring='neg_mean_squared_error',\n",
    "    cv=5,\n",
    "    verbose=1,\n",
    ")"
   ]
  },
  {
   "cell_type": "code",
   "execution_count": 6,
   "id": "45551d14",
   "metadata": {},
   "outputs": [
    {
     "name": "stdout",
     "output_type": "stream",
     "text": [
      "Fitting 5 folds for each of 20 candidates, totalling 100 fits\n"
     ]
    },
    {
     "data": {
      "text/plain": [
       "<quantbullet.model_selection.optimizer.GridSearch at 0x17829e6fd10>"
      ]
     },
     "execution_count": 6,
     "metadata": {},
     "output_type": "execute_result"
    }
   ],
   "source": [
    "gridSearchCvOptimizer.fit(X, y)"
   ]
  },
  {
   "cell_type": "code",
   "execution_count": 7,
   "id": "26808724",
   "metadata": {},
   "outputs": [
    {
     "data": {
      "text/html": [
       "<div>\n",
       "<style scoped>\n",
       "    .dataframe tbody tr th:only-of-type {\n",
       "        vertical-align: middle;\n",
       "    }\n",
       "\n",
       "    .dataframe tbody tr th {\n",
       "        vertical-align: top;\n",
       "    }\n",
       "\n",
       "    .dataframe thead th {\n",
       "        text-align: right;\n",
       "    }\n",
       "</style>\n",
       "<table border=\"1\" class=\"dataframe\">\n",
       "  <thead>\n",
       "    <tr style=\"text-align: right;\">\n",
       "      <th></th>\n",
       "      <th>feature_weights</th>\n",
       "      <th>metrics</th>\n",
       "      <th>n_neighbors</th>\n",
       "      <th>weights</th>\n",
       "      <th>mean_test_score</th>\n",
       "      <th>std_test_score</th>\n",
       "      <th>rank</th>\n",
       "    </tr>\n",
       "  </thead>\n",
       "  <tbody>\n",
       "    <tr>\n",
       "      <th>3</th>\n",
       "      <td>None</td>\n",
       "      <td>euclidean</td>\n",
       "      <td>3</td>\n",
       "      <td>distance</td>\n",
       "      <td>-0.157483</td>\n",
       "      <td>0.016937</td>\n",
       "      <td>1</td>\n",
       "    </tr>\n",
       "    <tr>\n",
       "      <th>15</th>\n",
       "      <td>None</td>\n",
       "      <td>mahalanobis</td>\n",
       "      <td>5</td>\n",
       "      <td>distance</td>\n",
       "      <td>-0.162730</td>\n",
       "      <td>0.043660</td>\n",
       "      <td>2</td>\n",
       "    </tr>\n",
       "    <tr>\n",
       "      <th>13</th>\n",
       "      <td>None</td>\n",
       "      <td>mahalanobis</td>\n",
       "      <td>3</td>\n",
       "      <td>distance</td>\n",
       "      <td>-0.163885</td>\n",
       "      <td>0.045984</td>\n",
       "      <td>3</td>\n",
       "    </tr>\n",
       "    <tr>\n",
       "      <th>5</th>\n",
       "      <td>None</td>\n",
       "      <td>euclidean</td>\n",
       "      <td>5</td>\n",
       "      <td>distance</td>\n",
       "      <td>-0.165110</td>\n",
       "      <td>0.023466</td>\n",
       "      <td>4</td>\n",
       "    </tr>\n",
       "    <tr>\n",
       "      <th>17</th>\n",
       "      <td>None</td>\n",
       "      <td>mahalanobis</td>\n",
       "      <td>7</td>\n",
       "      <td>distance</td>\n",
       "      <td>-0.170239</td>\n",
       "      <td>0.052808</td>\n",
       "      <td>5</td>\n",
       "    </tr>\n",
       "  </tbody>\n",
       "</table>\n",
       "</div>"
      ],
      "text/plain": [
       "   feature_weights      metrics  n_neighbors   weights  mean_test_score  \\\n",
       "3             None    euclidean            3  distance        -0.157483   \n",
       "15            None  mahalanobis            5  distance        -0.162730   \n",
       "13            None  mahalanobis            3  distance        -0.163885   \n",
       "5             None    euclidean            5  distance        -0.165110   \n",
       "17            None  mahalanobis            7  distance        -0.170239   \n",
       "\n",
       "    std_test_score  rank  \n",
       "3         0.016937     1  \n",
       "15        0.043660     2  \n",
       "13        0.045984     3  \n",
       "5         0.023466     4  \n",
       "17        0.052808     5  "
      ]
     },
     "execution_count": 7,
     "metadata": {},
     "output_type": "execute_result"
    }
   ],
   "source": [
    "gridSearchCvOptimizer.summary().head()"
   ]
  },
  {
   "cell_type": "code",
   "execution_count": 10,
   "id": "7f820489",
   "metadata": {},
   "outputs": [
    {
     "data": {
      "text/plain": [
       "{'feature_weights': None,\n",
       " 'metrics': 'euclidean',\n",
       " 'n_neighbors': 3,\n",
       " 'weights': 'distance'}"
      ]
     },
     "execution_count": 10,
     "metadata": {},
     "output_type": "execute_result"
    }
   ],
   "source": [
    "gridSearchCvOptimizer.best_model().get_params()"
   ]
  },
  {
   "cell_type": "code",
   "execution_count": 12,
   "id": "f02c109d",
   "metadata": {},
   "outputs": [],
   "source": [
    "best_model = gridSearchCvOptimizer.best_model()"
   ]
  },
  {
   "cell_type": "code",
   "execution_count": 11,
   "id": "f1dfee60",
   "metadata": {},
   "outputs": [
    {
     "data": {
      "text/plain": [
       "{'mse': 0.0}"
      ]
     },
     "execution_count": 11,
     "metadata": {},
     "output_type": "execute_result"
    }
   ],
   "source": [
    "gridSearchCvOptimizer.evaluate(X, y)"
   ]
  },
  {
   "cell_type": "code",
   "execution_count": null,
   "id": "9eac4309",
   "metadata": {},
   "outputs": [
    {
     "name": "stdout",
     "output_type": "stream",
     "text": [
      "Fitting 5 folds for each of 16 candidates, totalling 80 fits\n",
      "\n",
      "📊 Grid Search Results:\n",
      "feature_weights     metrics  n_neighbors  weights  mean_test_mse  std_test_mse  rank\n",
      "           None   euclidean            3 distance       0.175532      0.032498     1\n",
      "           None   euclidean            5 distance       0.177007      0.036711     2\n",
      "           None mahalanobis            5 distance       0.184377      0.050798     3\n",
      "           None mahalanobis            3 distance       0.184455      0.036285     4\n",
      "           None   euclidean            3  uniform       0.194170      0.029669     5\n",
      "           None   euclidean            5  uniform       0.197269      0.034193     6\n",
      "           None mahalanobis            3  uniform       0.202558      0.037352     7\n",
      "           None mahalanobis            5  uniform       0.205641      0.053098     8\n",
      "           None   euclidean           10 distance       0.213274      0.050638     9\n",
      "           None mahalanobis           10 distance       0.220298      0.072123    10\n",
      "           None   euclidean           10  uniform       0.249171      0.055451    11\n",
      "           None mahalanobis           10  uniform       0.253242      0.082561    12\n",
      "           None mahalanobis           20 distance       0.296199      0.098025    13\n",
      "           None   euclidean           20 distance       0.305766      0.063978    14\n",
      "           None mahalanobis           20  uniform       0.354423      0.114504    15\n",
      "           None   euclidean           20  uniform       0.371748      0.071002    16\n",
      "\n",
      "✅ Best Params: {'feature_weights': None, 'metrics': 'euclidean', 'n_neighbors': 3, 'weights': 'distance'}\n",
      "📉 Test MSE: 0.19260992403514055\n"
     ]
    }
   ],
   "source": [
    "\n",
    "\n",
    "# GridSearch\n",
    "param_grid = {\n",
    "    'n_neighbors': [3, 5, 10, 20],\n",
    "    'metrics': ['euclidean', 'mahalanobis'],\n",
    "    'weights': ['uniform', 'distance'],\n",
    "    'feature_weights': [None]\n",
    "}\n",
    "\n",
    "grid = GridSearchCV(\n",
    "    weightedDistanceKNRegressor(),\n",
    "    param_grid,\n",
    "    scoring='neg_mean_squared_error',\n",
    "    cv=5,\n",
    "    verbose=1\n",
    ")\n",
    "\n",
    "grid.fit(X_train, y_train)\n",
    "\n",
    "# Result summary\n",
    "results_df = pd.DataFrame(grid.cv_results_)\n",
    "summary_df = pd.json_normalize(results_df['params']).assign(\n",
    "    mean_test_mse=-results_df['mean_test_score'],\n",
    "    std_test_mse=results_df['std_test_score'],\n",
    "    rank=results_df['rank_test_score']\n",
    ").sort_values(by='mean_test_mse')\n",
    "\n",
    "print(\"\\n📊 Grid Search Results:\")\n",
    "print(summary_df.to_string(index=False))\n",
    "\n",
    "# Final test evaluation\n",
    "best_model = grid.best_estimator_\n",
    "y_pred = best_model.predict(X_test)\n",
    "print(\"\\n✅ Best Params:\", grid.best_params_)\n",
    "print(\"📉 Test MSE:\", mean_squared_error(y_test, y_pred))\n"
   ]
  }
 ],
 "metadata": {
  "kernelspec": {
   "display_name": ".venv",
   "language": "python",
   "name": "python3"
  },
  "language_info": {
   "codemirror_mode": {
    "name": "ipython",
    "version": 3
   },
   "file_extension": ".py",
   "mimetype": "text/x-python",
   "name": "python",
   "nbconvert_exporter": "python",
   "pygments_lexer": "ipython3",
   "version": "3.11.7"
  }
 },
 "nbformat": 4,
 "nbformat_minor": 5
}
