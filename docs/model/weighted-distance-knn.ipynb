{
 "cells": [
  {
   "cell_type": "code",
   "execution_count": 16,
   "id": "7a2ed06e",
   "metadata": {},
   "outputs": [
    {
     "name": "stdout",
     "output_type": "stream",
     "text": [
      "The autoreload extension is already loaded. To reload it, use:\n",
      "  %reload_ext autoreload\n"
     ]
    }
   ],
   "source": [
    "%load_ext autoreload\n",
    "%autoreload 2"
   ]
  },
  {
   "cell_type": "code",
   "execution_count": 17,
   "id": "f98d0c44",
   "metadata": {},
   "outputs": [],
   "source": [
    "from quantbullet.model.neighbors import FeatureScaledKNNRegressor\n",
    "import numpy as np\n",
    "import pandas as pd\n",
    "from quantbullet.model_selection.optimizer import GridSearch"
   ]
  },
  {
   "cell_type": "code",
   "execution_count": 18,
   "id": "c277404c",
   "metadata": {},
   "outputs": [],
   "source": [
    "np.random.seed(42)\n",
    "\n",
    "def make_mahalanobis_friendly_data(n_samples=500):\n",
    "    X = np.random.randn(n_samples, 3)\n",
    "    # Add strong correlation\n",
    "    X[:, 1] = X[:, 0] * 0.9 + np.random.randn(n_samples) * 0.1\n",
    "    X[:, 2] = X[:, 0] * -0.8 + np.random.randn(n_samples) * 0.2\n",
    "    y = np.sin(X[:, 0]) + 0.1 * np.random.randn(n_samples)\n",
    "    return X, y\n",
    "\n",
    "def make_euclidean_friendly_data(n_samples=500):\n",
    "    X = np.random.randn(n_samples, 3)\n",
    "    y = 2 * X[:, 0] + 0.5 * X[:, 1] + 0.1 * X[:, 2] + 0.2 * np.random.randn(n_samples)\n",
    "    return X, y"
   ]
  },
  {
   "cell_type": "code",
   "execution_count": 19,
   "id": "64526b1f",
   "metadata": {},
   "outputs": [],
   "source": [
    "# Choose your dataset\n",
    "# X, y = make_mahalanobis_friendly_data()\n",
    "X, y = make_euclidean_friendly_data()"
   ]
  },
  {
   "cell_type": "code",
   "execution_count": 28,
   "id": "b7a984cb",
   "metadata": {},
   "outputs": [],
   "source": [
    "gridSearchCvOptimizer = GridSearch(\n",
    "    estimator=FeatureScaledKNNRegressor(),\n",
    "    param_grid={\n",
    "        'n_neighbors': [1, 3, 5, 7, 9],\n",
    "        'weights': ['uniform'],\n",
    "        'metrics': ['euclidean', 'mahalanobis'],\n",
    "        'feature_weights': [None],\n",
    "    },\n",
    "    scoring='neg_mean_squared_error',\n",
    "    cv=5,\n",
    "    verbose=1,\n",
    ")"
   ]
  },
  {
   "cell_type": "code",
   "execution_count": 29,
   "id": "45551d14",
   "metadata": {},
   "outputs": [
    {
     "name": "stdout",
     "output_type": "stream",
     "text": [
      "Fitting 5 folds for each of 10 candidates, totalling 50 fits\n"
     ]
    },
    {
     "data": {
      "text/plain": [
       "<quantbullet.model_selection.optimizer.GridSearch at 0x1a8917219d0>"
      ]
     },
     "execution_count": 29,
     "metadata": {},
     "output_type": "execute_result"
    }
   ],
   "source": [
    "gridSearchCvOptimizer.fit(X, y)"
   ]
  },
  {
   "cell_type": "code",
   "execution_count": 30,
   "id": "26808724",
   "metadata": {},
   "outputs": [
    {
     "data": {
      "text/html": [
       "<div>\n",
       "<style scoped>\n",
       "    .dataframe tbody tr th:only-of-type {\n",
       "        vertical-align: middle;\n",
       "    }\n",
       "\n",
       "    .dataframe tbody tr th {\n",
       "        vertical-align: top;\n",
       "    }\n",
       "\n",
       "    .dataframe thead th {\n",
       "        text-align: right;\n",
       "    }\n",
       "</style>\n",
       "<table border=\"1\" class=\"dataframe\">\n",
       "  <thead>\n",
       "    <tr style=\"text-align: right;\">\n",
       "      <th></th>\n",
       "      <th>feature_weights</th>\n",
       "      <th>metrics</th>\n",
       "      <th>n_neighbors</th>\n",
       "      <th>weights</th>\n",
       "      <th>mean_test_score</th>\n",
       "      <th>std_test_score</th>\n",
       "      <th>rank</th>\n",
       "    </tr>\n",
       "  </thead>\n",
       "  <tbody>\n",
       "    <tr>\n",
       "      <th>1</th>\n",
       "      <td>None</td>\n",
       "      <td>euclidean</td>\n",
       "      <td>3</td>\n",
       "      <td>uniform</td>\n",
       "      <td>-0.171741</td>\n",
       "      <td>0.019716</td>\n",
       "      <td>1</td>\n",
       "    </tr>\n",
       "    <tr>\n",
       "      <th>6</th>\n",
       "      <td>None</td>\n",
       "      <td>mahalanobis</td>\n",
       "      <td>3</td>\n",
       "      <td>uniform</td>\n",
       "      <td>-0.178907</td>\n",
       "      <td>0.048498</td>\n",
       "      <td>2</td>\n",
       "    </tr>\n",
       "    <tr>\n",
       "      <th>7</th>\n",
       "      <td>None</td>\n",
       "      <td>mahalanobis</td>\n",
       "      <td>5</td>\n",
       "      <td>uniform</td>\n",
       "      <td>-0.184177</td>\n",
       "      <td>0.051585</td>\n",
       "      <td>3</td>\n",
       "    </tr>\n",
       "    <tr>\n",
       "      <th>2</th>\n",
       "      <td>None</td>\n",
       "      <td>euclidean</td>\n",
       "      <td>5</td>\n",
       "      <td>uniform</td>\n",
       "      <td>-0.186842</td>\n",
       "      <td>0.027510</td>\n",
       "      <td>4</td>\n",
       "    </tr>\n",
       "    <tr>\n",
       "      <th>8</th>\n",
       "      <td>None</td>\n",
       "      <td>mahalanobis</td>\n",
       "      <td>7</td>\n",
       "      <td>uniform</td>\n",
       "      <td>-0.195956</td>\n",
       "      <td>0.062516</td>\n",
       "      <td>5</td>\n",
       "    </tr>\n",
       "  </tbody>\n",
       "</table>\n",
       "</div>"
      ],
      "text/plain": [
       "  feature_weights      metrics  n_neighbors  weights  mean_test_score  \\\n",
       "1            None    euclidean            3  uniform        -0.171741   \n",
       "6            None  mahalanobis            3  uniform        -0.178907   \n",
       "7            None  mahalanobis            5  uniform        -0.184177   \n",
       "2            None    euclidean            5  uniform        -0.186842   \n",
       "8            None  mahalanobis            7  uniform        -0.195956   \n",
       "\n",
       "   std_test_score  rank  \n",
       "1        0.019716     1  \n",
       "6        0.048498     2  \n",
       "7        0.051585     3  \n",
       "2        0.027510     4  \n",
       "8        0.062516     5  "
      ]
     },
     "execution_count": 30,
     "metadata": {},
     "output_type": "execute_result"
    }
   ],
   "source": [
    "gridSearchCvOptimizer.summary().head()"
   ]
  },
  {
   "cell_type": "code",
   "execution_count": 36,
   "id": "f02c109d",
   "metadata": {},
   "outputs": [],
   "source": [
    "best_model = gridSearchCvOptimizer.best_model()"
   ]
  },
  {
   "cell_type": "code",
   "execution_count": 37,
   "id": "f1dfee60",
   "metadata": {},
   "outputs": [
    {
     "data": {
      "text/plain": [
       "{'mse': 0.06956211023813165}"
      ]
     },
     "execution_count": 37,
     "metadata": {},
     "output_type": "execute_result"
    }
   ],
   "source": [
    "gridSearchCvOptimizer.evaluate(X, y)"
   ]
  },
  {
   "cell_type": "code",
   "execution_count": 38,
   "id": "effd924d",
   "metadata": {},
   "outputs": [
    {
     "data": {
      "text/plain": [
       "array([ 0.49671415, -0.1382643 ,  0.64768854])"
      ]
     },
     "execution_count": 38,
     "metadata": {},
     "output_type": "execute_result"
    }
   ],
   "source": [
    "X[0, :]"
   ]
  },
  {
   "cell_type": "code",
   "execution_count": 39,
   "id": "de223a2e",
   "metadata": {},
   "outputs": [
    {
     "data": {
      "text/html": [
       "<div>\n",
       "<style scoped>\n",
       "    .dataframe tbody tr th:only-of-type {\n",
       "        vertical-align: middle;\n",
       "    }\n",
       "\n",
       "    .dataframe tbody tr th {\n",
       "        vertical-align: top;\n",
       "    }\n",
       "\n",
       "    .dataframe thead th {\n",
       "        text-align: right;\n",
       "    }\n",
       "</style>\n",
       "<table border=\"1\" class=\"dataframe\">\n",
       "  <thead>\n",
       "    <tr style=\"text-align: right;\">\n",
       "      <th></th>\n",
       "      <th>0</th>\n",
       "      <th>1</th>\n",
       "      <th>2</th>\n",
       "      <th>request_index</th>\n",
       "      <th>prediction</th>\n",
       "      <th>neighbor_index</th>\n",
       "      <th>neighbor_rank</th>\n",
       "      <th>distance</th>\n",
       "      <th>neighbor_y</th>\n",
       "    </tr>\n",
       "  </thead>\n",
       "  <tbody>\n",
       "    <tr>\n",
       "      <th>0</th>\n",
       "      <td>0.496714</td>\n",
       "      <td>-0.138264</td>\n",
       "      <td>0.647689</td>\n",
       "      <td>0</td>\n",
       "      <td>0.91086</td>\n",
       "      <td>0</td>\n",
       "      <td>0</td>\n",
       "      <td>0.000000</td>\n",
       "      <td>1.144737</td>\n",
       "    </tr>\n",
       "    <tr>\n",
       "      <th>1</th>\n",
       "      <td>0.482472</td>\n",
       "      <td>-0.223463</td>\n",
       "      <td>0.714000</td>\n",
       "      <td>0</td>\n",
       "      <td>0.91086</td>\n",
       "      <td>61</td>\n",
       "      <td>1</td>\n",
       "      <td>0.108105</td>\n",
       "      <td>0.775171</td>\n",
       "    </tr>\n",
       "    <tr>\n",
       "      <th>2</th>\n",
       "      <td>0.558327</td>\n",
       "      <td>0.076005</td>\n",
       "      <td>0.538756</td>\n",
       "      <td>0</td>\n",
       "      <td>0.91086</td>\n",
       "      <td>420</td>\n",
       "      <td>2</td>\n",
       "      <td>0.248330</td>\n",
       "      <td>0.812672</td>\n",
       "    </tr>\n",
       "  </tbody>\n",
       "</table>\n",
       "</div>"
      ],
      "text/plain": [
       "          0         1         2  request_index  prediction  neighbor_index  \\\n",
       "0  0.496714 -0.138264  0.647689              0     0.91086               0   \n",
       "1  0.482472 -0.223463  0.714000              0     0.91086              61   \n",
       "2  0.558327  0.076005  0.538756              0     0.91086             420   \n",
       "\n",
       "   neighbor_rank  distance  neighbor_y  \n",
       "0              0  0.000000    1.144737  \n",
       "1              1  0.108105    0.775171  \n",
       "2              2  0.248330    0.812672  "
      ]
     },
     "execution_count": 39,
     "metadata": {},
     "output_type": "execute_result"
    }
   ],
   "source": [
    "best_model.predict_with_neighbors( X[0, :].reshape(1, -1) )"
   ]
  }
 ],
 "metadata": {
  "kernelspec": {
   "display_name": "py311",
   "language": "python",
   "name": "python3"
  },
  "language_info": {
   "codemirror_mode": {
    "name": "ipython",
    "version": 3
   },
   "file_extension": ".py",
   "mimetype": "text/x-python",
   "name": "python",
   "nbconvert_exporter": "python",
   "pygments_lexer": "ipython3",
   "version": "3.11.9"
  }
 },
 "nbformat": 4,
 "nbformat_minor": 5
}
