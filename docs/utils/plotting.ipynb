{
 "cells": [
  {
   "cell_type": "code",
   "execution_count": 1,
   "id": "67d877ef",
   "metadata": {},
   "outputs": [],
   "source": [
    "import matplotlib.pyplot as plt\n",
    "from matplotlib.gridspec import GridSpec\n",
    "from matplotlib.backends.backend_pdf import PdfPages\n",
    "import numpy as np\n",
    "\n",
    "# Simulate 100 chart datasets (e.g., 4 charts × 25 pages)\n",
    "def generate_chart_data(n):\n",
    "    return [np.random.randn(100) for _ in range(n)]\n",
    "\n",
    "data_list = generate_chart_data(100)  # 100 charts\n",
    "\n",
    "def make_page(chart_data_group):\n",
    "    fig = plt.figure(figsize=(11, 8.5))  # Landscape A4\n",
    "    gs = GridSpec(2, 2, figure=fig, hspace=0.4, wspace=0.3)\n",
    "\n",
    "    axes = [fig.add_subplot(gs[i, j]) for i in range(2) for j in range(2)]\n",
    "    for ax, data, idx in zip(axes, chart_data_group, range(len(chart_data_group))):\n",
    "        ax.plot(data)\n",
    "        ax.set_title(f\"Chart {idx + 1}\")\n",
    "\n",
    "    return fig\n",
    "\n",
    "# Write to multi-page PDF\n",
    "with PdfPages(\"multi_page_gridspec_report.pdf\") as pdf:\n",
    "    for i in range(0, len(data_list), 4):  # 4 charts per page\n",
    "        chunk = data_list[i:i+4]\n",
    "        fig = make_page(chunk)\n",
    "        pdf.savefig(fig)\n",
    "        plt.close(fig)\n"
   ]
  }
 ],
 "metadata": {
  "kernelspec": {
   "display_name": ".venv",
   "language": "python",
   "name": "python3"
  },
  "language_info": {
   "codemirror_mode": {
    "name": "ipython",
    "version": 3
   },
   "file_extension": ".py",
   "mimetype": "text/x-python",
   "name": "python",
   "nbconvert_exporter": "python",
   "pygments_lexer": "ipython3",
   "version": "3.11.7"
  }
 },
 "nbformat": 4,
 "nbformat_minor": 5
}
