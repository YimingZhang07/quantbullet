{
 "cells": [
  {
   "cell_type": "code",
   "execution_count": 1,
   "id": "a60fbe83",
   "metadata": {},
   "outputs": [
    {
     "name": "stderr",
     "output_type": "stream",
     "text": [
      "c:\\Users\\yimin\\Documents\\GithubCodes\\quantbullet\\.venv\\Lib\\site-packages\\tqdm\\auto.py:21: TqdmWarning: IProgress not found. Please update jupyter and ipywidgets. See https://ipywidgets.readthedocs.io/en/stable/user_install.html\n",
      "  from .autonotebook import tqdm as notebook_tqdm\n"
     ]
    }
   ],
   "source": [
    "import pandas as pd\n",
    "import numpy as np\n",
    "import random\n",
    "from datetime import timedelta, date\n",
    "\n",
    "import pandas as pd\n",
    "from typing import Type\n",
    "from abc import ABC, abstractmethod\n",
    "\n",
    "from quantbullet.utils.data import generate_fake_bond_trades\n",
    "from quantbullet.model_selection.rolling_window import RollingWindowManager\n",
    "from quantbullet.utils.consolidator import Consolidator\n",
    "\n",
    "from quantbullet.model import Model, Feature, FeatureSpec, FeatureRole, DataType"
   ]
  },
  {
   "cell_type": "code",
   "execution_count": 2,
   "id": "6b33e1d5",
   "metadata": {},
   "outputs": [],
   "source": [
    "%load_ext autoreload\n",
    "%autoreload 2"
   ]
  },
  {
   "cell_type": "code",
   "execution_count": null,
   "id": "46b543e0",
   "metadata": {},
   "outputs": [],
   "source": [
    "class Model(ABC):\n",
    "    @abstractmethod\n",
    "    def fit(self, X, y):\n",
    "        pass\n",
    "\n",
    "    @abstractmethod\n",
    "    def predict(self, X):\n",
    "        pass\n",
    "\n",
    "class SimpleMeanModel(Model):\n",
    "    def fit(self, X, y):\n",
    "        self.mean_return = y.groupby(X.index.get_level_values('security')).mean()\n",
    "\n",
    "    def predict(self, X):\n",
    "        return X.index.get_level_values('security').map(self.mean_return).values\n",
    "\n",
    "class ResultLogger:\n",
    "    def __init__(self):\n",
    "        self.predictions = []\n",
    "\n",
    "    def log(self, date, security, prediction, actual):\n",
    "        self.predictions.append({\n",
    "            \"date\": date,\n",
    "            \"security\": security,\n",
    "            \"prediction\": prediction,\n",
    "            \"actual\": actual\n",
    "        })\n",
    "\n",
    "    def to_frame(self):\n",
    "        return pd.DataFrame(self.predictions)\n",
    "\n",
    "class Backtester:\n",
    "    def __init__(self, data: pd.DataFrame, model_class: Type[Model], window_size: int):\n",
    "        self.data_handler = DataHandler(data)\n",
    "        self.model_class = model_class\n",
    "        self.window_size = window_size\n",
    "        self.logger = ResultLogger()\n",
    "\n",
    "    def run(self):\n",
    "        \n",
    "        all_dates = sorted(self.data_handler.df.index.get_level_values('date').unique())\n",
    "        for i in range(self.window_size, len(all_dates) - 1):\n",
    "            current_date = all_dates[i]\n",
    "            window_data = self.data_handler.get_window(current_date, self.window_size)\n",
    "            next_day_data = self.data_handler.get_next_day_data(current_date)\n",
    "\n",
    "            if next_day_data is None:\n",
    "                break\n",
    "\n",
    "            X_train = window_data[['feature']]  # change this as needed\n",
    "            y_train = window_data['target']\n",
    "            X_test = next_day_data[['feature']]\n",
    "            y_test = next_day_data['target']\n",
    "\n",
    "            model = self.model_class()\n",
    "            model.fit(X_train, y_train)\n",
    "            y_pred = model.predict(X_test)\n",
    "\n",
    "            for sec, pred, actual in zip(X_test.index.get_level_values('security'), y_pred, y_test):\n",
    "                self.logger.log(current_date, sec, pred, actual)\n",
    "\n",
    "        return self.logger.to_frame()\n"
   ]
  },
  {
   "cell_type": "code",
   "execution_count": 4,
   "id": "0d0b172f",
   "metadata": {},
   "outputs": [],
   "source": [
    "START_DATE = date( 2025, 1, 1 )\n",
    "END_DATE = date( 2025, 4, 30 )"
   ]
  },
  {
   "cell_type": "code",
   "execution_count": 5,
   "id": "539e7a5a",
   "metadata": {},
   "outputs": [],
   "source": [
    "df = generate_fake_bond_trades( start_date=START_DATE, end_date=END_DATE )"
   ]
  },
  {
   "cell_type": "code",
   "execution_count": 6,
   "id": "c263a947",
   "metadata": {},
   "outputs": [],
   "source": [
    "rwm = RollingWindowManager.from_flat( df, date_col='date', window_size=5 )"
   ]
  },
  {
   "cell_type": "code",
   "execution_count": 7,
   "id": "3fc5c3f2",
   "metadata": {},
   "outputs": [],
   "source": [
    "res = rwm.get_all_window_dates()"
   ]
  },
  {
   "cell_type": "code",
   "execution_count": null,
   "id": "ae187382",
   "metadata": {},
   "outputs": [],
   "source": [
    "rwm.get_window_data()"
   ]
  }
 ],
 "metadata": {
  "kernelspec": {
   "display_name": ".venv",
   "language": "python",
   "name": "python3"
  },
  "language_info": {
   "codemirror_mode": {
    "name": "ipython",
    "version": 3
   },
   "file_extension": ".py",
   "mimetype": "text/x-python",
   "name": "python",
   "nbconvert_exporter": "python",
   "pygments_lexer": "ipython3",
   "version": "3.11.7"
  }
 },
 "nbformat": 4,
 "nbformat_minor": 5
}
