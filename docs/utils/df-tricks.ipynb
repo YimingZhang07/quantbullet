{
 "cells": [
  {
   "cell_type": "markdown",
   "id": "7817a736",
   "metadata": {},
   "source": [
    "## Move to the next Friday"
   ]
  },
  {
   "cell_type": "code",
   "execution_count": 1,
   "id": "6b3e581b",
   "metadata": {},
   "outputs": [
    {
     "name": "stdout",
     "output_type": "stream",
     "text": [
      "        date next_friday\n",
      "0 2024-01-01  2024-01-05\n",
      "1 2024-01-03  2024-01-05\n",
      "2 2024-01-05  2024-01-05\n",
      "3 2024-01-06  2024-01-12\n",
      "4 2024-01-07  2024-01-12\n"
     ]
    }
   ],
   "source": [
    "import pandas as pd\n",
    "import numpy as np\n",
    "\n",
    "# 示例日期列\n",
    "df = pd.DataFrame({\n",
    "    'date': pd.to_datetime([\n",
    "        '2024-01-01',  # 周一\n",
    "        '2024-01-03',  # 周三\n",
    "        '2024-01-05',  # 周五\n",
    "        '2024-01-06',  # 周六\n",
    "        '2024-01-07',  # 周日\n",
    "    ])\n",
    "})\n",
    "\n",
    "# 移动到下一个周五（weekday=4 表示周五）\n",
    "df['next_friday'] = df['date'] + pd.to_timedelta((4 - df['date'].dt.weekday + 7) % 7, unit='D')\n",
    "\n",
    "print(df)"
   ]
  },
  {
   "cell_type": "markdown",
   "id": "dba66ade",
   "metadata": {},
   "source": [
    "## Move to the Month End"
   ]
  },
  {
   "cell_type": "code",
   "execution_count": 2,
   "id": "82edfcfb",
   "metadata": {},
   "outputs": [
    {
     "name": "stdout",
     "output_type": "stream",
     "text": [
      "        date  month_end\n",
      "0 2024-01-01 2024-01-31\n",
      "1 2024-01-15 2024-01-31\n",
      "2 2024-01-31 2024-01-31\n",
      "3 2024-02-01 2024-02-29\n",
      "4 2024-02-28 2024-02-29\n",
      "5 2024-02-29 2024-02-29\n"
     ]
    }
   ],
   "source": [
    "import pandas as pd\n",
    "\n",
    "# 示例数据\n",
    "df = pd.DataFrame({\n",
    "    'date': pd.to_datetime([\n",
    "        '2024-01-01',\n",
    "        '2024-01-15',\n",
    "        '2024-01-31',  # 已经是月末\n",
    "        '2024-02-01',\n",
    "        '2024-02-28',\n",
    "        '2024-02-29',  # 闰年\n",
    "    ])\n",
    "})\n",
    "\n",
    "# 移动到当月月末（如果已经是月末，不变）\n",
    "df['month_end'] = df['date'] + pd.tseries.offsets.MonthEnd(0)\n",
    "\n",
    "print(df)\n"
   ]
  },
  {
   "cell_type": "markdown",
   "id": "224bddd1",
   "metadata": {},
   "source": [
    "## Differences between two dates"
   ]
  },
  {
   "cell_type": "code",
   "execution_count": 4,
   "id": "e396d8df",
   "metadata": {},
   "outputs": [],
   "source": [
    "import pandas as pd\n",
    "\n",
    "df = pd.DataFrame({\n",
    "    'start_date': pd.to_datetime([\n",
    "        '2024-01-01', '2024-01-05', '2024-02-01', '2024-03-15'\n",
    "    ]),\n",
    "    'end_date': pd.to_datetime([\n",
    "        '2024-01-20', '2024-02-02', '2024-02-28', '2024-04-01'\n",
    "    ])\n",
    "})"
   ]
  },
  {
   "cell_type": "code",
   "execution_count": 8,
   "id": "63be2d1b",
   "metadata": {},
   "outputs": [],
   "source": [
    "df['weeks_floor'] = ((df['end_date'] - df['start_date']).dt.days // 7).astype(int)\n",
    "df['weeks_round'] = ((df['end_date'] - df['start_date']).dt.days / 7).round().astype(int)"
   ]
  },
  {
   "cell_type": "code",
   "execution_count": 9,
   "id": "e383017c",
   "metadata": {},
   "outputs": [
    {
     "data": {
      "text/html": [
       "<div>\n",
       "<style scoped>\n",
       "    .dataframe tbody tr th:only-of-type {\n",
       "        vertical-align: middle;\n",
       "    }\n",
       "\n",
       "    .dataframe tbody tr th {\n",
       "        vertical-align: top;\n",
       "    }\n",
       "\n",
       "    .dataframe thead th {\n",
       "        text-align: right;\n",
       "    }\n",
       "</style>\n",
       "<table border=\"1\" class=\"dataframe\">\n",
       "  <thead>\n",
       "    <tr style=\"text-align: right;\">\n",
       "      <th></th>\n",
       "      <th>start_date</th>\n",
       "      <th>end_date</th>\n",
       "      <th>weeks_floor</th>\n",
       "      <th>weeks_round</th>\n",
       "    </tr>\n",
       "  </thead>\n",
       "  <tbody>\n",
       "    <tr>\n",
       "      <th>0</th>\n",
       "      <td>2024-01-01</td>\n",
       "      <td>2024-01-20</td>\n",
       "      <td>2</td>\n",
       "      <td>3</td>\n",
       "    </tr>\n",
       "    <tr>\n",
       "      <th>1</th>\n",
       "      <td>2024-01-05</td>\n",
       "      <td>2024-02-02</td>\n",
       "      <td>4</td>\n",
       "      <td>4</td>\n",
       "    </tr>\n",
       "    <tr>\n",
       "      <th>2</th>\n",
       "      <td>2024-02-01</td>\n",
       "      <td>2024-02-28</td>\n",
       "      <td>3</td>\n",
       "      <td>4</td>\n",
       "    </tr>\n",
       "    <tr>\n",
       "      <th>3</th>\n",
       "      <td>2024-03-15</td>\n",
       "      <td>2024-04-01</td>\n",
       "      <td>2</td>\n",
       "      <td>2</td>\n",
       "    </tr>\n",
       "  </tbody>\n",
       "</table>\n",
       "</div>"
      ],
      "text/plain": [
       "  start_date   end_date  weeks_floor  weeks_round\n",
       "0 2024-01-01 2024-01-20            2            3\n",
       "1 2024-01-05 2024-02-02            4            4\n",
       "2 2024-02-01 2024-02-28            3            4\n",
       "3 2024-03-15 2024-04-01            2            2"
      ]
     },
     "execution_count": 9,
     "metadata": {},
     "output_type": "execute_result"
    }
   ],
   "source": [
    "df"
   ]
  },
  {
   "cell_type": "markdown",
   "id": "9191a5c4",
   "metadata": {},
   "source": [
    "## Polars and Pandas"
   ]
  },
  {
   "cell_type": "code",
   "execution_count": 19,
   "id": "faa5021f",
   "metadata": {},
   "outputs": [
    {
     "name": "stdout",
     "output_type": "stream",
     "text": [
      "pandas 用时： 0.363 秒\n",
      "polars 用时： 0.076 秒\n"
     ]
    }
   ],
   "source": [
    "import pandas as pd\n",
    "import numpy as np\n",
    "import polars as pl\n",
    "import time\n",
    "\n",
    "# 生成 1000 万行测试数据\n",
    "N = 10_000_000\n",
    "np.random.seed(0)\n",
    "group_data = np.random.choice(['A', 'B', 'C', 'D'], size=N)\n",
    "value_data = np.random.randn(N)\n",
    "\n",
    "# pandas DataFrame\n",
    "df_pd = pd.DataFrame({'group': group_data, 'value': value_data})\n",
    "\n",
    "# polars DataFrame\n",
    "df_pl = pl.DataFrame({'group': group_data, 'value': value_data})\n",
    "\n",
    "# pandas 计时\n",
    "start = time.time()\n",
    "result_pd = df_pd.groupby('group')['value'].mean()\n",
    "print(\"pandas 用时：\", round(time.time() - start, 3), \"秒\")\n",
    "\n",
    "# polars 计时\n",
    "start = time.time()\n",
    "result_pl = df_pl.group_by('group').agg(pl.col('value').mean())\n",
    "print(\"polars 用时：\", round(time.time() - start, 3), \"秒\")\n"
   ]
  },
  {
   "cell_type": "code",
   "execution_count": 1,
   "id": "39abe6be",
   "metadata": {},
   "outputs": [
    {
     "name": "stdout",
     "output_type": "stream",
     "text": [
      "pandas → polars 耗时： 0.852 秒\n",
      "polars → pandas 耗时： 0.339 秒\n"
     ]
    }
   ],
   "source": [
    "import pandas as pd\n",
    "import polars as pl\n",
    "import numpy as np\n",
    "import time\n",
    "\n",
    "# 创建 pandas DataFrame\n",
    "N = 10_000_000\n",
    "df_pd = pd.DataFrame({\n",
    "    'group': np.random.choice(['A', 'B', 'C', 'D'], size=N),\n",
    "    'value': np.random.randn(N)\n",
    "})\n",
    "\n",
    "# pandas → polars\n",
    "start = time.time()\n",
    "df_pl = pl.DataFrame(df_pd)\n",
    "print(\"pandas → polars 耗时：\", round(time.time() - start, 3), \"秒\")\n",
    "\n",
    "# polars → pandas\n",
    "start = time.time()\n",
    "df_pd_back = df_pl.to_pandas()\n",
    "print(\"polars → pandas 耗时：\", round(time.time() - start, 3), \"秒\")\n"
   ]
  },
  {
   "cell_type": "markdown",
   "id": "d5ba61cc",
   "metadata": {},
   "source": [
    "## Agg用于汇总，返回缩减的一个结果"
   ]
  },
  {
   "cell_type": "code",
   "execution_count": 10,
   "id": "c6c187c1",
   "metadata": {},
   "outputs": [],
   "source": [
    "import pandas as pd\n",
    "\n",
    "df = pd.DataFrame({\n",
    "    'group': ['A', 'A', 'B', 'B'],\n",
    "    'value': [10, 20, 30, 40]\n",
    "})"
   ]
  },
  {
   "cell_type": "code",
   "execution_count": 11,
   "id": "9b757c45",
   "metadata": {},
   "outputs": [
    {
     "name": "stdout",
     "output_type": "stream",
     "text": [
      "      value        \n",
      "       mean sum max\n",
      "group              \n",
      "A      15.0  30  20\n",
      "B      35.0  70  40\n"
     ]
    }
   ],
   "source": [
    "result = df.groupby('group').agg({\n",
    "    'value': ['mean', 'sum', 'max']\n",
    "})\n",
    "print(result)\n"
   ]
  },
  {
   "cell_type": "code",
   "execution_count": 12,
   "id": "0b396aab",
   "metadata": {},
   "outputs": [
    {
     "name": "stdout",
     "output_type": "stream",
     "text": [
      "       avg_value  range_value\n",
      "group                        \n",
      "A           15.0           10\n",
      "B           35.0           10\n"
     ]
    }
   ],
   "source": [
    "result = df.groupby('group').agg(\n",
    "    avg_value=('value', 'mean'),\n",
    "    range_value=('value', lambda x: x.max() - x.min())\n",
    ")\n",
    "print(result)"
   ]
  },
  {
   "cell_type": "code",
   "execution_count": 13,
   "id": "1a133fd7",
   "metadata": {},
   "outputs": [
    {
     "name": "stdout",
     "output_type": "stream",
     "text": [
      "       range  mean_sq\n",
      "group                \n",
      "A       10.0    250.0\n",
      "B       10.0   1250.0\n"
     ]
    }
   ],
   "source": [
    "def my_stats(x):\n",
    "    return pd.Series({\n",
    "        'range': x.max() - x.min(),\n",
    "        'mean_sq': (x ** 2).mean()\n",
    "    })\n",
    "\n",
    "result = df.groupby('group')['value'].apply(my_stats).unstack()\n",
    "print(result)\n"
   ]
  },
  {
   "cell_type": "markdown",
   "id": "3232f1c1",
   "metadata": {},
   "source": [
    "## Transform用于返回与原数据框相同长度的结果"
   ]
  },
  {
   "cell_type": "code",
   "execution_count": 17,
   "id": "2e819a5c",
   "metadata": {},
   "outputs": [
    {
     "name": "stdout",
     "output_type": "stream",
     "text": [
      "  group  value  group_mean\n",
      "0     A     10        15.0\n",
      "1     A     20        15.0\n",
      "2     B     30        35.0\n",
      "3     B     40        35.0\n"
     ]
    }
   ],
   "source": [
    "import pandas as pd\n",
    "\n",
    "df = pd.DataFrame({\n",
    "    'group': ['A', 'A', 'B', 'B'],\n",
    "    'value': [10, 20, 30, 40]\n",
    "})\n",
    "\n",
    "df['group_mean'] = df.groupby('group')['value'].transform('mean')\n",
    "print(df)"
   ]
  },
  {
   "cell_type": "code",
   "execution_count": 15,
   "id": "cc8c09d6",
   "metadata": {},
   "outputs": [
    {
     "name": "stdout",
     "output_type": "stream",
     "text": [
      "  group  value  group_mean    zscore\n",
      "0     A     10        15.0 -0.707107\n",
      "1     A     20        15.0  0.707107\n",
      "2     B     30        35.0 -0.707107\n",
      "3     B     40        35.0  0.707107\n"
     ]
    }
   ],
   "source": [
    "df['zscore'] = df.groupby('group')['value'].transform(lambda x: (x - x.mean()) / x.std())\n",
    "print(df)"
   ]
  },
  {
   "cell_type": "code",
   "execution_count": 16,
   "id": "11559a72",
   "metadata": {},
   "outputs": [
    {
     "name": "stdout",
     "output_type": "stream",
     "text": [
      "  group  value  group_mean    zscore  group_rank\n",
      "0     A     10        15.0 -0.707107         1.0\n",
      "1     A     20        15.0  0.707107         2.0\n",
      "2     B     30        35.0 -0.707107         1.0\n",
      "3     B     40        35.0  0.707107         2.0\n"
     ]
    }
   ],
   "source": [
    "df['group_rank'] = df.groupby('group')['value'].transform('rank')\n",
    "print(df)"
   ]
  },
  {
   "cell_type": "markdown",
   "id": "2cd8ca73",
   "metadata": {},
   "source": [
    "## 组内填补缺失值"
   ]
  },
  {
   "cell_type": "code",
   "execution_count": null,
   "id": "9a584d99",
   "metadata": {},
   "outputs": [],
   "source": [
    "import pandas as pd\n",
    "import numpy as np\n",
    "\n",
    "df = pd.DataFrame({\n",
    "    'group': ['A', 'A', 'A', 'B', 'B', 'B'],\n",
    "    'value': [1, np.nan, 3, np.nan, 5, 6]\n",
    "})"
   ]
  },
  {
   "cell_type": "code",
   "execution_count": 20,
   "id": "db523363",
   "metadata": {},
   "outputs": [
    {
     "name": "stdout",
     "output_type": "stream",
     "text": [
      "  group  value  value_filled\n",
      "0     A    1.0           1.0\n",
      "1     A    NaN           2.0\n",
      "2     A    3.0           3.0\n",
      "3     B    NaN           5.5\n",
      "4     B    5.0           5.0\n",
      "5     B    6.0           6.0\n"
     ]
    }
   ],
   "source": [
    "df['value_filled'] = df['value'].fillna(\n",
    "    df.groupby('group')['value'].transform('mean')\n",
    ")\n",
    "print(df)"
   ]
  },
  {
   "cell_type": "code",
   "execution_count": 21,
   "id": "0f8c4aa0",
   "metadata": {},
   "outputs": [
    {
     "name": "stdout",
     "output_type": "stream",
     "text": [
      "  group  value  value_filled  value_fullfill\n",
      "0     A    1.0           1.0             1.0\n",
      "1     A    NaN           2.0             1.0\n",
      "2     A    3.0           3.0             3.0\n",
      "3     B    NaN           5.5             5.0\n",
      "4     B    5.0           5.0             5.0\n",
      "5     B    6.0           6.0             6.0\n"
     ]
    }
   ],
   "source": [
    "df['value_fullfill'] = df.groupby('group')['value'].transform(lambda x: x.ffill().bfill())\n",
    "print(df)"
   ]
  }
 ],
 "metadata": {
  "kernelspec": {
   "display_name": ".venv",
   "language": "python",
   "name": "python3"
  },
  "language_info": {
   "codemirror_mode": {
    "name": "ipython",
    "version": 3
   },
   "file_extension": ".py",
   "mimetype": "text/x-python",
   "name": "python",
   "nbconvert_exporter": "python",
   "pygments_lexer": "ipython3",
   "version": "3.11.7"
  }
 },
 "nbformat": 4,
 "nbformat_minor": 5
}
