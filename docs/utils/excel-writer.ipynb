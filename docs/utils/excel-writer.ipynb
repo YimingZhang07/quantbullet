{
 "cells": [
  {
   "cell_type": "code",
   "execution_count": 1,
   "id": "1ddb77d4",
   "metadata": {},
   "outputs": [],
   "source": [
    "from quantbullet.utils.data import generate_fake_bond_trades\n",
    "from quantbullet.reporting import ExcelExporter, ColumnFormat\n",
    "from datetime import date"
   ]
  },
  {
   "cell_type": "code",
   "execution_count": 2,
   "id": "53860625",
   "metadata": {},
   "outputs": [],
   "source": [
    "data = generate_fake_bond_trades( start_date=date(2020, 1, 1),\n",
    "                                  end_date=date(2020, 1, 31 ) )\n",
    "\n",
    "data = data.rename(columns={'ticker': 'Security Name',\n",
    "                     'date': 'Trade Date',\n",
    "                     'rating' : 'Original Rating',\n",
    "                     'expiry' : 'Reinvestment End Date',\n",
    "                     'yield' : 'Discount Margin',\n",
    "})\n",
    "data['feature_B'] = data['feature_B'] * 10e6"
   ]
  },
  {
   "cell_type": "code",
   "execution_count": 3,
   "id": "53a637c4",
   "metadata": {},
   "outputs": [],
   "source": [
    "col_formats = {\n",
    "    'Security Name' : ColumnFormat( width=15 ),\n",
    "    'Original Rating' : ColumnFormat( width=10 ),\n",
    "    'Discount Margin' : ColumnFormat( width=10, decimals=0, transform=lambda x: x * 100 ),\n",
    "    'feature_A' : ColumnFormat( decimals = 1, color_scale=True, higher_is_better=True ),\n",
    "    'feature_B' : ColumnFormat( decimals = 0, comma=True ),\n",
    "    'feature_C' : ColumnFormat( decimals = 1, parens_for_negative=True, color_scale=True, higher_is_better=False ),\n",
    "    'feature_D' : ColumnFormat( decimals = 0, transform=lambda x: x * 100 ),\n",
    "}"
   ]
  },
  {
   "cell_type": "code",
   "execution_count": null,
   "id": "6e5b7cdc",
   "metadata": {},
   "outputs": [],
   "source": [
    "(\n",
    "    ExcelExporter('fake_bond_trades.xlsx')\n",
    "    .add_sheet('Bond Trades', data, column_formats=col_formats, wrap_header=True, include_header=True, start_col=1, start_row=1)\n",
    "    .add_sheet('Bond Trades Offset', data, column_formats=col_formats, wrap_header=True, include_header=False, start_col=2, start_row=20)\n",
    "    .save()\n",
    ")"
   ]
  }
 ],
 "metadata": {
  "kernelspec": {
   "display_name": ".venv",
   "language": "python",
   "name": "python3"
  },
  "language_info": {
   "codemirror_mode": {
    "name": "ipython",
    "version": 3
   },
   "file_extension": ".py",
   "mimetype": "text/x-python",
   "name": "python",
   "nbconvert_exporter": "python",
   "pygments_lexer": "ipython3",
   "version": "3.11.7"
  }
 },
 "nbformat": 4,
 "nbformat_minor": 5
}
