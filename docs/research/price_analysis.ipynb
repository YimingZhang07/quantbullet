{
 "cells": [
  {
   "cell_type": "code",
   "execution_count": 6,
   "id": "7b4c679e",
   "metadata": {},
   "outputs": [],
   "source": [
    "import pandas as pd\n",
    "import numpy as np\n",
    "\n",
    "def generate_loan_price_data(\n",
    "    start_date: str,\n",
    "    end_date: str,\n",
    "    price_range: tuple = (90, 105),\n",
    "    n_tickers: int = 100,\n",
    "    overlap_pct: float = 0.8,\n",
    "    seed: int = 42,\n",
    "):\n",
    "    \"\"\"\n",
    "    Generate realistic loan price and balance data with high daily overlap.\n",
    "    \"\"\"\n",
    "    np.random.seed(seed)\n",
    "    all_dates = pd.date_range(start=start_date, end=end_date, freq='D')\n",
    "\n",
    "    # Universe of possible tickers: LoanID0000 to LoanID9999\n",
    "    all_possible_ids = set(range(10000))\n",
    "\n",
    "    # Randomly initialize base tickers\n",
    "    initial_ids = np.random.choice(list(all_possible_ids), n_tickers, replace=False)\n",
    "    previous_ids = list(initial_ids)\n",
    "\n",
    "    data = []\n",
    "\n",
    "    for date in all_dates:\n",
    "        n_overlap = int(len(previous_ids) * overlap_pct)\n",
    "        n_new = len(previous_ids) - n_overlap\n",
    "\n",
    "        # Choose overlap IDs from previous day\n",
    "        overlapping_ids = np.random.choice(previous_ids, n_overlap, replace=False).tolist()\n",
    "\n",
    "        # Exclude already used IDs to avoid duplication\n",
    "        used_ids = set(previous_ids)\n",
    "        available_ids = list(all_possible_ids - used_ids)\n",
    "        new_ids = np.random.choice(available_ids, n_new, replace=False).tolist()\n",
    "\n",
    "        today_ids = overlapping_ids + new_ids\n",
    "        today_prices = np.random.uniform(price_range[0], price_range[1], len(today_ids))\n",
    "\n",
    "        for loan_id, price in zip(today_ids, today_prices):\n",
    "            ticker = f\"LoanID{str(loan_id).zfill(4)}\"\n",
    "            balance = loan_id * 1000\n",
    "            data.append({\n",
    "                'Date': date,\n",
    "                'LoanID': ticker,\n",
    "                'Price': round(price, 2),\n",
    "                'Balance': balance\n",
    "            })\n",
    "\n",
    "        previous_ids = today_ids\n",
    "\n",
    "    return pd.DataFrame(data)\n"
   ]
  },
  {
   "cell_type": "code",
   "execution_count": 12,
   "id": "875cc8b8",
   "metadata": {},
   "outputs": [],
   "source": [
    "data = generate_loan_price_data(\n",
    "    start_date='2023-01-01',\n",
    "    end_date='2023-12-31',\n",
    "    price_range=(50, 105),\n",
    "    n_tickers=100,\n",
    "    overlap_pct=1.0,\n",
    "    seed=42\n",
    ")"
   ]
  },
  {
   "cell_type": "code",
   "execution_count": 15,
   "id": "002c6b0c",
   "metadata": {},
   "outputs": [
    {
     "data": {
      "text/html": [
       "<div>\n",
       "<style scoped>\n",
       "    .dataframe tbody tr th:only-of-type {\n",
       "        vertical-align: middle;\n",
       "    }\n",
       "\n",
       "    .dataframe tbody tr th {\n",
       "        vertical-align: top;\n",
       "    }\n",
       "\n",
       "    .dataframe thead th {\n",
       "        text-align: right;\n",
       "    }\n",
       "</style>\n",
       "<table border=\"1\" class=\"dataframe\">\n",
       "  <thead>\n",
       "    <tr style=\"text-align: right;\">\n",
       "      <th></th>\n",
       "      <th>Date</th>\n",
       "      <th>LoanID</th>\n",
       "      <th>Price</th>\n",
       "      <th>Balance</th>\n",
       "    </tr>\n",
       "  </thead>\n",
       "  <tbody>\n",
       "    <tr>\n",
       "      <th>0</th>\n",
       "      <td>2023-01-01</td>\n",
       "      <td>LoanID8328</td>\n",
       "      <td>59.56</td>\n",
       "      <td>8328000</td>\n",
       "    </tr>\n",
       "    <tr>\n",
       "      <th>162</th>\n",
       "      <td>2023-01-02</td>\n",
       "      <td>LoanID8328</td>\n",
       "      <td>82.83</td>\n",
       "      <td>8328000</td>\n",
       "    </tr>\n",
       "    <tr>\n",
       "      <th>247</th>\n",
       "      <td>2023-01-03</td>\n",
       "      <td>LoanID8328</td>\n",
       "      <td>101.62</td>\n",
       "      <td>8328000</td>\n",
       "    </tr>\n",
       "    <tr>\n",
       "      <th>324</th>\n",
       "      <td>2023-01-04</td>\n",
       "      <td>LoanID8328</td>\n",
       "      <td>54.02</td>\n",
       "      <td>8328000</td>\n",
       "    </tr>\n",
       "    <tr>\n",
       "      <th>480</th>\n",
       "      <td>2023-01-05</td>\n",
       "      <td>LoanID8328</td>\n",
       "      <td>94.26</td>\n",
       "      <td>8328000</td>\n",
       "    </tr>\n",
       "    <tr>\n",
       "      <th>...</th>\n",
       "      <td>...</td>\n",
       "      <td>...</td>\n",
       "      <td>...</td>\n",
       "      <td>...</td>\n",
       "    </tr>\n",
       "    <tr>\n",
       "      <th>36037</th>\n",
       "      <td>2023-12-27</td>\n",
       "      <td>LoanID8328</td>\n",
       "      <td>102.76</td>\n",
       "      <td>8328000</td>\n",
       "    </tr>\n",
       "    <tr>\n",
       "      <th>36186</th>\n",
       "      <td>2023-12-28</td>\n",
       "      <td>LoanID8328</td>\n",
       "      <td>68.09</td>\n",
       "      <td>8328000</td>\n",
       "    </tr>\n",
       "    <tr>\n",
       "      <th>36225</th>\n",
       "      <td>2023-12-29</td>\n",
       "      <td>LoanID8328</td>\n",
       "      <td>52.72</td>\n",
       "      <td>8328000</td>\n",
       "    </tr>\n",
       "    <tr>\n",
       "      <th>36332</th>\n",
       "      <td>2023-12-30</td>\n",
       "      <td>LoanID8328</td>\n",
       "      <td>53.59</td>\n",
       "      <td>8328000</td>\n",
       "    </tr>\n",
       "    <tr>\n",
       "      <th>36401</th>\n",
       "      <td>2023-12-31</td>\n",
       "      <td>LoanID8328</td>\n",
       "      <td>79.46</td>\n",
       "      <td>8328000</td>\n",
       "    </tr>\n",
       "  </tbody>\n",
       "</table>\n",
       "<p>365 rows × 4 columns</p>\n",
       "</div>"
      ],
      "text/plain": [
       "            Date      LoanID   Price  Balance\n",
       "0     2023-01-01  LoanID8328   59.56  8328000\n",
       "162   2023-01-02  LoanID8328   82.83  8328000\n",
       "247   2023-01-03  LoanID8328  101.62  8328000\n",
       "324   2023-01-04  LoanID8328   54.02  8328000\n",
       "480   2023-01-05  LoanID8328   94.26  8328000\n",
       "...          ...         ...     ...      ...\n",
       "36037 2023-12-27  LoanID8328  102.76  8328000\n",
       "36186 2023-12-28  LoanID8328   68.09  8328000\n",
       "36225 2023-12-29  LoanID8328   52.72  8328000\n",
       "36332 2023-12-30  LoanID8328   53.59  8328000\n",
       "36401 2023-12-31  LoanID8328   79.46  8328000\n",
       "\n",
       "[365 rows x 4 columns]"
      ]
     },
     "execution_count": 15,
     "metadata": {},
     "output_type": "execute_result"
    }
   ],
   "source": [
    "data.query( \"LoanID == 'LoanID8328'\" )"
   ]
  },
  {
   "cell_type": "code",
   "execution_count": 24,
   "id": "75ce0d3a",
   "metadata": {},
   "outputs": [],
   "source": [
    "import numpy as np"
   ]
  },
  {
   "cell_type": "code",
   "execution_count": 76,
   "id": "08bc83e3",
   "metadata": {},
   "outputs": [],
   "source": [
    "df = data.copy()\n",
    "df['Price_t'] = df['Price']\n",
    "df['Price_t+1'] = df['Price'].shift(-1)\n",
    "df['Date_t'] = df['Date']\n",
    "df['Date_t+1'] = df['Date'].shift(-1)\n",
    "df['Balance_t'] = df['Balance']\n",
    "df['Date_t+1'] = df['Date'].shift(-1)\n",
    "\n",
    "df['Price_diff'] = df['Price_t+1'] - df['Price_t']\n",
    "df['Price_return'] = df['Price_diff'] / df['Price_t']\n"
   ]
  },
  {
   "cell_type": "code",
   "execution_count": 77,
   "id": "663c3860",
   "metadata": {},
   "outputs": [],
   "source": [
    "cutoffs = [ 70, 80, 90, 100 ]\n",
    "cutoff_labels = [f\"<{cutoffs[ 0 ]}\" ] + [ f\"{cutoffs[i]}-{cutoffs[i+1]}\" for i in range(len(cutoffs)-1) ] + [ f\">{cutoffs[-1]}\" ]"
   ]
  },
  {
   "cell_type": "code",
   "execution_count": 78,
   "id": "d5bcc0d5",
   "metadata": {},
   "outputs": [],
   "source": [
    "cutoff_bins = [-np.inf] + cutoffs + [np.inf]"
   ]
  },
  {
   "cell_type": "code",
   "execution_count": 79,
   "id": "e8d6349f",
   "metadata": {},
   "outputs": [],
   "source": [
    "def get_bins_and_labels( cutoffs, include_inf=True ):\n",
    "    if include_inf:\n",
    "        labels = [f\"<{cutoffs[0]}\"] + [f\"{cutoffs[i]}-{cutoffs[i+1]}\" for i in range(len(cutoffs)-1)] + [f\">{cutoffs[-1]}\"]\n",
    "        bins = [-np.inf] + cutoffs + [np.inf]\n",
    "    else:\n",
    "        bins = cutoffs\n",
    "        labels = [f\"{cutoffs[i]}-{cutoffs[i+1]}\" for i in range(len(cutoffs)-1)]\n",
    "    return bins, labels"
   ]
  },
  {
   "cell_type": "code",
   "execution_count": 70,
   "id": "df0028d1",
   "metadata": {},
   "outputs": [],
   "source": [
    "cutoff_bins, cutoff_labels = get_bins_and_labels(cutoffs, include_inf=True)"
   ]
  },
  {
   "cell_type": "code",
   "execution_count": 80,
   "id": "475c6630",
   "metadata": {},
   "outputs": [],
   "source": [
    "df['Price_bucket_t'] = pd.cut(\n",
    "    df['Price_t'],\n",
    "    bins=cutoff_bins,\n",
    "    labels=cutoff_labels,\n",
    "    include_lowest=True\n",
    ")"
   ]
  },
  {
   "cell_type": "code",
   "execution_count": 81,
   "id": "b833d36b",
   "metadata": {},
   "outputs": [
    {
     "data": {
      "text/plain": [
       "Price_bucket_t\n",
       "<70       13368\n",
       "80-90      6742\n",
       "90-100     6586\n",
       "70-80      6555\n",
       ">100       3249\n",
       "Name: count, dtype: int64"
      ]
     },
     "execution_count": 81,
     "metadata": {},
     "output_type": "execute_result"
    }
   ],
   "source": [
    "df['Price_bucket_t'].value_counts(dropna=False)"
   ]
  },
  {
   "cell_type": "code",
   "execution_count": 82,
   "id": "51b09833",
   "metadata": {},
   "outputs": [],
   "source": [
    "from quantbullet.dfutils import filter_df"
   ]
  },
  {
   "cell_type": "code",
   "execution_count": 83,
   "id": "e503df35",
   "metadata": {},
   "outputs": [],
   "source": [
    "bucket = '<70'\n",
    "bucket_df = df[ df['Price_bucket_t'] == bucket ]"
   ]
  },
  {
   "cell_type": "code",
   "execution_count": 84,
   "id": "51e24f6a",
   "metadata": {},
   "outputs": [],
   "source": [
    "def wavg( group, value_col, weight_col):\n",
    "    \"\"\"\n",
    "    Weighted average function.\n",
    "    \"\"\"\n",
    "    return np.sum(group[value_col] * group[weight_col]) / np.sum(group[weight_col])"
   ]
  },
  {
   "cell_type": "code",
   "execution_count": 125,
   "id": "a4c78f47",
   "metadata": {},
   "outputs": [
    {
     "name": "stdout",
     "output_type": "stream",
     "text": [
      "-0.18114970491832447\n",
      "-0.0026602981427076926\n"
     ]
    }
   ],
   "source": [
    "diff = ( bucket_df.groupby('Date')\n",
    "    .apply(lambda x: wavg(x, 'Price_diff', 'Balance_t'), include_groups=False) )\n",
    "\n",
    "diff.name = 'Wavg_price_diff'\n",
    "\n",
    "returns = ( bucket_df.groupby('Date')\n",
    "    .apply(lambda x: wavg(x, 'Price_return', 'Balance_t'), include_groups=False) )\n",
    "\n",
    "returns.name = 'Wavg_price_return'\n",
    "\n",
    "index = pd.Series(\n",
    "    index = diff.index,\n",
    "    data = np.random.randn(len(diff)),\n",
    "    name = 'Index'\n",
    ")\n",
    "\n",
    "import statsmodels.api as sm\n",
    "x = sm.add_constant(index)\n",
    "model = sm.OLS(diff, x).fit()\n",
    "print( model.params.loc['Index'] )\n",
    "\n",
    "model = sm.OLS(returns, x).fit()\n",
    "print(model.params.loc['Index'])"
   ]
  }
 ],
 "metadata": {
  "kernelspec": {
   "display_name": ".venv",
   "language": "python",
   "name": "python3"
  },
  "language_info": {
   "codemirror_mode": {
    "name": "ipython",
    "version": 3
   },
   "file_extension": ".py",
   "mimetype": "text/x-python",
   "name": "python",
   "nbconvert_exporter": "python",
   "pygments_lexer": "ipython3",
   "version": "3.11.7"
  }
 },
 "nbformat": 4,
 "nbformat_minor": 5
}
