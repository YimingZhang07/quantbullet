{
 "cells": [
  {
   "cell_type": "code",
   "execution_count": 1,
   "metadata": {},
   "outputs": [],
   "source": [
    "import numpy as np\n",
    "from tqdm import tqdm\n",
    "from quantbullet.research.jump_model import ContinuousJumpModel, TestingUtils, FeatureGenerator, SimulationGenerator"
   ]
  },
  {
   "cell_type": "code",
   "execution_count": 7,
   "metadata": {},
   "outputs": [
    {
     "name": "stderr",
     "output_type": "stream",
     "text": [
      "09-21 04:36:41 INFO Step 1: Initial (stationary) distribution: [0.84997341 0.15002659]\n",
      "09-21 04:36:41 INFO Step 2: Simulated states: Counter({0: 633, 1: 368})\n",
      "09-21 04:36:41 INFO Step 3: Generate simulated return data conditional on states.\n"
     ]
    }
   ],
   "source": [
    "np.random.seed(999)\n",
    "\n",
    "K = 2\n",
    "\n",
    "# simulate returns and enrich with features\n",
    "model = ContinuousJumpModel()\n",
    "transition_matrix, norm_params = TestingUtils().daily()\n",
    "sim_states, sim_returns = SimulationGenerator().run(\n",
    "    steps=1000, transition_matrix=transition_matrix, norm_params=norm_params\n",
    ")\n",
    "enriched_returns = FeatureGenerator().enrich_features(sim_returns)\n",
    "enriched_returns = FeatureGenerator().standarize_features(enriched_returns)\n",
    "\n",
    "# initialize centroids using k-means++\n",
    "ctsJump = ContinuousJumpModel()\n",
    "centroids = ctsJump.initialize_kmeans_plusplus(enriched_returns, K)\n",
    "cur_s = ctsJump.classify_data_to_states(enriched_returns, centroids)\n",
    "second_col = 1 - cur_s\n",
    "cur_s = np.column_stack((cur_s, second_col))"
   ]
  },
  {
   "cell_type": "code",
   "execution_count": 8,
   "metadata": {},
   "outputs": [
    {
     "name": "stderr",
     "output_type": "stream",
     "text": [
      "  8%|▊         | 8/100 [00:26<04:59,  3.25s/it]"
     ]
    },
    {
     "name": "stdout",
     "output_type": "stream",
     "text": [
      "5828.433954756139\n"
     ]
    },
    {
     "name": "stderr",
     "output_type": "stream",
     "text": [
      "\n"
     ]
    }
   ],
   "source": [
    "tol = 100\n",
    "max_iter = 100\n",
    "cur_loss = float('inf')\n",
    "best_states = cur_s\n",
    "best_loss = cur_loss\n",
    "no_improvement_counter = 0  # Counter for consecutive iterations without improvement\n",
    "\n",
    "for _ in tqdm(range(max_iter)):\n",
    "    cur_theta = ctsJump.fixed_states_optimize(enriched_returns, cur_s, 2)  # Assuming 2 states\n",
    "    lossMatrix = ctsJump.generate_loss_matrix(enriched_returns, cur_theta)\n",
    "    C = ctsJump.generate_C(2)\n",
    "    cur_s, cur_loss = ctsJump.fixed_theta_optimize(lossMatrix, lambda_=100, C=C)\n",
    "    \n",
    "    # Check if the current solution is better than the best known solution\n",
    "    if cur_loss < best_loss:\n",
    "        best_loss = cur_loss\n",
    "        best_states = cur_s\n",
    "        no_improvement_counter = 0  # Reset the counter if there's improvement\n",
    "    else:\n",
    "        no_improvement_counter += 1  # Increment the counter if no improvement\n",
    "\n",
    "    # Check for convergence\n",
    "    if no_improvement_counter >= 3:\n",
    "        break\n",
    "    \n",
    "print(best_loss)"
   ]
  }
 ],
 "metadata": {
  "kernelspec": {
   "display_name": "Python 3",
   "language": "python",
   "name": "python3"
  },
  "language_info": {
   "codemirror_mode": {
    "name": "ipython",
    "version": 3
   },
   "file_extension": ".py",
   "mimetype": "text/x-python",
   "name": "python",
   "nbconvert_exporter": "python",
   "pygments_lexer": "ipython3",
   "version": "3.10.8"
  },
  "orig_nbformat": 4
 },
 "nbformat": 4,
 "nbformat_minor": 2
}
