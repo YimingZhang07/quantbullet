{
 "cells": [
  {
   "cell_type": "code",
   "execution_count": 1,
   "metadata": {},
   "outputs": [],
   "source": [
    "import cvxpy as cp\n",
    "import numpy as np\n",
    "import pandas as pd\n",
    "from tqdm import tqdm\n",
    "import matplotlib.pyplot as plt"
   ]
  },
  {
   "cell_type": "markdown",
   "metadata": {},
   "source": [
    "## Fixed States "
   ]
  },
  {
   "cell_type": "code",
   "execution_count": 3,
   "metadata": {},
   "outputs": [],
   "source": [
    "# state_choices = [0, 1]\n",
    "# s = np.random.choice(state_choices, T)\n",
    "# theta = cp.Variable((len(state_choices), n_features))\n",
    "# diff = [0.5 * cp.norm2(y[i, :] - theta[s[i], :]) ** 2 for i in range(T)]\n",
    "# objective = cp.Minimize(cp.sum(diff))\n",
    "# prob = cp.Problem(objective)\n",
    "# prob.solve()"
   ]
  },
  {
   "cell_type": "code",
   "execution_count": 407,
   "metadata": {},
   "outputs": [],
   "source": [
    "T = 100\n",
    "n_features = 2\n",
    "state_choices = [0, 1]\n",
    "\n",
    "np.random.seed(42)\n",
    "y = np.random.randint(0, 100, (T, n_features))\n",
    "s = np.random.choice([0, 1], T)"
   ]
  },
  {
   "cell_type": "code",
   "execution_count": 3,
   "metadata": {},
   "outputs": [],
   "source": [
    "def fixedStatesOptimize(y, s, theta_guess=None, state_choices=[0, 1]):\n",
    "    if not isinstance(y, np.ndarray) or not isinstance(s, np.ndarray):\n",
    "        raise TypeError(\"y and s must be numpy arrays\")\n",
    "    T, n_features = y.shape\n",
    "    # initialize variables from guess\n",
    "    theta = cp.Variable((len(state_choices), n_features))\n",
    "    if theta_guess is not None:\n",
    "        theta.value = theta_guess\n",
    "    \n",
    "    # solve optimization problem\n",
    "    diff = [0.5 * cp.norm2(y[i, :] - theta[s[i], :]) ** 2 for i in range(T)]\n",
    "    objective = cp.Minimize(cp.sum(diff))\n",
    "    prob = cp.Problem(objective)\n",
    "    prob.solve()\n",
    "    return theta.value, prob.value"
   ]
  },
  {
   "cell_type": "code",
   "execution_count": 342,
   "metadata": {},
   "outputs": [],
   "source": [
    "theta, loss = fixedStatesOptimize(y, s)"
   ]
  },
  {
   "cell_type": "markdown",
   "metadata": {},
   "source": [
    "Remember that $\\theta$ is simply the parameters of the states, which in simplest case is just the means of the features, since we set the loss function as the K-means loss function. We could check that the best estimate for $\\theta$ is the mean of the features assuming fixed states. "
   ]
  },
  {
   "cell_type": "code",
   "execution_count": 343,
   "metadata": {},
   "outputs": [
    {
     "name": "stdout",
     "output_type": "stream",
     "text": [
      "[[49.64582822 52.02084104]\n",
      " [44.69230438 49.96153378]] \n",
      " 86840.47916666954\n"
     ]
    }
   ],
   "source": [
    "print(theta, \"\\n\", loss)"
   ]
  },
  {
   "cell_type": "code",
   "execution_count": 344,
   "metadata": {},
   "outputs": [
    {
     "data": {
      "text/plain": [
       "array([44.69230769, 49.96153846])"
      ]
     },
     "execution_count": 344,
     "metadata": {},
     "output_type": "execute_result"
    }
   ],
   "source": [
    "y[s == 1].mean(axis=0)"
   ]
  },
  {
   "cell_type": "code",
   "execution_count": 345,
   "metadata": {},
   "outputs": [
    {
     "name": "stdout",
     "output_type": "stream",
     "text": [
      "[0 1 0 0 0 1 1 1 0 0 1 1 1 1 0 1 0 1 0 1 1 1 1 0 1 0 0 0 0 1 0 0 0 1 1 1 1\n",
      " 0 0 1 0 0 0 1 1 0 1 1 1 1 1 0 1 0 0 1 0 0 0 1 1 0 1 1 1 1 0 0 1 1 0 0 1 0\n",
      " 1 1 0 0 1 1 0 1 0 1 0 0 0 1 1 0 1 0 0 1 1 0 1 1 0 0]\n"
     ]
    }
   ],
   "source": [
    "print(s)"
   ]
  },
  {
   "cell_type": "markdown",
   "metadata": {},
   "source": [
    "## Fixed Theta: Solve States by DP Algorithm"
   ]
  },
  {
   "cell_type": "code",
   "execution_count": 4,
   "metadata": {},
   "outputs": [],
   "source": [
    "def generateLossMatrix(y, theta, state_choices=[0, 1]):\n",
    "    T, n_features = y.shape\n",
    "    loss = np.zeros((T, len(state_choices)))\n",
    "    for i in range(T):\n",
    "        for j in range(len(state_choices)):\n",
    "            # norm is the L2 norm by default\n",
    "            loss[i, j] = 0.5 * np.linalg.norm(y[i, :] - theta[j, :]) ** 2\n",
    "    return loss"
   ]
  },
  {
   "cell_type": "code",
   "execution_count": 68,
   "metadata": {},
   "outputs": [],
   "source": [
    "lossMatrix = generateLossMatrix(y, theta)"
   ]
  },
  {
   "cell_type": "code",
   "execution_count": 170,
   "metadata": {},
   "outputs": [
    {
     "name": "stdout",
     "output_type": "stream",
     "text": [
      "[0 0 0 0 0 0 0 0 0 0 0 0 0 0 0 0 0 0 0 0 0 0 0 0 0 0 0 0 0 0 0 0 0 0 0 0 0\n",
      " 0 0 0 0 0 0 0 0 0 0 0 0 0 1 1 1 1 1 1 1 1 1 1 1 1 1 1 1 1 1 1 1 1 1 1 1 1\n",
      " 1 1 1 1 1 1 1 1 1 1 1 1 1 1 1 1 1 1 1 1 1 1 1 1 1 1] \n",
      " 5323.190000011761\n"
     ]
    }
   ],
   "source": [
    "lambda_ = 1e2\n",
    "V = np.zeros((T, len(state_choices)))\n",
    "V[0, :] = lossMatrix[0, :]\n",
    "for t in range(1, T):\n",
    "    for k in range(len(state_choices)):\n",
    "        V[t, k] = lossMatrix[t, k] + min(V[t - 1, :] + lambda_ * np.abs(state_choices[k] - np.array(state_choices)))\n",
    "\n",
    "v = V[-1, :].min()\n",
    "s[-1] = state_choices[V[-1, :].argmin()]\n",
    "\n",
    "for t in range(T - 2, -1, -1):\n",
    "    s[t] = state_choices[np.argmin(V[t, :] + lambda_ * np.abs(state_choices - s[t + 1]))]\n",
    "\n",
    "print(s, \"\\n\", v)"
   ]
  },
  {
   "cell_type": "code",
   "execution_count": 5,
   "metadata": {},
   "outputs": [],
   "source": [
    "def fixedThetaOptimize(lossMatrix, lambda_, state_choices=[0, 1]):\n",
    "    T, n_states = lossMatrix.shape\n",
    "    V = np.zeros((T, n_states))\n",
    "    V[0, :] = lossMatrix[0, :]\n",
    "    for t in range(1, T):\n",
    "        for k in range(n_states):\n",
    "            V[t, k] = lossMatrix[t, k] + min(V[t - 1, :] + lambda_ * np.abs(state_choices[k] - np.array(state_choices)))\n",
    "    v = V[-1, :].min()\n",
    "    s = np.zeros(T, dtype=int)\n",
    "    s[-1] = state_choices[V[-1, :].argmin()]\n",
    "    for t in range(T - 2, -1, -1):\n",
    "        s[t] = state_choices[np.argmin(V[t, :] + lambda_ * np.abs(state_choices - s[t + 1]))]\n",
    "    return s, v"
   ]
  },
  {
   "cell_type": "code",
   "execution_count": 71,
   "metadata": {},
   "outputs": [
    {
     "data": {
      "text/plain": [
       "(array([0, 0, 0, 0, 0, 0, 1, 1, 1, 1, 1, 1, 1, 1, 0, 0, 0, 0, 0, 0, 0, 0,\n",
       "        1, 1, 1, 1, 0, 1, 0, 0, 0, 0, 1, 1, 1, 1, 1, 1, 0, 0, 0, 0, 0, 0,\n",
       "        0, 0, 0, 0, 0, 1, 1, 1, 1, 0, 0, 1, 1, 0, 1, 1, 1, 1, 1, 1, 1, 1,\n",
       "        1, 0, 0, 0, 0, 0, 0, 1, 1, 1, 0, 0, 0, 0, 0, 1, 1, 1, 1, 1, 1, 1,\n",
       "        1, 1, 1, 1, 0, 0, 0, 0, 1, 1, 1, 1]),\n",
       " 83808.00603733146)"
      ]
     },
     "execution_count": 71,
     "metadata": {},
     "output_type": "execute_result"
    }
   ],
   "source": [
    "fixedThetaOptimize(lossMatrix, lambda_=1e2)"
   ]
  },
  {
   "cell_type": "markdown",
   "metadata": {},
   "source": [
    "## Convergence"
   ]
  },
  {
   "cell_type": "code",
   "execution_count": 408,
   "metadata": {},
   "outputs": [],
   "source": [
    "np.random.seed(42)\n",
    "y = np.vstack((np.random.randint(0, 10, (int(T/4), n_features)),\n",
    "               np.random.randint(5, 25, (int(T/4), n_features)),\n",
    "               np.random.randint(0, 10, (int(T/4), n_features)),\n",
    "               np.random.randint(5, 25, (int(T/4), n_features))))\n",
    "true_s = np.hstack((np.random.choice([0], int(T/4)),\n",
    "                    np.random.choice([1], int(T/4)),\n",
    "                    np.random.choice([0], int(T/4)),\n",
    "                    np.random.choice([1], int(T/4))))"
   ]
  },
  {
   "cell_type": "code",
   "execution_count": 415,
   "metadata": {},
   "outputs": [
    {
     "name": "stderr",
     "output_type": "stream",
     "text": [
      " 10%|█         | 1/10 [00:01<00:17,  1.91s/it]"
     ]
    },
    {
     "name": "stdout",
     "output_type": "stream",
     "text": [
      "Converged after 4 iterations\n",
      "Best loss: 1836.0090312250932\n"
     ]
    },
    {
     "name": "stderr",
     "output_type": "stream",
     "text": [
      " 20%|██        | 2/10 [00:03<00:14,  1.83s/it]"
     ]
    },
    {
     "name": "stdout",
     "output_type": "stream",
     "text": [
      "Converged after 4 iterations\n",
      "Best loss: 1835.6580987496072\n"
     ]
    },
    {
     "name": "stderr",
     "output_type": "stream",
     "text": [
      " 30%|███       | 3/10 [00:05<00:12,  1.78s/it]"
     ]
    },
    {
     "name": "stdout",
     "output_type": "stream",
     "text": [
      "Converged after 4 iterations\n",
      "Best loss: 1835.6580987496072\n"
     ]
    },
    {
     "name": "stderr",
     "output_type": "stream",
     "text": [
      " 40%|████      | 4/10 [00:07<00:10,  1.82s/it]"
     ]
    },
    {
     "name": "stdout",
     "output_type": "stream",
     "text": [
      "Converged after 4 iterations\n",
      "Best loss: 1835.6580987496072\n"
     ]
    },
    {
     "name": "stderr",
     "output_type": "stream",
     "text": [
      " 50%|█████     | 5/10 [00:09<00:09,  1.81s/it]"
     ]
    },
    {
     "name": "stdout",
     "output_type": "stream",
     "text": [
      "Converged after 4 iterations\n",
      "Best loss: 1835.6580987496072\n"
     ]
    },
    {
     "name": "stderr",
     "output_type": "stream",
     "text": [
      " 60%|██████    | 6/10 [00:10<00:07,  1.77s/it]"
     ]
    },
    {
     "name": "stdout",
     "output_type": "stream",
     "text": [
      "Converged after 4 iterations\n",
      "Best loss: 1835.6580987496072\n"
     ]
    },
    {
     "name": "stderr",
     "output_type": "stream",
     "text": [
      " 70%|███████   | 7/10 [00:12<00:05,  1.78s/it]"
     ]
    },
    {
     "name": "stdout",
     "output_type": "stream",
     "text": [
      "Converged after 4 iterations\n",
      "Best loss: 1835.6580987496072\n"
     ]
    },
    {
     "name": "stderr",
     "output_type": "stream",
     "text": [
      " 80%|████████  | 8/10 [00:14<00:03,  1.78s/it]"
     ]
    },
    {
     "name": "stdout",
     "output_type": "stream",
     "text": [
      "Converged after 4 iterations\n",
      "Best loss: 1835.6580987496072\n"
     ]
    },
    {
     "name": "stderr",
     "output_type": "stream",
     "text": [
      " 90%|█████████ | 9/10 [00:16<00:01,  1.76s/it]"
     ]
    },
    {
     "name": "stdout",
     "output_type": "stream",
     "text": [
      "Converged after 4 iterations\n",
      "Best loss: 1835.6580987496072\n"
     ]
    },
    {
     "name": "stderr",
     "output_type": "stream",
     "text": [
      "100%|██████████| 10/10 [00:17<00:00,  1.78s/it]"
     ]
    },
    {
     "name": "stdout",
     "output_type": "stream",
     "text": [
      "Converged after 4 iterations\n",
      "Best loss: 1835.6580987496072\n"
     ]
    },
    {
     "name": "stderr",
     "output_type": "stream",
     "text": [
      "\n"
     ]
    }
   ],
   "source": [
    "optimized_s = list()\n",
    "optimized_loss = list()\n",
    "\n",
    "# try differnt initializations\n",
    "for trial in tqdm(range(10)):\n",
    "    np.random.seed()\n",
    "    cur_s = np.random.choice([0, 1], T)\n",
    "    cur_theta = np.random.randint(0, 15, (len(state_choices), n_features))\n",
    "    hist_s = [cur_s]\n",
    "\n",
    "    # maximize number of iterations\n",
    "    for i in range(100):\n",
    "        cur_theta, _ = fixedStatesOptimize(y, cur_s, theta_guess=cur_theta)\n",
    "        lossMatrix = generateLossMatrix(y, cur_theta)\n",
    "        cur_s, loss = fixedThetaOptimize(lossMatrix, lambda_=10)\n",
    "        if cur_s.tolist() == hist_s[-1].tolist() == hist_s[-2].tolist():\n",
    "            print(\"Converged after {} iterations\".format(i))\n",
    "            print(\"Best loss: {}\".format(loss))\n",
    "            break\n",
    "        else:\n",
    "            hist_s.append(cur_s)\n",
    "\n",
    "    optimized_s.append(cur_s)\n",
    "    optimized_loss.append(loss)"
   ]
  },
  {
   "cell_type": "code",
   "execution_count": 416,
   "metadata": {},
   "outputs": [],
   "source": [
    "best_s = optimized_s[np.array(optimized_loss).argmin()]\n",
    "best_loss = np.array(optimized_loss).min()"
   ]
  },
  {
   "cell_type": "code",
   "execution_count": 417,
   "metadata": {},
   "outputs": [
    {
     "data": {
      "text/plain": [
       "[1836.0090312250932,\n",
       " 1835.6580987496072,\n",
       " 1835.6580987496072,\n",
       " 1835.6580987496072,\n",
       " 1835.6580987496072,\n",
       " 1835.6580987496072,\n",
       " 1835.6580987496072,\n",
       " 1835.6580987496072,\n",
       " 1835.6580987496072,\n",
       " 1835.6580987496072]"
      ]
     },
     "execution_count": 417,
     "metadata": {},
     "output_type": "execute_result"
    }
   ],
   "source": [
    "optimized_loss"
   ]
  },
  {
   "cell_type": "code",
   "execution_count": 418,
   "metadata": {},
   "outputs": [
    {
     "data": {
      "text/plain": [
       "0.93"
      ]
     },
     "execution_count": 418,
     "metadata": {},
     "output_type": "execute_result"
    }
   ],
   "source": [
    "(best_s == true_s).sum() / T"
   ]
  },
  {
   "cell_type": "code",
   "execution_count": 419,
   "metadata": {},
   "outputs": [
    {
     "data": {
      "text/plain": [
       "array([0, 0, 0, 0, 0, 0, 0, 0, 0, 0, 0, 0, 0, 0, 0, 0, 0, 0, 0, 0, 0, 0,\n",
       "       0, 0, 0, 1, 1, 1, 1, 0, 1, 1, 1, 1, 1, 1, 1, 1, 1, 1, 1, 1, 1, 1,\n",
       "       1, 0, 0, 1, 1, 1, 0, 0, 0, 0, 0, 0, 0, 0, 0, 0, 0, 0, 0, 0, 0, 0,\n",
       "       0, 0, 0, 0, 0, 0, 0, 0, 0, 1, 1, 1, 1, 1, 1, 1, 1, 1, 1, 0, 1, 1,\n",
       "       1, 0, 0, 1, 1, 1, 1, 1, 0, 1, 1, 1])"
      ]
     },
     "execution_count": 419,
     "metadata": {},
     "output_type": "execute_result"
    }
   ],
   "source": [
    "best_s"
   ]
  },
  {
   "cell_type": "markdown",
   "metadata": {},
   "source": [
    "# Simulation Studies"
   ]
  },
  {
   "cell_type": "markdown",
   "metadata": {},
   "source": [
    "## Generate Feature Data"
   ]
  },
  {
   "cell_type": "code",
   "execution_count": 6,
   "metadata": {},
   "outputs": [],
   "source": [
    "from sklearn import preprocessing\n",
    "\n",
    "def compute_features(time_series):\n",
    "    df = pd.DataFrame({'ts': time_series})\n",
    "    \n",
    "    # Features 1-3\n",
    "    df['observation'] = df['ts']\n",
    "    df['abs_change'] = df['ts'].diff().abs()\n",
    "    df['prev_abs_change'] = df['abs_change'].shift()\n",
    "\n",
    "    # Features 4-9 for w=6 and w=14\n",
    "    for w in [6, 14]:\n",
    "        roll = df['ts'].rolling(window=w)\n",
    "        df[f'centered_mean_{w}'] = roll.mean()\n",
    "        df[f'centered_std_{w}'] = roll.std()\n",
    "\n",
    "        half_w = w // 2\n",
    "        df[f'left_mean_{w}'] = df['ts'].rolling(window=half_w).mean().shift(half_w)\n",
    "        df[f'left_std_{w}'] = df['ts'].rolling(window=half_w).std().shift(half_w)\n",
    "        \n",
    "        df[f'right_mean_{w}'] = df['ts'].rolling(window=half_w).mean()\n",
    "        df[f'right_std_{w}'] = df['ts'].rolling(window=half_w).std()\n",
    "\n",
    "    # Drop the original time series column\n",
    "    df = df.drop(columns=['ts'])\n",
    "\n",
    "    return df.values\n",
    "\n",
    "\n",
    "def standarize_features(X):\n",
    "    return preprocessing.StandardScaler().fit_transform(X)    "
   ]
  },
  {
   "cell_type": "markdown",
   "metadata": {},
   "source": [
    "## Simulate Returns"
   ]
  },
  {
   "cell_type": "code",
   "execution_count": 29,
   "metadata": {},
   "outputs": [
    {
     "data": {
      "text/plain": [
       "array([[0.99788413, 0.00211576],\n",
       "       [0.01198743, 0.98801817]])"
      ]
     },
     "execution_count": 29,
     "metadata": {},
     "output_type": "execute_result"
    }
   ],
   "source": [
    "from scipy.linalg import fractional_matrix_power\n",
    "i = np.array([[.9629, .0371], [.2102, .7899]])\n",
    "fractional_matrix_power(i, 1/20)"
   ]
  },
  {
   "cell_type": "code",
   "execution_count": 9,
   "metadata": {},
   "outputs": [],
   "source": [
    "import numpy as np\n",
    "\n",
    "def stationary_distribution(transition_matrix):\n",
    "    \"\"\"\n",
    "    Computes the stationary distribution for a given Markov transition matrix.\n",
    "    \n",
    "    Parameters:\n",
    "    - transition_matrix (numpy array): The Markov transition matrix.\n",
    "\n",
    "    Returns:\n",
    "    - numpy array: The stationary distribution.\n",
    "    \"\"\"\n",
    "    size = len(transition_matrix)\n",
    "    # Create a matrix subtracted from the identity matrix\n",
    "    Q = np.eye(size) - transition_matrix.T\n",
    "    # Append a ones row to handle the constraint sum(pi) = 1\n",
    "    Q = np.vstack([Q, np.ones(size)])\n",
    "    # Create the target matrix (last entry is 1 for the sum(pi) = 1 constraint)\n",
    "    b = np.zeros(size + 1)\n",
    "    b[-1] = 1\n",
    "    # Solve the linear system\n",
    "    pi = np.linalg.lstsq(Q, b, rcond=None)[0]\n",
    "    return pi\n",
    "\n",
    "def simulate_markov(transition_matrix, initial_distribution, steps):\n",
    "    \"\"\"\n",
    "    Simulates a Markov process.\n",
    "    \n",
    "    Parameters:\n",
    "    - transition_matrix (numpy array): The Markov transition matrix.\n",
    "    - initial_distribution (numpy array): The initial state distribution.\n",
    "    - steps (int): The number of steps to simulate.\n",
    "\n",
    "    Returns:\n",
    "    - list: The states at each step.\n",
    "    \"\"\"\n",
    "    state = np.random.choice(len(initial_distribution), p=initial_distribution)\n",
    "    states = [state]\n",
    "    \n",
    "    for _ in range(steps):\n",
    "        state = np.random.choice(len(transition_matrix[state]), p=transition_matrix[state])\n",
    "        states.append(state)\n",
    "    \n",
    "    return states\n",
    "\n",
    "def generate_conditional_data(states, parameters):\n",
    "    \"\"\"\n",
    "    Generates data based on the states and provided parameters.\n",
    "    \n",
    "    Parameters:\n",
    "    - states (list): The list of states.\n",
    "    - parameters (dict): Parameters for each state with means and standard deviations.\n",
    "\n",
    "    Returns:\n",
    "    - list: Simulated data conditional on the states.\n",
    "    \"\"\"\n",
    "    data = []\n",
    "    for state in states:\n",
    "        mu, sigma = parameters[state]\n",
    "        value = np.random.normal(mu, sigma)\n",
    "        data.append(value)\n",
    "    return data"
   ]
  },
  {
   "cell_type": "code",
   "execution_count": 10,
   "metadata": {},
   "outputs": [],
   "source": [
    "# Example usage:\n",
    "transition_matrix = np.array([\n",
    "    [0.99788413, 0.00211587],  # From state 0 to states 0 and 1\n",
    "    [0.01198743, 0.98801257]   # From state 1 to states 0 and 1\n",
    "])\n",
    "\n",
    "initial_distribution = stationary_distribution(transition_matrix)\n",
    "steps = 1000\n",
    "\n",
    "simulated_states = simulate_markov(transition_matrix, initial_distribution, steps)\n",
    "simulated_data = generate_conditional_data(simulated_states, parameters)\n",
    "\n",
    "# Assuming state 0 corresponds to mu1, sigma1 and state 1 to mu2, sigma2\n",
    "parameters = {\n",
    "    0: (0.000615, 0.007759155881924271),  # mu1, sigma1\n",
    "    1: (-0.000785, 0.017396608864948364) # mu2, sigma2\n",
    "}\n",
    "\n",
    "simulated_data = generate_conditional_data(simulated_states, parameters)"
   ]
  },
  {
   "cell_type": "code",
   "execution_count": 11,
   "metadata": {},
   "outputs": [
    {
     "data": {
      "text/plain": [
       "393"
      ]
     },
     "execution_count": 11,
     "metadata": {},
     "output_type": "execute_result"
    }
   ],
   "source": [
    "sum(simulated_states)"
   ]
  },
  {
   "cell_type": "code",
   "execution_count": 12,
   "metadata": {},
   "outputs": [],
   "source": [
    "feature_data = compute_features(simulated_data)"
   ]
  },
  {
   "cell_type": "code",
   "execution_count": 13,
   "metadata": {},
   "outputs": [],
   "source": [
    "y = feature_data[~np.isnan(feature_data).any(axis=1)]\n",
    "y = standarize_features(y)"
   ]
  },
  {
   "cell_type": "markdown",
   "metadata": {},
   "source": [
    "## K-means ++"
   ]
  },
  {
   "cell_type": "code",
   "execution_count": 14,
   "metadata": {},
   "outputs": [
    {
     "name": "stdout",
     "output_type": "stream",
     "text": [
      "[1 0 1 0 1 0]\n"
     ]
    }
   ],
   "source": [
    "import numpy as np\n",
    "\n",
    "def initialize_kmeans_plusplus(data, k):\n",
    "    \"\"\"\n",
    "    Initialize the centroids using the k-means++ method.\n",
    "    \n",
    "    Parameters:\n",
    "    - data: ndarray of shape (n_samples, n_features)\n",
    "    - k: number of clusters\n",
    "    \n",
    "    Returns:\n",
    "    - centroids: ndarray of shape (k, n_features)\n",
    "    \"\"\"\n",
    "    initial_idx = np.random.choice(data.shape[0], 1)\n",
    "    centroids = [data[initial_idx]]\n",
    "    \n",
    "    for _ in range(k - 1):\n",
    "        squared_distances = np.min([np.sum((data - centroid)**2, axis=1) for centroid in centroids], axis=0)\n",
    "        prob = squared_distances / squared_distances.sum()\n",
    "        next_centroid_idx = np.random.choice(data.shape[0], 1, p=prob)\n",
    "        centroids.append(data[next_centroid_idx])\n",
    "    \n",
    "    return np.array(centroids)\n",
    "\n",
    "def classify_data_to_states(data, centroids):\n",
    "    \"\"\"\n",
    "    Classify data points to the states based on the closest centroid.\n",
    "    \n",
    "    Parameters:\n",
    "    - data: ndarray of shape (n_samples, n_features)\n",
    "    - centroids: centroids or means of the states, ndarray of shape (k, n_features)\n",
    "    \n",
    "    Returns:\n",
    "    - state_assignments: ndarray of shape (n_samples,), indices of the states to which each data point is assigned\n",
    "    \"\"\"\n",
    "    distances = np.array([np.sum((data - centroid)**2, axis=1) for centroid in centroids])\n",
    "    state_assignments = np.argmin(distances, axis=0)\n",
    "    return state_assignments\n",
    "\n",
    "# Example usage:\n",
    "data = np.array([[1, 2], [5, 8], [1.5, 1.8], [8, 8], [1, 0.6], [9, 11]])\n",
    "k = 2\n",
    "centroids = initialize_kmeans_plusplus(data, k)\n",
    "state_assignments = classify_data_to_states(data, centroids)\n",
    "print(state_assignments)\n"
   ]
  },
  {
   "cell_type": "code",
   "execution_count": 15,
   "metadata": {},
   "outputs": [
    {
     "data": {
      "text/plain": [
       "array([[ 1. ,  2. ],\n",
       "       [ 5. ,  8. ],\n",
       "       [ 1.5,  1.8],\n",
       "       [ 8. ,  8. ],\n",
       "       [ 1. ,  0.6],\n",
       "       [ 9. , 11. ]])"
      ]
     },
     "execution_count": 15,
     "metadata": {},
     "output_type": "execute_result"
    }
   ],
   "source": [
    "data"
   ]
  },
  {
   "cell_type": "markdown",
   "metadata": {},
   "source": [
    "## Perform Optimization"
   ]
  },
  {
   "cell_type": "code",
   "execution_count": null,
   "metadata": {},
   "outputs": [
    {
     "name": "stderr",
     "output_type": "stream",
     "text": [
      "  0%|          | 0/10 [00:00<?, ?it/s]"
     ]
    },
    {
     "name": "stderr",
     "output_type": "stream",
     "text": [
      "Traceback (most recent call last):\n",
      "  File \"/home/codespace/.local/lib/python3.10/site-packages/debugpy/_vendored/pydevd/_pydevd_bundle/pydevd_vars.py\", line 624, in change_attr_expression\n",
      "    value = eval(expression, frame.f_globals, frame.f_locals)\n",
      "  File \"<string>\", line 1, in <module>\n",
      "NameError: name 'array' is not defined\n"
     ]
    },
    {
     "name": "stdout",
     "output_type": "stream",
     "text": [
      "Converged after 2 iterations\n",
      "Best loss: 5700.968244035476\n"
     ]
    },
    {
     "name": "stderr",
     "output_type": "stream",
     "text": [
      " 20%|██        | 2/10 [03:32<12:03, 90.46s/it] "
     ]
    },
    {
     "name": "stdout",
     "output_type": "stream",
     "text": [
      "Converged after 1 iterations\n",
      "Best loss: 5700.968244035476\n"
     ]
    },
    {
     "name": "stderr",
     "output_type": "stream",
     "text": [
      " 30%|███       | 3/10 [03:56<06:59, 59.94s/it]"
     ]
    },
    {
     "name": "stdout",
     "output_type": "stream",
     "text": [
      "Converged after 2 iterations\n",
      "Best loss: 5700.968244035476\n"
     ]
    }
   ],
   "source": [
    "optimized_s = list()\n",
    "optimized_loss = list()\n",
    "\n",
    "T = y.shape[0]\n",
    "# try differnt initializations\n",
    "for trial in tqdm(range(10)):\n",
    "    centroids = initialize_kmeans_plusplus(y, 2)\n",
    "    cur_s = classify_data_to_states(y, centroids)\n",
    "    cur_theta = np.random.randn(2, 15)\n",
    "    hist_s = [cur_s]\n",
    "\n",
    "    # maximize number of iterations\n",
    "    for i in range(100):\n",
    "        cur_theta, _ = fixedStatesOptimize(y, cur_s, theta_guess=None)\n",
    "        lossMatrix = generateLossMatrix(y, cur_theta)\n",
    "        cur_s, loss = fixedThetaOptimize(lossMatrix, lambda_=100)\n",
    "        if cur_s.tolist() == hist_s[-1].tolist():\n",
    "            print(\"Converged after {} iterations\".format(i))\n",
    "            print(\"Best loss: {}\".format(loss))\n",
    "            break\n",
    "        else:\n",
    "            hist_s.append(cur_s)\n",
    "\n",
    "    optimized_s.append(cur_s)\n",
    "    optimized_loss.append(loss)"
   ]
  },
  {
   "cell_type": "code",
   "execution_count": 55,
   "metadata": {},
   "outputs": [
    {
     "data": {
      "text/plain": [
       "[<matplotlib.lines.Line2D at 0x7f2cd82ee1a0>]"
      ]
     },
     "execution_count": 55,
     "metadata": {},
     "output_type": "execute_result"
    },
    {
     "data": {
      "image/png": "[encoded data removed]",
      "text/plain": [
       "<Figure size 640x480 with 1 Axes>"
      ]
     },
     "metadata": {},
     "output_type": "display_data"
    }
   ],
   "source": [
    "plt.plot(optimized_s[9])"
   ]
  },
  {
   "cell_type": "code",
   "execution_count": 31,
   "metadata": {},
   "outputs": [],
   "source": [
    "best_s = optimized_s[np.array(optimized_loss).argmin()]"
   ]
  },
  {
   "cell_type": "code",
   "execution_count": 32,
   "metadata": {},
   "outputs": [
    {
     "data": {
      "text/plain": [
       "0.0020242914979757085"
      ]
     },
     "execution_count": 32,
     "metadata": {},
     "output_type": "execute_result"
    }
   ],
   "source": [
    "sum(best_s == np.array(simulated_states)[13:]) / len(best_s)"
   ]
  },
  {
   "cell_type": "code",
   "execution_count": 33,
   "metadata": {},
   "outputs": [
    {
     "data": {
      "text/plain": [
       "0.00423728813559322"
      ]
     },
     "execution_count": 33,
     "metadata": {},
     "output_type": "execute_result"
    }
   ],
   "source": [
    "from sklearn.metrics import balanced_accuracy_score\n",
    "balanced_accuracy_score(best_s, np.array(simulated_states)[13:])"
   ]
  },
  {
   "cell_type": "code",
   "execution_count": 52,
   "metadata": {},
   "outputs": [
    {
     "data": {
      "text/plain": [
       "<matplotlib.legend.Legend at 0x7f2cd870faf0>"
      ]
     },
     "execution_count": 52,
     "metadata": {},
     "output_type": "execute_result"
    },
    {
     "data": {
      "image/png": "[encoded data removed]",
      "text/plain": [
       "<Figure size 640x480 with 1 Axes>"
      ]
     },
     "metadata": {},
     "output_type": "display_data"
    }
   ],
   "source": [
    "plt.plot(best_s, label=\"Predicted\")\n",
    "plt.plot(np.array(simulated_states)[13:], label=\"True\")\n",
    "plt.legend()"
   ]
  },
  {
   "cell_type": "markdown",
   "metadata": {},
   "source": [
    "## Multiprocessing"
   ]
  },
  {
   "cell_type": "code",
   "execution_count": 16,
   "metadata": {},
   "outputs": [
    {
     "name": "stdout",
     "output_type": "stream",
     "text": [
      "Converged after 2 iterations\n",
      "Best loss: 7039.593054413656\n",
      "Converged after 2 iterations\n",
      "Best loss: 7039.593054413656\n",
      "Converged after 2 iterations\n",
      "Best loss: 7039.593054413656\n",
      "Converged after 2 iterations\n",
      "Best loss: 7039.593054413656\n",
      "Converged after 2 iterations\n",
      "Best loss: 7039.593054413656\n",
      "Converged after 2 iterations\n",
      "Best loss: 7039.593054413656\n",
      "Converged after 2 iterations\n",
      "Best loss: 7039.593054413656\n",
      "Converged after 2 iterations\n",
      "Best loss: 7039.593054413656\n",
      "Converged after 3 iterations\n",
      "Best loss: 6108.224741306374\n",
      "Converged after 3 iterations\n",
      "Best loss: 6108.224741306374\n"
     ]
    }
   ],
   "source": [
    "import multiprocessing as mp\n",
    "\n",
    "def run_trial(n):\n",
    "    centroids = initialize_kmeans_plusplus(y, 2)\n",
    "    cur_s = classify_data_to_states(y, centroids)\n",
    "    hist_s = [cur_s]\n",
    "\n",
    "    # maximize number of iterations\n",
    "    for i in range(100):\n",
    "        cur_theta, _ = fixedStatesOptimize(y, cur_s, theta_guess=None)\n",
    "        lossMatrix = generateLossMatrix(y, cur_theta)\n",
    "        cur_s, loss = fixedThetaOptimize(lossMatrix, lambda_=100)\n",
    "        if cur_s.tolist() == hist_s[-1].tolist():\n",
    "            print(\"Converged after {} iterations\".format(i))\n",
    "            print(\"Best loss: {}\".format(loss))\n",
    "            break\n",
    "        else:\n",
    "            hist_s.append(cur_s)\n",
    "\n",
    "    return cur_s, loss, cur_theta\n",
    "\n",
    "pool = mp.Pool(mp.cpu_count())\n",
    "results = pool.map(run_trial, range(10))"
   ]
  },
  {
   "cell_type": "code",
   "execution_count": 17,
   "metadata": {},
   "outputs": [],
   "source": [
    "def remapResults(optimized_s, optimized_theta):\n",
    "    res_s = list()\n",
    "    res_theta = list()\n",
    "    n = len(optimized_s)\n",
    "    for i in range(n):\n",
    "        idx = np.argsort(optimized_theta[i][:, 0])[::-1]\n",
    "        idx_mapping = {old_idx: new_idx for new_idx, old_idx in enumerate(idx)}\n",
    "        remapped_s = [idx_mapping[i] for i in optimized_s[i]]\n",
    "        remapped_theta = optimized_theta[i][idx, :]\n",
    "        res_s.append(remapped_s)\n",
    "        res_theta.append(remapped_theta)\n",
    "\n",
    "    return res_s, res_theta"
   ]
  },
  {
   "cell_type": "code",
   "execution_count": 18,
   "metadata": {},
   "outputs": [],
   "source": [
    "optimized_s = [result[0] for result in results]\n",
    "optimized_loss = [result[1] for result in results]\n",
    "optimized_theta = [result[2] for result in results]\n",
    "optimized_s, optimized_theta = remapResults(optimized_s, optimized_theta)\n",
    "best_s = optimized_s[np.array(optimized_loss).argmin()]\n",
    "best_loss = np.array(optimized_loss).min()"
   ]
  },
  {
   "cell_type": "code",
   "execution_count": 19,
   "metadata": {},
   "outputs": [
    {
     "data": {
      "image/png": "[encoded data removed]",
      "text/plain": [
       "<Figure size 640x480 with 1 Axes>"
      ]
     },
     "metadata": {},
     "output_type": "display_data"
    }
   ],
   "source": [
    "for i in range(10):\n",
    "    plt.plot(optimized_s[i], label=\"Trial {}\".format(i))"
   ]
  },
  {
   "cell_type": "code",
   "execution_count": 21,
   "metadata": {},
   "outputs": [
    {
     "data": {
      "text/plain": [
       "[<matplotlib.lines.Line2D at 0x7fca49ffa560>]"
      ]
     },
     "execution_count": 21,
     "metadata": {},
     "output_type": "execute_result"
    },
    {
     "data": {
      "image/png": "[encoded data removed]",
      "text/plain": [
       "<Figure size 640x480 with 1 Axes>"
      ]
     },
     "metadata": {},
     "output_type": "display_data"
    }
   ],
   "source": [
    "plt.plot(np.array(simulated_states)[13:], label=\"True\")\n",
    "plt.plot(best_s, label=\"Predicted\")"
   ]
  },
  {
   "cell_type": "markdown",
   "metadata": {},
   "source": [
    "# Appendix"
   ]
  },
  {
   "cell_type": "markdown",
   "metadata": {},
   "source": [
    "## Loss Function"
   ]
  },
  {
   "cell_type": "code",
   "execution_count": 102,
   "metadata": {},
   "outputs": [],
   "source": [
    "def jumpModelLoss(y, theta, s, lambda_):\n",
    "    T = y.shape[0]\n",
    "    loss = 0\n",
    "    for i in range(T):\n",
    "        loss += 0.5 * np.linalg.norm(y[i, :] - theta[s[i], :]) ** 2\n",
    "\n",
    "    # add the jump penalty\n",
    "    x = np.array(s)\n",
    "    loss += np.sum((x[:-1] - x[1:]) != 0) * lambda_\n",
    "    return loss"
   ]
  },
  {
   "cell_type": "code",
   "execution_count": 145,
   "metadata": {},
   "outputs": [
    {
     "data": {
      "text/plain": [
       "5700.968244035476"
      ]
     },
     "execution_count": 145,
     "metadata": {},
     "output_type": "execute_result"
    }
   ],
   "source": [
    "jumpModelLoss(y, optimized_theta[4], optimized_s[4], lambda_=1e2)"
   ]
  },
  {
   "cell_type": "code",
   "execution_count": 178,
   "metadata": {},
   "outputs": [
    {
     "data": {
      "text/plain": [
       "array([[-0.12904715,  0.71171551,  0.71982611, -0.34791984,  1.3237084 ,\n",
       "        -0.26075333,  0.95722171, -0.21958871,  0.95010333, -0.64367765,\n",
       "         1.55099418, -0.47177916,  1.3159229 , -0.38334635,  1.37762253],\n",
       "       [ 0.04049715, -0.22336956, -0.22591031,  0.10918379, -0.41543977,\n",
       "         0.08183025, -0.30040789,  0.06891011, -0.29818434,  0.20199707,\n",
       "        -0.48677056,  0.14805123, -0.41298299,  0.12030183, -0.43236072]])"
      ]
     },
     "execution_count": 178,
     "metadata": {},
     "output_type": "execute_result"
    }
   ],
   "source": [
    "optimized_theta[4]"
   ]
  },
  {
   "cell_type": "code",
   "execution_count": 177,
   "metadata": {},
   "outputs": [
    {
     "data": {
      "text/plain": [
       "array([[ 0.04049715, -0.22336956, -0.22591031,  0.10918379, -0.41543977,\n",
       "         0.08183025, -0.30040789,  0.06891011, -0.29818434,  0.20199707,\n",
       "        -0.48677056,  0.14805123, -0.41298299,  0.12030183, -0.43236072],\n",
       "       [-0.12904715,  0.71171551,  0.71982611, -0.34791984,  1.3237084 ,\n",
       "        -0.26075333,  0.95722171, -0.21958871,  0.95010333, -0.64367765,\n",
       "         1.55099418, -0.47177916,  1.3159229 , -0.38334635,  1.37762253]])"
      ]
     },
     "execution_count": 177,
     "metadata": {},
     "output_type": "execute_result"
    }
   ],
   "source": [
    "optimized_theta[0]"
   ]
  },
  {
   "cell_type": "code",
   "execution_count": 149,
   "metadata": {},
   "outputs": [
    {
     "data": {
      "text/plain": [
       "array([0, 0, 0, 0, 0, 0, 0, 0, 0, 0, 0, 0, 0, 0, 0, 0, 0, 0, 0, 0, 0, 0,\n",
       "       0, 0, 0, 0, 0, 0, 0, 0, 0, 0, 0, 0, 0, 0, 0, 0, 0, 0, 0, 0, 0, 0,\n",
       "       0, 0, 0, 0, 0, 0, 0, 0, 0, 0, 0, 0, 0, 0, 0, 0, 0, 0, 0, 0, 0, 0,\n",
       "       0, 0, 0, 0, 0, 0, 0, 0, 0, 0, 0, 0, 0, 0, 0, 0, 0, 0, 0, 0, 0, 0,\n",
       "       0, 0, 0, 0, 0, 0, 0, 0, 0, 0, 0, 0, 0, 0, 0, 0, 0, 0, 0, 0, 0, 0,\n",
       "       0, 0, 0, 0, 0, 0, 0, 0, 0, 0, 0, 0, 0, 0, 0, 0, 0, 0, 0, 0, 0, 0,\n",
       "       0, 0, 0, 0, 0, 0, 0, 0, 0, 0, 0, 0, 0, 0, 0, 0, 0, 0, 0, 0, 0, 0,\n",
       "       0, 0, 0, 0, 0, 0, 0, 0, 0, 0, 0, 0, 0, 0, 0, 0, 0, 0, 0, 0, 0, 0,\n",
       "       0, 0, 0, 0, 0, 0, 0, 0, 0, 0, 0, 0, 0, 0, 0, 0, 0, 0, 0, 0, 0, 0,\n",
       "       0, 0, 0, 0, 0, 0, 0, 0, 0, 0, 0, 0, 0, 0, 0, 0, 0, 0, 0, 0, 0, 0,\n",
       "       0, 0, 0, 0, 0, 0, 0, 0, 0, 0, 0, 0, 0, 0, 0, 0, 1, 1, 1, 1, 1, 1,\n",
       "       1, 1, 1, 1, 1, 1, 1, 1, 1, 1, 1, 1, 1, 1, 1, 1, 1, 1, 1, 1, 1, 1,\n",
       "       1, 1, 1, 1, 1, 1, 1, 1, 1, 1, 1, 1, 1, 1, 1, 1, 1, 1, 1, 1, 1, 1,\n",
       "       1, 1, 1, 1, 1, 1, 1, 1, 1, 1, 1, 1, 1, 1, 1, 1, 1, 1, 1, 1, 1, 1,\n",
       "       1, 1, 1, 1, 1, 1, 1, 1, 1, 1, 1, 1, 1, 1, 1, 1, 1, 1, 1, 1, 1, 1,\n",
       "       1, 1, 1, 1, 1, 1, 1, 1, 1, 1, 1, 1, 1, 1, 1, 1, 1, 1, 1, 1, 1, 1,\n",
       "       1, 1, 1, 1, 1, 1, 1, 1, 1, 1, 1, 1, 1, 1, 1, 1, 1, 1, 1, 1, 1, 1,\n",
       "       1, 1, 1, 1, 1, 1, 1, 1, 1, 1, 1, 1, 1, 1, 1, 1, 1, 1, 1, 1, 1, 1,\n",
       "       1, 1, 1, 1, 1, 1, 1, 1, 1, 1, 1, 1, 1, 1, 1, 1, 1, 1, 1, 1, 1, 1,\n",
       "       1, 1, 1, 1, 1, 1, 1, 1, 1, 1, 1, 1, 1, 1, 1, 1, 1, 1, 1, 1, 1, 1,\n",
       "       1, 1, 1, 1, 1, 1, 1, 1, 1, 1, 1, 1, 1, 1, 1, 1, 1, 1, 1, 1, 1, 1,\n",
       "       1, 1, 1, 1, 1, 1, 1, 1, 1, 1, 1, 1, 1, 1, 1, 1, 1, 1, 1, 1, 1, 1,\n",
       "       1, 1, 1, 1, 1, 1, 1, 1, 1, 1, 1, 1, 1, 1, 1, 1, 1, 1, 1, 1, 1, 1,\n",
       "       1, 1, 1, 1, 1, 1, 1, 1, 1, 1, 1, 1, 1, 1, 1, 1, 1, 1, 1, 1, 1, 1,\n",
       "       1, 1, 1, 1, 1, 1, 1, 1, 1, 1, 1, 1, 1, 1, 1, 1, 1, 1, 1, 1, 1, 1,\n",
       "       1, 1, 1, 1, 1, 1, 1, 1, 1, 1, 1, 1, 1, 1, 1, 1, 1, 1, 1, 1, 1, 1,\n",
       "       1, 1, 1, 1, 1, 1, 1, 1, 1, 1, 1, 1, 1, 1, 1, 1, 1, 1, 1, 1, 1, 1,\n",
       "       1, 1, 1, 1, 1, 1, 1, 1, 1, 1, 1, 1, 1, 1, 1, 1, 1, 1, 1, 1, 1, 1,\n",
       "       1, 1, 1, 1, 1, 1, 1, 1, 1, 1, 1, 1, 1, 1, 1, 1, 1, 1, 1, 1, 1, 1,\n",
       "       1, 1, 1, 1, 1, 1, 1, 1, 1, 1, 1, 1, 1, 1, 1, 1, 1, 1, 1, 1, 1, 1,\n",
       "       1, 1, 1, 1, 1, 1, 1, 1, 1, 1, 1, 1, 1, 1, 1, 1, 1, 1, 1, 1, 1, 1,\n",
       "       1, 1, 1, 1, 1, 1, 1, 1, 1, 1, 1, 1, 1, 1, 1, 1, 1, 1, 1, 1, 1, 1,\n",
       "       1, 1, 1, 1, 1, 1, 1, 1, 1, 1, 1, 1, 1, 1, 1, 1, 1, 1, 1, 1, 1, 1,\n",
       "       1, 1, 1, 1, 1, 1, 1, 1, 1, 1, 1, 1, 1, 1, 1, 1, 1, 1, 1, 1, 1, 1,\n",
       "       1, 1, 1, 1, 1, 1, 1, 1, 1, 1, 1, 1, 1, 1, 1, 1, 1, 1, 1, 1, 1, 1,\n",
       "       1, 1, 1, 1, 1, 1, 1, 1, 1, 1, 1, 1, 1, 1, 1, 1, 1, 1, 1, 1, 1, 1,\n",
       "       1, 1, 1, 1, 1, 1, 1, 1, 1, 1, 1, 1, 1, 1, 1, 1, 1, 1, 1, 1, 1, 1,\n",
       "       1, 1, 1, 1, 1, 1, 1, 1, 1, 1, 1, 1, 1, 1, 1, 1, 1, 1, 1, 1, 1, 1,\n",
       "       1, 1, 1, 1, 1, 1, 1, 1, 1, 1, 1, 1, 1, 1, 1, 1, 1, 1, 1, 1, 1, 1,\n",
       "       1, 1, 1, 1, 1, 1, 1, 1, 1, 1, 1, 1, 1, 1, 1, 1, 1, 1, 1, 1, 1, 1,\n",
       "       1, 1, 1, 1, 1, 1, 1, 1, 1, 1, 1, 1, 1, 1, 1, 1, 1, 1, 1, 1, 1, 1,\n",
       "       1, 1, 1, 1, 1, 1, 1, 1, 1, 1, 1, 1, 1, 1, 1, 1, 1, 1, 1, 1, 1, 1,\n",
       "       1, 1, 1, 1, 1, 1, 1, 1, 1, 1, 1, 1, 1, 1, 1, 1, 1, 1, 1, 1, 1, 1,\n",
       "       1, 1, 1, 1, 1, 1, 1, 1, 1, 1, 1, 1, 1, 1, 1, 1, 1, 1, 1, 1, 1, 1,\n",
       "       1, 1, 1, 1, 1, 1, 1, 1, 1, 1, 1, 1, 1, 1, 1, 1, 1, 1, 1, 1])"
      ]
     },
     "execution_count": 149,
     "metadata": {},
     "output_type": "execute_result"
    }
   ],
   "source": [
    "optimized_s[4]"
   ]
  },
  {
   "cell_type": "code",
   "execution_count": 117,
   "metadata": {},
   "outputs": [
    {
     "data": {
      "text/plain": [
       "array([0, 0, 0, 0, 0, 0, 0, 0, 0, 0, 0, 0, 0, 0, 0, 0, 0, 0, 0, 0, 0, 0,\n",
       "       0, 0, 0, 0, 0, 0, 0, 0, 0, 0, 0, 0, 0, 0, 0, 0, 0, 0, 0, 0, 0, 0,\n",
       "       0, 0, 0, 0, 0, 0, 0, 0, 0, 0, 0, 0, 0, 0, 0, 0, 0, 0, 0, 0, 0, 0,\n",
       "       0, 0, 0, 0, 0, 0, 0, 0, 0, 0, 0, 0, 0, 0, 0, 0, 0, 0, 0, 0, 0, 0,\n",
       "       0, 0, 0, 0, 0, 0, 0, 0, 0, 0, 0, 0, 0, 0, 0, 0, 0, 0, 0, 0, 0, 0,\n",
       "       0, 0, 0, 0, 0, 0, 0, 0, 0, 0, 0, 0, 0, 0, 0, 0, 0, 0, 0, 0, 0, 0,\n",
       "       0, 0, 0, 0, 0, 0, 0, 0, 0, 0, 0, 0, 0, 0, 0, 0, 0, 0, 0, 0, 0, 0,\n",
       "       0, 0, 0, 0, 0, 0, 0, 0, 0, 0, 0, 0, 0, 0, 0, 0, 0, 0, 0, 0, 0, 0,\n",
       "       0, 0, 0, 0, 0, 0, 0, 0, 0, 0, 0, 0, 0, 0, 0, 0, 0, 0, 0, 0, 0, 0,\n",
       "       0, 0, 0, 0, 0, 0, 0, 0, 0, 0, 0, 0, 0, 0, 0, 0, 0, 0, 0, 0, 0, 0,\n",
       "       0, 0, 0, 0, 0, 0, 0, 0, 0, 0, 0, 0, 0, 0, 0, 0, 1, 1, 1, 1, 1, 1,\n",
       "       1, 1, 1, 1, 1, 1, 1, 1, 1, 1, 1, 1, 1, 1, 1, 1, 1, 1, 1, 1, 1, 1,\n",
       "       1, 1, 1, 1, 1, 1, 1, 1, 1, 1, 1, 1, 1, 1, 1, 1, 1, 1, 1, 1, 1, 1,\n",
       "       1, 1, 1, 1, 1, 1, 1, 1, 1, 1, 1, 1, 1, 1, 1, 1, 1, 1, 1, 1, 1, 1,\n",
       "       1, 1, 1, 1, 1, 1, 1, 1, 1, 1, 1, 1, 1, 1, 1, 1, 1, 1, 1, 1, 1, 1,\n",
       "       1, 1, 1, 1, 1, 1, 1, 1, 1, 1, 1, 1, 1, 1, 1, 1, 1, 1, 1, 1, 1, 1,\n",
       "       1, 1, 1, 1, 1, 1, 1, 1, 1, 1, 1, 1, 1, 1, 1, 1, 1, 1, 1, 1, 1, 1,\n",
       "       1, 1, 1, 1, 1, 1, 1, 1, 1, 1, 1, 1, 1, 1, 1, 1, 1, 1, 1, 1, 1, 1,\n",
       "       1, 1, 1, 1, 1, 1, 1, 1, 1, 1, 1, 1, 1, 1, 1, 1, 1, 1, 1, 1, 1, 1,\n",
       "       1, 1, 1, 1, 1, 1, 1, 1, 1, 1, 1, 1, 1, 1, 1, 1, 1, 1, 1, 1, 1, 1,\n",
       "       1, 1, 1, 1, 1, 1, 1, 1, 1, 1, 1, 1, 1, 1, 1, 1, 1, 1, 1, 1, 1, 1,\n",
       "       1, 1, 1, 1, 1, 1, 1, 1, 1, 1, 1, 1, 1, 1, 1, 1, 1, 1, 1, 1, 1, 1,\n",
       "       1, 1, 1, 1, 1, 1, 1, 1, 1, 1, 1, 1, 1, 1, 1, 1, 1, 1, 1, 1, 1, 1,\n",
       "       1, 1, 1, 1, 1, 1, 1, 1, 1, 1, 1, 1, 1, 1, 1, 1, 1, 1, 1, 1, 1, 1,\n",
       "       1, 1, 1, 1, 1, 1, 1, 1, 1, 1, 1, 1, 1, 1, 1, 1, 1, 1, 1, 1, 1, 1,\n",
       "       1, 1, 1, 1, 1, 1, 1, 1, 1, 1, 1, 1, 1, 1, 1, 1, 1, 1, 1, 1, 1, 1,\n",
       "       1, 1, 1, 1, 1, 1, 1, 1, 1, 1, 1, 1, 1, 1, 1, 1, 1, 1, 1, 1, 1, 1,\n",
       "       1, 1, 1, 1, 1, 1, 1, 1, 1, 1, 1, 1, 1, 1, 1, 1, 1, 1, 1, 1, 1, 1,\n",
       "       1, 1, 1, 1, 1, 1, 1, 1, 1, 1, 1, 1, 1, 1, 1, 1, 1, 1, 1, 1, 1, 1,\n",
       "       1, 1, 1, 1, 1, 1, 1, 1, 1, 1, 1, 1, 1, 1, 1, 1, 1, 1, 1, 1, 1, 1,\n",
       "       1, 1, 1, 1, 1, 1, 1, 1, 1, 1, 1, 1, 1, 1, 1, 1, 1, 1, 1, 1, 1, 1,\n",
       "       1, 1, 1, 1, 1, 1, 1, 1, 1, 1, 1, 1, 1, 1, 1, 1, 1, 1, 1, 1, 1, 1,\n",
       "       1, 1, 1, 1, 1, 1, 1, 1, 1, 1, 1, 1, 1, 1, 1, 1, 1, 1, 1, 1, 1, 1,\n",
       "       1, 1, 1, 1, 1, 1, 1, 1, 1, 1, 1, 1, 1, 1, 1, 1, 1, 1, 1, 1, 1, 1,\n",
       "       1, 1, 1, 1, 1, 1, 1, 1, 1, 1, 1, 1, 1, 1, 1, 1, 1, 1, 1, 1, 1, 1,\n",
       "       1, 1, 1, 1, 1, 1, 1, 1, 1, 1, 1, 1, 1, 1, 1, 1, 1, 1, 1, 1, 1, 1,\n",
       "       1, 1, 1, 1, 1, 1, 1, 1, 1, 1, 1, 1, 1, 1, 1, 1, 1, 1, 1, 1, 1, 1,\n",
       "       1, 1, 1, 1, 1, 1, 1, 1, 1, 1, 1, 1, 1, 1, 1, 1, 1, 1, 1, 1, 1, 1,\n",
       "       1, 1, 1, 1, 1, 1, 1, 1, 1, 1, 1, 1, 1, 1, 1, 1, 1, 1, 1, 1, 1, 1,\n",
       "       1, 1, 1, 1, 1, 1, 1, 1, 1, 1, 1, 1, 1, 1, 1, 1, 1, 1, 1, 1, 1, 1,\n",
       "       1, 1, 1, 1, 1, 1, 1, 1, 1, 1, 1, 1, 1, 1, 1, 1, 1, 1, 1, 1, 1, 1,\n",
       "       1, 1, 1, 1, 1, 1, 1, 1, 1, 1, 1, 1, 1, 1, 1, 1, 1, 1, 1, 1, 1, 1,\n",
       "       1, 1, 1, 1, 1, 1, 1, 1, 1, 1, 1, 1, 1, 1, 1, 1, 1, 1, 1, 1, 1, 1,\n",
       "       1, 1, 1, 1, 1, 1, 1, 1, 1, 1, 1, 1, 1, 1, 1, 1, 1, 1, 1, 1, 1, 1,\n",
       "       1, 1, 1, 1, 1, 1, 1, 1, 1, 1, 1, 1, 1, 1, 1, 1, 1, 1, 1, 1])"
      ]
     },
     "execution_count": 117,
     "metadata": {},
     "output_type": "execute_result"
    }
   ],
   "source": [
    "optimized_s[2]"
   ]
  },
  {
   "cell_type": "code",
   "execution_count": 112,
   "metadata": {},
   "outputs": [
    {
     "data": {
      "text/plain": [
       "array([1, 1, 1, 1, 1, 1, 1, 1, 1, 1, 1, 1, 1, 1, 1, 1, 1, 1, 1, 1, 1, 1,\n",
       "       1, 1, 1, 1, 1, 1, 1, 1, 1, 1, 1, 1, 1, 1, 1, 1, 1, 1, 1, 1, 1, 1,\n",
       "       1, 1, 1, 1, 1, 1, 1, 1, 1, 1, 1, 1, 1, 1, 1, 1, 1, 1, 1, 1, 1, 1,\n",
       "       1, 1, 1, 1, 1, 1, 1, 1, 1, 1, 1, 1, 1, 1, 1, 1, 1, 1, 1, 1, 1, 1,\n",
       "       1, 1, 1, 1, 1, 1, 1, 1, 1, 1, 1, 1, 1, 1, 1, 1, 1, 1, 1, 1, 1, 1,\n",
       "       1, 1, 1, 1, 1, 1, 1, 1, 1, 1, 1, 1, 1, 1, 1, 1, 1, 1, 1, 1, 1, 1,\n",
       "       1, 1, 1, 1, 1, 1, 1, 1, 1, 1, 1, 1, 1, 1, 1, 1, 1, 1, 1, 1, 1, 1,\n",
       "       1, 1, 1, 1, 1, 1, 1, 1, 1, 1, 1, 1, 1, 1, 1, 1, 1, 1, 1, 1, 1, 1,\n",
       "       1, 1, 1, 1, 1, 1, 1, 1, 1, 1, 1, 1, 1, 1, 1, 1, 1, 1, 1, 1, 1, 1,\n",
       "       1, 1, 1, 1, 1, 1, 1, 1, 1, 1, 1, 1, 1, 1, 1, 1, 1, 1, 1, 1, 1, 1,\n",
       "       1, 1, 1, 1, 1, 1, 1, 1, 1, 1, 1, 1, 1, 1, 1, 1, 0, 0, 0, 0, 0, 0,\n",
       "       0, 0, 0, 0, 0, 0, 0, 0, 0, 0, 0, 0, 0, 0, 0, 0, 0, 0, 0, 0, 0, 0,\n",
       "       0, 0, 0, 0, 0, 0, 0, 0, 0, 0, 0, 0, 0, 0, 0, 0, 0, 0, 0, 0, 0, 0,\n",
       "       0, 0, 0, 0, 0, 0, 0, 0, 0, 0, 0, 0, 0, 0, 0, 0, 0, 0, 0, 0, 0, 0,\n",
       "       0, 0, 0, 0, 0, 0, 0, 0, 0, 0, 0, 0, 0, 0, 0, 0, 0, 0, 0, 0, 0, 0,\n",
       "       0, 0, 0, 0, 0, 0, 0, 0, 0, 0, 0, 0, 0, 0, 0, 0, 0, 0, 0, 0, 0, 0,\n",
       "       0, 0, 0, 0, 0, 0, 0, 0, 0, 0, 0, 0, 0, 0, 0, 0, 0, 0, 0, 0, 0, 0,\n",
       "       0, 0, 0, 0, 0, 0, 0, 0, 0, 0, 0, 0, 0, 0, 0, 0, 0, 0, 0, 0, 0, 0,\n",
       "       0, 0, 0, 0, 0, 0, 0, 0, 0, 0, 0, 0, 0, 0, 0, 0, 0, 0, 0, 0, 0, 0,\n",
       "       0, 0, 0, 0, 0, 0, 0, 0, 0, 0, 0, 0, 0, 0, 0, 0, 0, 0, 0, 0, 0, 0,\n",
       "       0, 0, 0, 0, 0, 0, 0, 0, 0, 0, 0, 0, 0, 0, 0, 0, 0, 0, 0, 0, 0, 0,\n",
       "       0, 0, 0, 0, 0, 0, 0, 0, 0, 0, 0, 0, 0, 0, 0, 0, 0, 0, 0, 0, 0, 0,\n",
       "       0, 0, 0, 0, 0, 0, 0, 0, 0, 0, 0, 0, 0, 0, 0, 0, 0, 0, 0, 0, 0, 0,\n",
       "       0, 0, 0, 0, 0, 0, 0, 0, 0, 0, 0, 0, 0, 0, 0, 0, 0, 0, 0, 0, 0, 0,\n",
       "       0, 0, 0, 0, 0, 0, 0, 0, 0, 0, 0, 0, 0, 0, 0, 0, 0, 0, 0, 0, 0, 0,\n",
       "       0, 0, 0, 0, 0, 0, 0, 0, 0, 0, 0, 0, 0, 0, 0, 0, 0, 0, 0, 0, 0, 0,\n",
       "       0, 0, 0, 0, 0, 0, 0, 0, 0, 0, 0, 0, 0, 0, 0, 0, 0, 0, 0, 0, 0, 0,\n",
       "       0, 0, 0, 0, 0, 0, 0, 0, 0, 0, 0, 0, 0, 0, 0, 0, 0, 0, 0, 0, 0, 0,\n",
       "       0, 0, 0, 0, 0, 0, 0, 0, 0, 0, 0, 0, 0, 0, 0, 0, 0, 0, 0, 0, 0, 0,\n",
       "       0, 0, 0, 0, 0, 0, 0, 0, 0, 0, 0, 0, 0, 0, 0, 0, 0, 0, 0, 0, 0, 0,\n",
       "       0, 0, 0, 0, 0, 0, 0, 0, 0, 0, 0, 0, 0, 0, 0, 0, 0, 0, 0, 0, 0, 0,\n",
       "       0, 0, 0, 0, 0, 0, 0, 0, 0, 0, 0, 0, 0, 0, 0, 0, 0, 0, 0, 0, 0, 0,\n",
       "       0, 0, 0, 0, 0, 0, 0, 0, 0, 0, 0, 0, 0, 0, 0, 0, 0, 0, 0, 0, 0, 0,\n",
       "       0, 0, 0, 0, 0, 0, 0, 0, 0, 0, 0, 0, 0, 0, 0, 0, 0, 0, 0, 0, 0, 0,\n",
       "       0, 0, 0, 0, 0, 0, 0, 0, 0, 0, 0, 0, 0, 0, 0, 0, 0, 0, 0, 0, 0, 0,\n",
       "       0, 0, 0, 0, 0, 0, 0, 0, 0, 0, 0, 0, 0, 0, 0, 0, 0, 0, 0, 0, 0, 0,\n",
       "       0, 0, 0, 0, 0, 0, 0, 0, 0, 0, 0, 0, 0, 0, 0, 0, 0, 0, 0, 0, 0, 0,\n",
       "       0, 0, 0, 0, 0, 0, 0, 0, 0, 0, 0, 0, 0, 0, 0, 0, 0, 0, 0, 0, 0, 0,\n",
       "       0, 0, 0, 0, 0, 0, 0, 0, 0, 0, 0, 0, 0, 0, 0, 0, 0, 0, 0, 0, 0, 0,\n",
       "       0, 0, 0, 0, 0, 0, 0, 0, 0, 0, 0, 0, 0, 0, 0, 0, 0, 0, 0, 0, 0, 0,\n",
       "       0, 0, 0, 0, 0, 0, 0, 0, 0, 0, 0, 0, 0, 0, 0, 0, 0, 0, 0, 0, 0, 0,\n",
       "       0, 0, 0, 0, 0, 0, 0, 0, 0, 0, 0, 0, 0, 0, 0, 0, 0, 0, 0, 0, 0, 0,\n",
       "       0, 0, 0, 0, 0, 0, 0, 0, 0, 0, 0, 0, 0, 0, 0, 0, 0, 0, 0, 0, 0, 0,\n",
       "       0, 0, 0, 0, 0, 0, 0, 0, 0, 0, 0, 0, 0, 0, 0, 0, 0, 0, 0, 0, 0, 0,\n",
       "       0, 0, 0, 0, 0, 0, 0, 0, 0, 0, 0, 0, 0, 0, 0, 0, 0, 0, 0, 0])"
      ]
     },
     "execution_count": 112,
     "metadata": {},
     "output_type": "execute_result"
    }
   ],
   "source": [
    "cur_s"
   ]
  },
  {
   "cell_type": "markdown",
   "metadata": {},
   "source": [
    "## Fixed Parameters"
   ]
  },
  {
   "cell_type": "code",
   "execution_count": 33,
   "metadata": {},
   "outputs": [],
   "source": [
    "# state_choices = [0, 1]\n",
    "# T = 10\n",
    "# n_features = 2\n",
    "# y = np.random.randint(0, 100, (T, n_features))\n",
    "# theta = np.random.randint(0, 100, (len(state_choices), n_features))\n",
    "\n",
    "\n",
    "# # s is the target state sequence we want to optimize\n",
    "# # b = cp.Variable((T, len(state_choices)), boolean=True)\n",
    "# # s = [cp.sum(b[i, :]) for i in range(T)]\n",
    "# # constraints = [cp.sum(b[i, :]) == 1 for i in range(T)]\n",
    "# s = cp.Variable(T, integer=True)\n",
    "\n",
    "# constraints = [s[i] >= 0 for i in range(T)]\n",
    "# constraints += [s[i] <= len(state_choices) - 1 for i in range(T)]\n",
    "\n",
    "# # penalty for switching states\n",
    "# lambda_ = cp.Parameter(nonneg=True)\n",
    "# lambda_.value = 1\n",
    "# loss = cp.sum([0.5 * cp.norm2(y[i, :] - theta[s[i], :]) ** 2 for i in range(T)])\n",
    "# num_diff = cp.sum([cp.abs(s[i] - s[i + 1]) for i in range(T - 1)])\n",
    "# state_swith_penalty = lambda_ * num_diff\n",
    "\n",
    "# objective = cp.Minimize(loss + state_swith_penalty)\n",
    "# prob = cp.Problem(objective, constraints)\n",
    "# prob.solve()"
   ]
  }
 ],
 "metadata": {
  "kernelspec": {
   "display_name": "Python 3",
   "language": "python",
   "name": "python3"
  },
  "language_info": {
   "codemirror_mode": {
    "name": "ipython",
    "version": 3
   },
   "file_extension": ".py",
   "mimetype": "text/x-python",
   "name": "python",
   "nbconvert_exporter": "python",
   "pygments_lexer": "ipython3",
   "version": "3.10.4"
  },
  "orig_nbformat": 4
 },
 "nbformat": 4,
 "nbformat_minor": 2
}
